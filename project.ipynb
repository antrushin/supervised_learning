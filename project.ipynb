{
 "cells": [
  {
   "cell_type": "markdown",
   "metadata": {
    "id": "tmZDaDjGjD50"
   },
   "source": [
    "## Краткое описание проекта и расшифровка столбцов"
   ]
  },
  {
   "cell_type": "markdown",
   "metadata": {},
   "source": [
    "Из банка стали уходить клиенты. Немного, но заметно. Из расчетов известно, что сохранять текущих клиентов дешевле, чем привлекать новых.\n",
    "\n",
    "Нужно спрогнозировать, уйдет клиент из банка в ближайшее время или нет. Представлены исторические данные о поведении клиентов и расторжении договоров с банком.\n",
    "\n",
    "Расшифровка названий столбцов:\n",
    "\n",
    "**Признаки**\n",
    "\n",
    "\n",
    "* RowNumber — индекс строки в данных\n",
    "* CustomerId — уникальный идентификатор клиента\n",
    "* Surname — фамилия\n",
    "* CreditScore — кредитный рейтинг\n",
    "* Geography — страна проживания\n",
    "* Gender — пол\n",
    "* Age — возраст\n",
    "* Tenure — сколько лет человек является клиентом банка\n",
    "* Balance — баланс на счёте\n",
    "* NumOfProducts — количество продуктов банка, используемых клиентом\n",
    "* HasCrCard — наличие кредитной карты\n",
    "* IsActiveMember — активность клиента\n",
    "* EstimatedSalary — предполагаемая зарплата\n",
    "\n",
    "**Целевой признак**\n",
    "\n",
    "* Exited — факт ухода клиента"
   ]
  },
  {
   "cell_type": "markdown",
   "metadata": {},
   "source": [
    "Выполним обновление существующих библиотек и установку отсутствующих"
   ]
  },
  {
   "cell_type": "code",
   "execution_count": 1,
   "metadata": {
    "scrolled": true
   },
   "outputs": [
    {
     "name": "stdout",
     "output_type": "stream",
     "text": [
      "Collecting scikit-learn\n",
      "  Downloading scikit_learn-1.0.1-cp38-cp38-win_amd64.whl (7.2 MB)\n",
      "Requirement already satisfied, skipping upgrade: threadpoolctl>=2.0.0 in c:\\users\\atrus\\anaconda3\\lib\\site-packages (from scikit-learn) (2.1.0)\n",
      "Requirement already satisfied, skipping upgrade: scipy>=1.1.0 in c:\\users\\atrus\\anaconda3\\lib\\site-packages (from scikit-learn) (1.5.2)\n",
      "Requirement already satisfied, skipping upgrade: numpy>=1.14.6 in c:\\users\\atrus\\anaconda3\\lib\\site-packages (from scikit-learn) (1.19.2)\n",
      "Requirement already satisfied, skipping upgrade: joblib>=0.11 in c:\\users\\atrus\\anaconda3\\lib\\site-packages (from scikit-learn) (0.17.0)\n",
      "Installing collected packages: scikit-learn\n",
      "  Attempting uninstall: scikit-learn\n",
      "    Found existing installation: scikit-learn 0.23.2\n",
      "    Uninstalling scikit-learn-0.23.2:\n",
      "      Successfully uninstalled scikit-learn-0.23.2\n",
      "Successfully installed scikit-learn-1.0.1\n",
      "Collecting seaborn\n",
      "  Downloading seaborn-0.11.2-py3-none-any.whl (292 kB)\n",
      "Requirement already satisfied, skipping upgrade: scipy>=1.0 in c:\\users\\atrus\\anaconda3\\lib\\site-packages (from seaborn) (1.5.2)\n",
      "Requirement already satisfied, skipping upgrade: matplotlib>=2.2 in c:\\users\\atrus\\anaconda3\\lib\\site-packages (from seaborn) (3.3.2)\n",
      "Requirement already satisfied, skipping upgrade: numpy>=1.15 in c:\\users\\atrus\\anaconda3\\lib\\site-packages (from seaborn) (1.19.2)\n",
      "Requirement already satisfied, skipping upgrade: pandas>=0.23 in c:\\users\\atrus\\anaconda3\\lib\\site-packages (from seaborn) (1.1.3)\n",
      "Requirement already satisfied, skipping upgrade: certifi>=2020.06.20 in c:\\users\\atrus\\anaconda3\\lib\\site-packages (from matplotlib>=2.2->seaborn) (2020.6.20)\n",
      "Requirement already satisfied, skipping upgrade: pyparsing!=2.0.4,!=2.1.2,!=2.1.6,>=2.0.3 in c:\\users\\atrus\\anaconda3\\lib\\site-packages (from matplotlib>=2.2->seaborn) (2.4.7)\n",
      "Requirement already satisfied, skipping upgrade: kiwisolver>=1.0.1 in c:\\users\\atrus\\anaconda3\\lib\\site-packages (from matplotlib>=2.2->seaborn) (1.3.0)\n",
      "Requirement already satisfied, skipping upgrade: cycler>=0.10 in c:\\users\\atrus\\anaconda3\\lib\\site-packages (from matplotlib>=2.2->seaborn) (0.10.0)\n",
      "Requirement already satisfied, skipping upgrade: pillow>=6.2.0 in c:\\users\\atrus\\anaconda3\\lib\\site-packages (from matplotlib>=2.2->seaborn) (8.0.1)\n",
      "Requirement already satisfied, skipping upgrade: python-dateutil>=2.1 in c:\\users\\atrus\\anaconda3\\lib\\site-packages (from matplotlib>=2.2->seaborn) (2.8.1)\n",
      "Requirement already satisfied, skipping upgrade: pytz>=2017.2 in c:\\users\\atrus\\anaconda3\\lib\\site-packages (from pandas>=0.23->seaborn) (2020.1)\n",
      "Requirement already satisfied, skipping upgrade: six in c:\\users\\atrus\\anaconda3\\lib\\site-packages (from cycler>=0.10->matplotlib>=2.2->seaborn) (1.15.0)\n",
      "Installing collected packages: seaborn\n",
      "  Attempting uninstall: seaborn\n",
      "    Found existing installation: seaborn 0.11.0\n",
      "    Uninstalling seaborn-0.11.0:\n",
      "      Successfully uninstalled seaborn-0.11.0\n",
      "Successfully installed seaborn-0.11.2\n",
      "Requirement already satisfied: hyperopt in c:\\users\\atrus\\anaconda3\\lib\\site-packages (0.2.7)\n",
      "Requirement already satisfied: networkx>=2.2 in c:\\users\\atrus\\anaconda3\\lib\\site-packages (from hyperopt) (2.5)\n",
      "Requirement already satisfied: numpy in c:\\users\\atrus\\anaconda3\\lib\\site-packages (from hyperopt) (1.19.2)\n",
      "Requirement already satisfied: py4j in c:\\users\\atrus\\anaconda3\\lib\\site-packages (from hyperopt) (0.10.9.3)\n",
      "Requirement already satisfied: tqdm in c:\\users\\atrus\\anaconda3\\lib\\site-packages (from hyperopt) (4.50.2)\n",
      "Requirement already satisfied: cloudpickle in c:\\users\\atrus\\anaconda3\\lib\\site-packages (from hyperopt) (1.6.0)\n",
      "Requirement already satisfied: future in c:\\users\\atrus\\anaconda3\\lib\\site-packages (from hyperopt) (0.18.2)\n",
      "Requirement already satisfied: scipy in c:\\users\\atrus\\anaconda3\\lib\\site-packages (from hyperopt) (1.5.2)\n",
      "Requirement already satisfied: six in c:\\users\\atrus\\anaconda3\\lib\\site-packages (from hyperopt) (1.15.0)\n",
      "Requirement already satisfied: decorator>=4.3.0 in c:\\users\\atrus\\anaconda3\\lib\\site-packages (from networkx>=2.2->hyperopt) (4.4.2)\n"
     ]
    }
   ],
   "source": [
    "!pip install scikit-learn -U\n",
    "!pip install seaborn -U\n",
    "!pip install hyperopt"
   ]
  },
  {
   "cell_type": "markdown",
   "metadata": {},
   "source": [
    "Выполним импорт библиотек, которые будем использовать в работе"
   ]
  },
  {
   "cell_type": "code",
   "execution_count": 3,
   "metadata": {},
   "outputs": [],
   "source": [
    "import pandas as pd\n",
    "import numpy as np\n",
    "\n",
    "import matplotlib.pyplot as plt\n",
    "import seaborn as sns\n",
    "\n",
    "from sklearn.utils import shuffle\n",
    "from hyperopt.pyll.base import scope\n",
    "from functools import partial\n",
    "from hyperopt import hp, fmin, tpe, Trials, STATUS_OK, space_eval\n",
    "from sklearn.preprocessing import OneHotEncoder, StandardScaler\n",
    "from sklearn.pipeline import Pipeline\n",
    "from sklearn.metrics import roc_auc_score, f1_score\n",
    "from sklearn.tree import DecisionTreeClassifier\n",
    "from sklearn.linear_model import LogisticRegression\n",
    "from sklearn.ensemble import RandomForestClassifier\n",
    "from sklearn.model_selection import train_test_split, StratifiedKFold, cross_val_score\n",
    "\n",
    "from sklearn.compose import ColumnTransformer\n",
    "\n",
    "pd.set_option('display.float_format', lambda x: '%.3f' % x)\n",
    "pd.set_option('display.max_rows', 100)\n",
    "\n",
    "sns.set(style=\"darkgrid\")"
   ]
  },
  {
   "cell_type": "markdown",
   "metadata": {
    "id": "ABijQa16jbho"
   },
   "source": [
    "## Загрузка данных и просмотр"
   ]
  },
  {
   "cell_type": "code",
   "execution_count": 4,
   "metadata": {
    "colab": {
     "base_uri": "https://localhost:8080/",
     "height": 414
    },
    "id": "0HcHJPzFjO2w",
    "outputId": "5f61ba14-e700-4729-f05e-f06d7f38186b"
   },
   "outputs": [
    {
     "data": {
      "text/html": [
       "<div>\n",
       "<style scoped>\n",
       "    .dataframe tbody tr th:only-of-type {\n",
       "        vertical-align: middle;\n",
       "    }\n",
       "\n",
       "    .dataframe tbody tr th {\n",
       "        vertical-align: top;\n",
       "    }\n",
       "\n",
       "    .dataframe thead th {\n",
       "        text-align: right;\n",
       "    }\n",
       "</style>\n",
       "<table border=\"1\" class=\"dataframe\">\n",
       "  <thead>\n",
       "    <tr style=\"text-align: right;\">\n",
       "      <th></th>\n",
       "      <th>RowNumber</th>\n",
       "      <th>CustomerId</th>\n",
       "      <th>Surname</th>\n",
       "      <th>CreditScore</th>\n",
       "      <th>Geography</th>\n",
       "      <th>Gender</th>\n",
       "      <th>Age</th>\n",
       "      <th>Tenure</th>\n",
       "      <th>Balance</th>\n",
       "      <th>NumOfProducts</th>\n",
       "      <th>HasCrCard</th>\n",
       "      <th>IsActiveMember</th>\n",
       "      <th>EstimatedSalary</th>\n",
       "      <th>Exited</th>\n",
       "    </tr>\n",
       "  </thead>\n",
       "  <tbody>\n",
       "    <tr>\n",
       "      <th>0</th>\n",
       "      <td>1</td>\n",
       "      <td>15634602</td>\n",
       "      <td>Hargrave</td>\n",
       "      <td>619</td>\n",
       "      <td>France</td>\n",
       "      <td>Female</td>\n",
       "      <td>42</td>\n",
       "      <td>2.000</td>\n",
       "      <td>0.000</td>\n",
       "      <td>1</td>\n",
       "      <td>1</td>\n",
       "      <td>1</td>\n",
       "      <td>101348.880</td>\n",
       "      <td>1</td>\n",
       "    </tr>\n",
       "    <tr>\n",
       "      <th>1</th>\n",
       "      <td>2</td>\n",
       "      <td>15647311</td>\n",
       "      <td>Hill</td>\n",
       "      <td>608</td>\n",
       "      <td>Spain</td>\n",
       "      <td>Female</td>\n",
       "      <td>41</td>\n",
       "      <td>1.000</td>\n",
       "      <td>83807.860</td>\n",
       "      <td>1</td>\n",
       "      <td>0</td>\n",
       "      <td>1</td>\n",
       "      <td>112542.580</td>\n",
       "      <td>0</td>\n",
       "    </tr>\n",
       "    <tr>\n",
       "      <th>2</th>\n",
       "      <td>3</td>\n",
       "      <td>15619304</td>\n",
       "      <td>Onio</td>\n",
       "      <td>502</td>\n",
       "      <td>France</td>\n",
       "      <td>Female</td>\n",
       "      <td>42</td>\n",
       "      <td>8.000</td>\n",
       "      <td>159660.800</td>\n",
       "      <td>3</td>\n",
       "      <td>1</td>\n",
       "      <td>0</td>\n",
       "      <td>113931.570</td>\n",
       "      <td>1</td>\n",
       "    </tr>\n",
       "    <tr>\n",
       "      <th>3</th>\n",
       "      <td>4</td>\n",
       "      <td>15701354</td>\n",
       "      <td>Boni</td>\n",
       "      <td>699</td>\n",
       "      <td>France</td>\n",
       "      <td>Female</td>\n",
       "      <td>39</td>\n",
       "      <td>1.000</td>\n",
       "      <td>0.000</td>\n",
       "      <td>2</td>\n",
       "      <td>0</td>\n",
       "      <td>0</td>\n",
       "      <td>93826.630</td>\n",
       "      <td>0</td>\n",
       "    </tr>\n",
       "    <tr>\n",
       "      <th>4</th>\n",
       "      <td>5</td>\n",
       "      <td>15737888</td>\n",
       "      <td>Mitchell</td>\n",
       "      <td>850</td>\n",
       "      <td>Spain</td>\n",
       "      <td>Female</td>\n",
       "      <td>43</td>\n",
       "      <td>2.000</td>\n",
       "      <td>125510.820</td>\n",
       "      <td>1</td>\n",
       "      <td>1</td>\n",
       "      <td>1</td>\n",
       "      <td>79084.100</td>\n",
       "      <td>0</td>\n",
       "    </tr>\n",
       "    <tr>\n",
       "      <th>...</th>\n",
       "      <td>...</td>\n",
       "      <td>...</td>\n",
       "      <td>...</td>\n",
       "      <td>...</td>\n",
       "      <td>...</td>\n",
       "      <td>...</td>\n",
       "      <td>...</td>\n",
       "      <td>...</td>\n",
       "      <td>...</td>\n",
       "      <td>...</td>\n",
       "      <td>...</td>\n",
       "      <td>...</td>\n",
       "      <td>...</td>\n",
       "      <td>...</td>\n",
       "    </tr>\n",
       "    <tr>\n",
       "      <th>9995</th>\n",
       "      <td>9996</td>\n",
       "      <td>15606229</td>\n",
       "      <td>Obijiaku</td>\n",
       "      <td>771</td>\n",
       "      <td>France</td>\n",
       "      <td>Male</td>\n",
       "      <td>39</td>\n",
       "      <td>5.000</td>\n",
       "      <td>0.000</td>\n",
       "      <td>2</td>\n",
       "      <td>1</td>\n",
       "      <td>0</td>\n",
       "      <td>96270.640</td>\n",
       "      <td>0</td>\n",
       "    </tr>\n",
       "    <tr>\n",
       "      <th>9996</th>\n",
       "      <td>9997</td>\n",
       "      <td>15569892</td>\n",
       "      <td>Johnstone</td>\n",
       "      <td>516</td>\n",
       "      <td>France</td>\n",
       "      <td>Male</td>\n",
       "      <td>35</td>\n",
       "      <td>10.000</td>\n",
       "      <td>57369.610</td>\n",
       "      <td>1</td>\n",
       "      <td>1</td>\n",
       "      <td>1</td>\n",
       "      <td>101699.770</td>\n",
       "      <td>0</td>\n",
       "    </tr>\n",
       "    <tr>\n",
       "      <th>9997</th>\n",
       "      <td>9998</td>\n",
       "      <td>15584532</td>\n",
       "      <td>Liu</td>\n",
       "      <td>709</td>\n",
       "      <td>France</td>\n",
       "      <td>Female</td>\n",
       "      <td>36</td>\n",
       "      <td>7.000</td>\n",
       "      <td>0.000</td>\n",
       "      <td>1</td>\n",
       "      <td>0</td>\n",
       "      <td>1</td>\n",
       "      <td>42085.580</td>\n",
       "      <td>1</td>\n",
       "    </tr>\n",
       "    <tr>\n",
       "      <th>9998</th>\n",
       "      <td>9999</td>\n",
       "      <td>15682355</td>\n",
       "      <td>Sabbatini</td>\n",
       "      <td>772</td>\n",
       "      <td>Germany</td>\n",
       "      <td>Male</td>\n",
       "      <td>42</td>\n",
       "      <td>3.000</td>\n",
       "      <td>75075.310</td>\n",
       "      <td>2</td>\n",
       "      <td>1</td>\n",
       "      <td>0</td>\n",
       "      <td>92888.520</td>\n",
       "      <td>1</td>\n",
       "    </tr>\n",
       "    <tr>\n",
       "      <th>9999</th>\n",
       "      <td>10000</td>\n",
       "      <td>15628319</td>\n",
       "      <td>Walker</td>\n",
       "      <td>792</td>\n",
       "      <td>France</td>\n",
       "      <td>Female</td>\n",
       "      <td>28</td>\n",
       "      <td>nan</td>\n",
       "      <td>130142.790</td>\n",
       "      <td>1</td>\n",
       "      <td>1</td>\n",
       "      <td>0</td>\n",
       "      <td>38190.780</td>\n",
       "      <td>0</td>\n",
       "    </tr>\n",
       "  </tbody>\n",
       "</table>\n",
       "<p>10000 rows × 14 columns</p>\n",
       "</div>"
      ],
      "text/plain": [
       "      RowNumber  CustomerId    Surname  CreditScore Geography  Gender  Age  \\\n",
       "0             1    15634602   Hargrave          619    France  Female   42   \n",
       "1             2    15647311       Hill          608     Spain  Female   41   \n",
       "2             3    15619304       Onio          502    France  Female   42   \n",
       "3             4    15701354       Boni          699    France  Female   39   \n",
       "4             5    15737888   Mitchell          850     Spain  Female   43   \n",
       "...         ...         ...        ...          ...       ...     ...  ...   \n",
       "9995       9996    15606229   Obijiaku          771    France    Male   39   \n",
       "9996       9997    15569892  Johnstone          516    France    Male   35   \n",
       "9997       9998    15584532        Liu          709    France  Female   36   \n",
       "9998       9999    15682355  Sabbatini          772   Germany    Male   42   \n",
       "9999      10000    15628319     Walker          792    France  Female   28   \n",
       "\n",
       "      Tenure    Balance  NumOfProducts  HasCrCard  IsActiveMember  \\\n",
       "0      2.000      0.000              1          1               1   \n",
       "1      1.000  83807.860              1          0               1   \n",
       "2      8.000 159660.800              3          1               0   \n",
       "3      1.000      0.000              2          0               0   \n",
       "4      2.000 125510.820              1          1               1   \n",
       "...      ...        ...            ...        ...             ...   \n",
       "9995   5.000      0.000              2          1               0   \n",
       "9996  10.000  57369.610              1          1               1   \n",
       "9997   7.000      0.000              1          0               1   \n",
       "9998   3.000  75075.310              2          1               0   \n",
       "9999     nan 130142.790              1          1               0   \n",
       "\n",
       "      EstimatedSalary  Exited  \n",
       "0          101348.880       1  \n",
       "1          112542.580       0  \n",
       "2          113931.570       1  \n",
       "3           93826.630       0  \n",
       "4           79084.100       0  \n",
       "...               ...     ...  \n",
       "9995        96270.640       0  \n",
       "9996       101699.770       0  \n",
       "9997        42085.580       1  \n",
       "9998        92888.520       1  \n",
       "9999        38190.780       0  \n",
       "\n",
       "[10000 rows x 14 columns]"
      ]
     },
     "metadata": {},
     "output_type": "display_data"
    }
   ],
   "source": [
    "df = pd.read_csv('https://code.s3.yandex.net/datasets/Churn.csv')\n",
    "display(df)"
   ]
  },
  {
   "cell_type": "code",
   "execution_count": 5,
   "metadata": {
    "colab": {
     "base_uri": "https://localhost:8080/"
    },
    "id": "mM-FC5wDjWkA",
    "outputId": "cde92c0d-1a85-4b1e-8c46-986879ffb349"
   },
   "outputs": [
    {
     "name": "stdout",
     "output_type": "stream",
     "text": [
      "<class 'pandas.core.frame.DataFrame'>\n",
      "RangeIndex: 10000 entries, 0 to 9999\n",
      "Data columns (total 14 columns):\n",
      " #   Column           Non-Null Count  Dtype  \n",
      "---  ------           --------------  -----  \n",
      " 0   RowNumber        10000 non-null  int64  \n",
      " 1   CustomerId       10000 non-null  int64  \n",
      " 2   Surname          10000 non-null  object \n",
      " 3   CreditScore      10000 non-null  int64  \n",
      " 4   Geography        10000 non-null  object \n",
      " 5   Gender           10000 non-null  object \n",
      " 6   Age              10000 non-null  int64  \n",
      " 7   Tenure           9091 non-null   float64\n",
      " 8   Balance          10000 non-null  float64\n",
      " 9   NumOfProducts    10000 non-null  int64  \n",
      " 10  HasCrCard        10000 non-null  int64  \n",
      " 11  IsActiveMember   10000 non-null  int64  \n",
      " 12  EstimatedSalary  10000 non-null  float64\n",
      " 13  Exited           10000 non-null  int64  \n",
      "dtypes: float64(3), int64(8), object(3)\n",
      "memory usage: 1.1+ MB\n"
     ]
    }
   ],
   "source": [
    "df.info()"
   ]
  },
  {
   "cell_type": "code",
   "execution_count": 6,
   "metadata": {
    "colab": {
     "base_uri": "https://localhost:8080/"
    },
    "id": "liQXyk5CkYmv",
    "outputId": "faad4044-679a-4592-a25e-ec95b8480eb9"
   },
   "outputs": [
    {
     "data": {
      "text/plain": [
       "RowNumber         0.000\n",
       "CustomerId        0.000\n",
       "Surname           0.000\n",
       "CreditScore       0.000\n",
       "Geography         0.000\n",
       "Gender            0.000\n",
       "Age               0.000\n",
       "Tenure            0.091\n",
       "Balance           0.000\n",
       "NumOfProducts     0.000\n",
       "HasCrCard         0.000\n",
       "IsActiveMember    0.000\n",
       "EstimatedSalary   0.000\n",
       "Exited            0.000\n",
       "dtype: float64"
      ]
     },
     "execution_count": 6,
     "metadata": {},
     "output_type": "execute_result"
    }
   ],
   "source": [
    "df.isna().mean()"
   ]
  },
  {
   "cell_type": "markdown",
   "metadata": {
    "id": "VlIVi78Gl0J6"
   },
   "source": [
    "В `Tenure` пропуски составляют 9 процентов."
   ]
  },
  {
   "cell_type": "code",
   "execution_count": 7,
   "metadata": {
    "colab": {
     "base_uri": "https://localhost:8080/"
    },
    "id": "xV77F2TbmpIN",
    "outputId": "752fc0d4-a18e-4e8b-ec8c-92d1fe12924c"
   },
   "outputs": [
    {
     "data": {
      "text/plain": [
       "0"
      ]
     },
     "execution_count": 7,
     "metadata": {},
     "output_type": "execute_result"
    }
   ],
   "source": [
    "df.duplicated().sum()"
   ]
  },
  {
   "cell_type": "markdown",
   "metadata": {
    "id": "J2f4eVdRmtvU"
   },
   "source": [
    "Дубликатов в данных нет"
   ]
  },
  {
   "cell_type": "code",
   "execution_count": 8,
   "metadata": {
    "colab": {
     "base_uri": "https://localhost:8080/"
    },
    "id": "5UDXKUPYmyWJ",
    "outputId": "bdbeed2f-9e10-4b37-cd36-7a1c60059a80"
   },
   "outputs": [
    {
     "data": {
      "text/plain": [
       "Gender                 2\n",
       "HasCrCard              2\n",
       "IsActiveMember         2\n",
       "Exited                 2\n",
       "Geography              3\n",
       "NumOfProducts          4\n",
       "Tenure                11\n",
       "Age                   70\n",
       "CreditScore          460\n",
       "Surname             2932\n",
       "Balance             6382\n",
       "EstimatedSalary     9999\n",
       "RowNumber          10000\n",
       "CustomerId         10000\n",
       "dtype: int64"
      ]
     },
     "execution_count": 8,
     "metadata": {},
     "output_type": "execute_result"
    }
   ],
   "source": [
    "df.nunique().sort_values()"
   ]
  },
  {
   "cell_type": "markdown",
   "metadata": {
    "id": "rAFM7cGCJhVn"
   },
   "source": [
    "Среди номеров строк и ID повторений также нет, все значения уникальны.\n",
    "\n",
    "Удалим следующие столбцы, так как для обучения модели они никак не пригодятся: `CustomerId`, `RowNumber`, `Surname`."
   ]
  },
  {
   "cell_type": "code",
   "execution_count": 9,
   "metadata": {
    "id": "aUKzGGm5J8Ms"
   },
   "outputs": [],
   "source": [
    "df = df.drop(['CustomerId', 'RowNumber', 'Surname'], axis=1)"
   ]
  },
  {
   "cell_type": "code",
   "execution_count": 10,
   "metadata": {
    "colab": {
     "base_uri": "https://localhost:8080/"
    },
    "id": "3aEqCeKyKNfN",
    "outputId": "3c29ee40-1897-4960-cca8-c5bc5a2dd344"
   },
   "outputs": [
    {
     "name": "stdout",
     "output_type": "stream",
     "text": [
      "<class 'pandas.core.frame.DataFrame'>\n",
      "RangeIndex: 10000 entries, 0 to 9999\n",
      "Data columns (total 11 columns):\n",
      " #   Column           Non-Null Count  Dtype  \n",
      "---  ------           --------------  -----  \n",
      " 0   CreditScore      10000 non-null  int64  \n",
      " 1   Geography        10000 non-null  object \n",
      " 2   Gender           10000 non-null  object \n",
      " 3   Age              10000 non-null  int64  \n",
      " 4   Tenure           9091 non-null   float64\n",
      " 5   Balance          10000 non-null  float64\n",
      " 6   NumOfProducts    10000 non-null  int64  \n",
      " 7   HasCrCard        10000 non-null  int64  \n",
      " 8   IsActiveMember   10000 non-null  int64  \n",
      " 9   EstimatedSalary  10000 non-null  float64\n",
      " 10  Exited           10000 non-null  int64  \n",
      "dtypes: float64(3), int64(6), object(2)\n",
      "memory usage: 859.5+ KB\n"
     ]
    }
   ],
   "source": [
    "df.info()"
   ]
  },
  {
   "cell_type": "markdown",
   "metadata": {
    "id": "U_iD3TMtLF2B"
   },
   "source": [
    "Посмотрим, как распределены пропуски в данных между клиентами из разных стран по половому признаку"
   ]
  },
  {
   "cell_type": "code",
   "execution_count": 11,
   "metadata": {
    "colab": {
     "base_uri": "https://localhost:8080/",
     "height": 232
    },
    "id": "dBXW8EklLzHU",
    "outputId": "d3c31a86-33b8-45e0-8f50-e49e386f745c"
   },
   "outputs": [
    {
     "data": {
      "text/html": [
       "<div>\n",
       "<style scoped>\n",
       "    .dataframe tbody tr th:only-of-type {\n",
       "        vertical-align: middle;\n",
       "    }\n",
       "\n",
       "    .dataframe tbody tr th {\n",
       "        vertical-align: top;\n",
       "    }\n",
       "\n",
       "    .dataframe thead th {\n",
       "        text-align: right;\n",
       "    }\n",
       "</style>\n",
       "<table border=\"1\" class=\"dataframe\">\n",
       "  <thead>\n",
       "    <tr style=\"text-align: right;\">\n",
       "      <th></th>\n",
       "      <th>Geography</th>\n",
       "      <th>Gender</th>\n",
       "      <th>Exited_x</th>\n",
       "      <th>Exited_y</th>\n",
       "      <th>ratio</th>\n",
       "    </tr>\n",
       "  </thead>\n",
       "  <tbody>\n",
       "    <tr>\n",
       "      <th>0</th>\n",
       "      <td>France</td>\n",
       "      <td>Female</td>\n",
       "      <td>217</td>\n",
       "      <td>2261</td>\n",
       "      <td>0.096</td>\n",
       "    </tr>\n",
       "    <tr>\n",
       "      <th>1</th>\n",
       "      <td>France</td>\n",
       "      <td>Male</td>\n",
       "      <td>247</td>\n",
       "      <td>2753</td>\n",
       "      <td>0.090</td>\n",
       "    </tr>\n",
       "    <tr>\n",
       "      <th>2</th>\n",
       "      <td>Germany</td>\n",
       "      <td>Female</td>\n",
       "      <td>108</td>\n",
       "      <td>1193</td>\n",
       "      <td>0.091</td>\n",
       "    </tr>\n",
       "    <tr>\n",
       "      <th>3</th>\n",
       "      <td>Germany</td>\n",
       "      <td>Male</td>\n",
       "      <td>108</td>\n",
       "      <td>1316</td>\n",
       "      <td>0.082</td>\n",
       "    </tr>\n",
       "    <tr>\n",
       "      <th>4</th>\n",
       "      <td>Spain</td>\n",
       "      <td>Female</td>\n",
       "      <td>101</td>\n",
       "      <td>1089</td>\n",
       "      <td>0.093</td>\n",
       "    </tr>\n",
       "    <tr>\n",
       "      <th>5</th>\n",
       "      <td>Spain</td>\n",
       "      <td>Male</td>\n",
       "      <td>128</td>\n",
       "      <td>1388</td>\n",
       "      <td>0.092</td>\n",
       "    </tr>\n",
       "  </tbody>\n",
       "</table>\n",
       "</div>"
      ],
      "text/plain": [
       "  Geography  Gender  Exited_x  Exited_y  ratio\n",
       "0    France  Female       217      2261  0.096\n",
       "1    France    Male       247      2753  0.090\n",
       "2   Germany  Female       108      1193  0.091\n",
       "3   Germany    Male       108      1316  0.082\n",
       "4     Spain  Female       101      1089  0.093\n",
       "5     Spain    Male       128      1388  0.092"
      ]
     },
     "metadata": {},
     "output_type": "display_data"
    }
   ],
   "source": [
    "t_nans = df[df['Tenure'].isna()].groupby(['Geography', 'Gender'])['Exited'].count().reset_index()\n",
    "t_all = df.groupby(['Geography', 'Gender'])['Exited'].count().reset_index()\n",
    "t = pd.merge(t_nans, t_all, on=['Geography', 'Gender'])\n",
    "t['ratio'] = t['Exited_x'] / t['Exited_y']\n",
    "display(t)"
   ]
  },
  {
   "cell_type": "markdown",
   "metadata": {
    "id": "NDNv0y-dOK_9"
   },
   "source": [
    "Пропуски распределены равномерно (примерно в одинаковом соотношении) по группам."
   ]
  },
  {
   "cell_type": "code",
   "execution_count": 12,
   "metadata": {
    "colab": {
     "base_uri": "https://localhost:8080/"
    },
    "id": "YG3VORcIzn7R",
    "outputId": "3ed50fe6-aa3d-48e9-cde5-0cfdf45dc9b2"
   },
   "outputs": [
    {
     "data": {
      "text/plain": [
       "0.2037"
      ]
     },
     "execution_count": 12,
     "metadata": {},
     "output_type": "execute_result"
    }
   ],
   "source": [
    "df['Exited'].mean()"
   ]
  },
  {
   "cell_type": "code",
   "execution_count": 13,
   "metadata": {
    "colab": {
     "base_uri": "https://localhost:8080/"
    },
    "id": "qWEilo_LzVsu",
    "outputId": "688cb66f-6f39-4f65-d35b-3593f6ed32b7"
   },
   "outputs": [
    {
     "data": {
      "text/plain": [
       "0.20132013201320131"
      ]
     },
     "execution_count": 13,
     "metadata": {},
     "output_type": "execute_result"
    }
   ],
   "source": [
    "df[df['Tenure'].isna()]['Exited'].mean()"
   ]
  },
  {
   "cell_type": "markdown",
   "metadata": {
    "id": "1Dn9GM5lzi5f"
   },
   "source": [
    "Баланс классов у пропусков примерно такой же как в датасете."
   ]
  },
  {
   "cell_type": "markdown",
   "metadata": {
    "id": "gmDv-aIFaAB1"
   },
   "source": [
    "Определим категориальные и численные переменные"
   ]
  },
  {
   "cell_type": "code",
   "execution_count": 14,
   "metadata": {
    "id": "AtHslNggXo0J"
   },
   "outputs": [],
   "source": [
    "cat_columns = ['Gender',\n",
    "               'HasCrCard',\n",
    "               'IsActiveMember',\n",
    "               'Geography',\n",
    "               'NumOfProducts',\n",
    "               'Tenure'\n",
    "]\n",
    "\n",
    "num_columns = ['Age',\n",
    "               'CreditScore',\n",
    "               'Balance',\n",
    "               'EstimatedSalary',\n",
    "]"
   ]
  },
  {
   "cell_type": "code",
   "execution_count": 15,
   "metadata": {
    "colab": {
     "base_uri": "https://localhost:8080/",
     "height": 294
    },
    "id": "ddfXXN4io5Mx",
    "outputId": "a4f80c73-aaa7-4422-92cb-610940b2575b"
   },
   "outputs": [
    {
     "data": {
      "text/html": [
       "<div>\n",
       "<style scoped>\n",
       "    .dataframe tbody tr th:only-of-type {\n",
       "        vertical-align: middle;\n",
       "    }\n",
       "\n",
       "    .dataframe tbody tr th {\n",
       "        vertical-align: top;\n",
       "    }\n",
       "\n",
       "    .dataframe thead th {\n",
       "        text-align: right;\n",
       "    }\n",
       "</style>\n",
       "<table border=\"1\" class=\"dataframe\">\n",
       "  <thead>\n",
       "    <tr style=\"text-align: right;\">\n",
       "      <th></th>\n",
       "      <th>CreditScore</th>\n",
       "      <th>Age</th>\n",
       "      <th>Tenure</th>\n",
       "      <th>Balance</th>\n",
       "      <th>NumOfProducts</th>\n",
       "      <th>HasCrCard</th>\n",
       "      <th>IsActiveMember</th>\n",
       "      <th>EstimatedSalary</th>\n",
       "      <th>Exited</th>\n",
       "    </tr>\n",
       "  </thead>\n",
       "  <tbody>\n",
       "    <tr>\n",
       "      <th>count</th>\n",
       "      <td>10000.000</td>\n",
       "      <td>10000.000</td>\n",
       "      <td>9091.000</td>\n",
       "      <td>10000.000</td>\n",
       "      <td>10000.000</td>\n",
       "      <td>10000.000</td>\n",
       "      <td>10000.000</td>\n",
       "      <td>10000.000</td>\n",
       "      <td>10000.000</td>\n",
       "    </tr>\n",
       "    <tr>\n",
       "      <th>mean</th>\n",
       "      <td>650.529</td>\n",
       "      <td>38.922</td>\n",
       "      <td>4.998</td>\n",
       "      <td>76485.889</td>\n",
       "      <td>1.530</td>\n",
       "      <td>0.706</td>\n",
       "      <td>0.515</td>\n",
       "      <td>100090.240</td>\n",
       "      <td>0.204</td>\n",
       "    </tr>\n",
       "    <tr>\n",
       "      <th>std</th>\n",
       "      <td>96.653</td>\n",
       "      <td>10.488</td>\n",
       "      <td>2.895</td>\n",
       "      <td>62397.405</td>\n",
       "      <td>0.582</td>\n",
       "      <td>0.456</td>\n",
       "      <td>0.500</td>\n",
       "      <td>57510.493</td>\n",
       "      <td>0.403</td>\n",
       "    </tr>\n",
       "    <tr>\n",
       "      <th>min</th>\n",
       "      <td>350.000</td>\n",
       "      <td>18.000</td>\n",
       "      <td>0.000</td>\n",
       "      <td>0.000</td>\n",
       "      <td>1.000</td>\n",
       "      <td>0.000</td>\n",
       "      <td>0.000</td>\n",
       "      <td>11.580</td>\n",
       "      <td>0.000</td>\n",
       "    </tr>\n",
       "    <tr>\n",
       "      <th>25%</th>\n",
       "      <td>584.000</td>\n",
       "      <td>32.000</td>\n",
       "      <td>2.000</td>\n",
       "      <td>0.000</td>\n",
       "      <td>1.000</td>\n",
       "      <td>0.000</td>\n",
       "      <td>0.000</td>\n",
       "      <td>51002.110</td>\n",
       "      <td>0.000</td>\n",
       "    </tr>\n",
       "    <tr>\n",
       "      <th>50%</th>\n",
       "      <td>652.000</td>\n",
       "      <td>37.000</td>\n",
       "      <td>5.000</td>\n",
       "      <td>97198.540</td>\n",
       "      <td>1.000</td>\n",
       "      <td>1.000</td>\n",
       "      <td>1.000</td>\n",
       "      <td>100193.915</td>\n",
       "      <td>0.000</td>\n",
       "    </tr>\n",
       "    <tr>\n",
       "      <th>75%</th>\n",
       "      <td>718.000</td>\n",
       "      <td>44.000</td>\n",
       "      <td>7.000</td>\n",
       "      <td>127644.240</td>\n",
       "      <td>2.000</td>\n",
       "      <td>1.000</td>\n",
       "      <td>1.000</td>\n",
       "      <td>149388.247</td>\n",
       "      <td>0.000</td>\n",
       "    </tr>\n",
       "    <tr>\n",
       "      <th>max</th>\n",
       "      <td>850.000</td>\n",
       "      <td>92.000</td>\n",
       "      <td>10.000</td>\n",
       "      <td>250898.090</td>\n",
       "      <td>4.000</td>\n",
       "      <td>1.000</td>\n",
       "      <td>1.000</td>\n",
       "      <td>199992.480</td>\n",
       "      <td>1.000</td>\n",
       "    </tr>\n",
       "  </tbody>\n",
       "</table>\n",
       "</div>"
      ],
      "text/plain": [
       "       CreditScore       Age   Tenure    Balance  NumOfProducts  HasCrCard  \\\n",
       "count    10000.000 10000.000 9091.000  10000.000      10000.000  10000.000   \n",
       "mean       650.529    38.922    4.998  76485.889          1.530      0.706   \n",
       "std         96.653    10.488    2.895  62397.405          0.582      0.456   \n",
       "min        350.000    18.000    0.000      0.000          1.000      0.000   \n",
       "25%        584.000    32.000    2.000      0.000          1.000      0.000   \n",
       "50%        652.000    37.000    5.000  97198.540          1.000      1.000   \n",
       "75%        718.000    44.000    7.000 127644.240          2.000      1.000   \n",
       "max        850.000    92.000   10.000 250898.090          4.000      1.000   \n",
       "\n",
       "       IsActiveMember  EstimatedSalary    Exited  \n",
       "count       10000.000        10000.000 10000.000  \n",
       "mean            0.515       100090.240     0.204  \n",
       "std             0.500        57510.493     0.403  \n",
       "min             0.000           11.580     0.000  \n",
       "25%             0.000        51002.110     0.000  \n",
       "50%             1.000       100193.915     0.000  \n",
       "75%             1.000       149388.247     0.000  \n",
       "max             1.000       199992.480     1.000  "
      ]
     },
     "execution_count": 15,
     "metadata": {},
     "output_type": "execute_result"
    }
   ],
   "source": [
    "df.describe()"
   ]
  },
  {
   "cell_type": "markdown",
   "metadata": {
    "id": "MF7gzqCw6mXk"
   },
   "source": [
    "### Обработка пропусков"
   ]
  },
  {
   "cell_type": "markdown",
   "metadata": {
    "id": "USqBddNh4_YU"
   },
   "source": [
    "В данных есть пропуски, которые заполним самым популярным значением (модой) по группе. Предварительно дополнительно добавим группу с градацией по возрасту. Разделим на 5 примерно равных по количеству людей групп."
   ]
  },
  {
   "cell_type": "code",
   "execution_count": 16,
   "metadata": {
    "colab": {
     "base_uri": "https://localhost:8080/",
     "height": 123
    },
    "id": "YFCrlCkNokrG",
    "outputId": "bf276220-7951-4ba8-8745-93334bcb445f"
   },
   "outputs": [
    {
     "data": {
      "text/plain": [
       "(17.999, 31.0]    2372\n",
       "(31.0, 35.0]      1781\n",
       "(35.0, 40.0]      2266\n",
       "(40.0, 46.0]      1696\n",
       "(46.0, 92.0]      1885\n",
       "Name: AgeGroup, dtype: int64"
      ]
     },
     "metadata": {},
     "output_type": "display_data"
    }
   ],
   "source": [
    "df['AgeGroup'] = pd.qcut(df['Age'], 5)\n",
    "display(df['AgeGroup'].value_counts().sort_index())"
   ]
  },
  {
   "cell_type": "markdown",
   "metadata": {
    "id": "yYTsPmYH-c0O"
   },
   "source": [
    "Дополнительные группы созданы, теперь заполним пропуски"
   ]
  },
  {
   "cell_type": "code",
   "execution_count": 17,
   "metadata": {
    "id": "Tl6Lo0FqCBFf"
   },
   "outputs": [],
   "source": [
    "df['Tenure'] = df.groupby(\n",
    "        ['Geography',\n",
    "         'Gender',\n",
    "         'AgeGroup']\n",
    ")['Tenure'].transform(lambda x: x.fillna(x.mode()[0]))"
   ]
  },
  {
   "cell_type": "code",
   "execution_count": 18,
   "metadata": {
    "colab": {
     "base_uri": "https://localhost:8080/",
     "height": 294
    },
    "id": "ZThk_rta-XqQ",
    "outputId": "35b04f71-ed3c-42ae-9896-2f1a83535592"
   },
   "outputs": [
    {
     "data": {
      "text/html": [
       "<div>\n",
       "<style scoped>\n",
       "    .dataframe tbody tr th:only-of-type {\n",
       "        vertical-align: middle;\n",
       "    }\n",
       "\n",
       "    .dataframe tbody tr th {\n",
       "        vertical-align: top;\n",
       "    }\n",
       "\n",
       "    .dataframe thead th {\n",
       "        text-align: right;\n",
       "    }\n",
       "</style>\n",
       "<table border=\"1\" class=\"dataframe\">\n",
       "  <thead>\n",
       "    <tr style=\"text-align: right;\">\n",
       "      <th></th>\n",
       "      <th>CreditScore</th>\n",
       "      <th>Age</th>\n",
       "      <th>Tenure</th>\n",
       "      <th>Balance</th>\n",
       "      <th>NumOfProducts</th>\n",
       "      <th>HasCrCard</th>\n",
       "      <th>IsActiveMember</th>\n",
       "      <th>EstimatedSalary</th>\n",
       "      <th>Exited</th>\n",
       "    </tr>\n",
       "  </thead>\n",
       "  <tbody>\n",
       "    <tr>\n",
       "      <th>count</th>\n",
       "      <td>10000.000</td>\n",
       "      <td>10000.000</td>\n",
       "      <td>10000.000</td>\n",
       "      <td>10000.000</td>\n",
       "      <td>10000.000</td>\n",
       "      <td>10000.000</td>\n",
       "      <td>10000.000</td>\n",
       "      <td>10000.000</td>\n",
       "      <td>10000.000</td>\n",
       "    </tr>\n",
       "    <tr>\n",
       "      <th>mean</th>\n",
       "      <td>650.529</td>\n",
       "      <td>38.922</td>\n",
       "      <td>4.923</td>\n",
       "      <td>76485.889</td>\n",
       "      <td>1.530</td>\n",
       "      <td>0.706</td>\n",
       "      <td>0.515</td>\n",
       "      <td>100090.240</td>\n",
       "      <td>0.204</td>\n",
       "    </tr>\n",
       "    <tr>\n",
       "      <th>std</th>\n",
       "      <td>96.653</td>\n",
       "      <td>10.488</td>\n",
       "      <td>2.895</td>\n",
       "      <td>62397.405</td>\n",
       "      <td>0.582</td>\n",
       "      <td>0.456</td>\n",
       "      <td>0.500</td>\n",
       "      <td>57510.493</td>\n",
       "      <td>0.403</td>\n",
       "    </tr>\n",
       "    <tr>\n",
       "      <th>min</th>\n",
       "      <td>350.000</td>\n",
       "      <td>18.000</td>\n",
       "      <td>0.000</td>\n",
       "      <td>0.000</td>\n",
       "      <td>1.000</td>\n",
       "      <td>0.000</td>\n",
       "      <td>0.000</td>\n",
       "      <td>11.580</td>\n",
       "      <td>0.000</td>\n",
       "    </tr>\n",
       "    <tr>\n",
       "      <th>25%</th>\n",
       "      <td>584.000</td>\n",
       "      <td>32.000</td>\n",
       "      <td>2.000</td>\n",
       "      <td>0.000</td>\n",
       "      <td>1.000</td>\n",
       "      <td>0.000</td>\n",
       "      <td>0.000</td>\n",
       "      <td>51002.110</td>\n",
       "      <td>0.000</td>\n",
       "    </tr>\n",
       "    <tr>\n",
       "      <th>50%</th>\n",
       "      <td>652.000</td>\n",
       "      <td>37.000</td>\n",
       "      <td>5.000</td>\n",
       "      <td>97198.540</td>\n",
       "      <td>1.000</td>\n",
       "      <td>1.000</td>\n",
       "      <td>1.000</td>\n",
       "      <td>100193.915</td>\n",
       "      <td>0.000</td>\n",
       "    </tr>\n",
       "    <tr>\n",
       "      <th>75%</th>\n",
       "      <td>718.000</td>\n",
       "      <td>44.000</td>\n",
       "      <td>7.000</td>\n",
       "      <td>127644.240</td>\n",
       "      <td>2.000</td>\n",
       "      <td>1.000</td>\n",
       "      <td>1.000</td>\n",
       "      <td>149388.247</td>\n",
       "      <td>0.000</td>\n",
       "    </tr>\n",
       "    <tr>\n",
       "      <th>max</th>\n",
       "      <td>850.000</td>\n",
       "      <td>92.000</td>\n",
       "      <td>10.000</td>\n",
       "      <td>250898.090</td>\n",
       "      <td>4.000</td>\n",
       "      <td>1.000</td>\n",
       "      <td>1.000</td>\n",
       "      <td>199992.480</td>\n",
       "      <td>1.000</td>\n",
       "    </tr>\n",
       "  </tbody>\n",
       "</table>\n",
       "</div>"
      ],
      "text/plain": [
       "       CreditScore       Age    Tenure    Balance  NumOfProducts  HasCrCard  \\\n",
       "count    10000.000 10000.000 10000.000  10000.000      10000.000  10000.000   \n",
       "mean       650.529    38.922     4.923  76485.889          1.530      0.706   \n",
       "std         96.653    10.488     2.895  62397.405          0.582      0.456   \n",
       "min        350.000    18.000     0.000      0.000          1.000      0.000   \n",
       "25%        584.000    32.000     2.000      0.000          1.000      0.000   \n",
       "50%        652.000    37.000     5.000  97198.540          1.000      1.000   \n",
       "75%        718.000    44.000     7.000 127644.240          2.000      1.000   \n",
       "max        850.000    92.000    10.000 250898.090          4.000      1.000   \n",
       "\n",
       "       IsActiveMember  EstimatedSalary    Exited  \n",
       "count       10000.000        10000.000 10000.000  \n",
       "mean            0.515       100090.240     0.204  \n",
       "std             0.500        57510.493     0.403  \n",
       "min             0.000           11.580     0.000  \n",
       "25%             0.000        51002.110     0.000  \n",
       "50%             1.000       100193.915     0.000  \n",
       "75%             1.000       149388.247     0.000  \n",
       "max             1.000       199992.480     1.000  "
      ]
     },
     "execution_count": 18,
     "metadata": {},
     "output_type": "execute_result"
    }
   ],
   "source": [
    "df.describe()"
   ]
  },
  {
   "cell_type": "markdown",
   "metadata": {
    "id": "e1I8qcj7-2av"
   },
   "source": [
    "Пропуски заполнены, теперь изменим тип данных и удалим столбец `AgeGroup`"
   ]
  },
  {
   "cell_type": "code",
   "execution_count": 19,
   "metadata": {
    "id": "58zNohnU_j07"
   },
   "outputs": [],
   "source": [
    "df['Tenure'] = df['Tenure'].astype('int')"
   ]
  },
  {
   "cell_type": "code",
   "execution_count": 20,
   "metadata": {
    "id": "dpAlCsB1A2zP"
   },
   "outputs": [],
   "source": [
    "df = df.drop('AgeGroup', axis=1)"
   ]
  },
  {
   "cell_type": "code",
   "execution_count": 21,
   "metadata": {
    "colab": {
     "base_uri": "https://localhost:8080/"
    },
    "id": "FHen5RuK_qEc",
    "outputId": "905ada2d-4812-4350-dc75-4b655f2e89ab"
   },
   "outputs": [
    {
     "name": "stdout",
     "output_type": "stream",
     "text": [
      "<class 'pandas.core.frame.DataFrame'>\n",
      "RangeIndex: 10000 entries, 0 to 9999\n",
      "Data columns (total 11 columns):\n",
      " #   Column           Non-Null Count  Dtype  \n",
      "---  ------           --------------  -----  \n",
      " 0   CreditScore      10000 non-null  int64  \n",
      " 1   Geography        10000 non-null  object \n",
      " 2   Gender           10000 non-null  object \n",
      " 3   Age              10000 non-null  int64  \n",
      " 4   Tenure           10000 non-null  int32  \n",
      " 5   Balance          10000 non-null  float64\n",
      " 6   NumOfProducts    10000 non-null  int64  \n",
      " 7   HasCrCard        10000 non-null  int64  \n",
      " 8   IsActiveMember   10000 non-null  int64  \n",
      " 9   EstimatedSalary  10000 non-null  float64\n",
      " 10  Exited           10000 non-null  int64  \n",
      "dtypes: float64(2), int32(1), int64(6), object(2)\n",
      "memory usage: 820.4+ KB\n"
     ]
    }
   ],
   "source": [
    "df.info()"
   ]
  },
  {
   "cell_type": "markdown",
   "metadata": {
    "id": "XchZH5TJVga0"
   },
   "source": [
    "Выходцы из каких стран чаще покидают банк?"
   ]
  },
  {
   "cell_type": "code",
   "execution_count": 23,
   "metadata": {
    "colab": {
     "base_uri": "https://localhost:8080/",
     "height": 335
    },
    "id": "PD-rqH_gVniW",
    "outputId": "53bea080-be21-4a62-8bdf-f8fbbfcdddb7"
   },
   "outputs": [
    {
     "data": {
      "text/plain": [
       "<AxesSubplot:xlabel='Geography'>"
      ]
     },
     "execution_count": 23,
     "metadata": {},
     "output_type": "execute_result"
    },
    {
     "data": {
      "image/png": "[encoded data removed]",
      "text/plain": [
       "<Figure size 432x288 with 1 Axes>"
      ]
     },
     "metadata": {},
     "output_type": "display_data"
    }
   ],
   "source": [
    "(df[df['Exited'] == 1].groupby(['Geography'])['Exited'].count()).plot(kind='bar', rot=45)"
   ]
  },
  {
   "cell_type": "markdown",
   "metadata": {
    "id": "ZNpt4FlfWarm"
   },
   "source": [
    "Какие клиенты богаче на момент выхода?"
   ]
  },
  {
   "cell_type": "code",
   "execution_count": 24,
   "metadata": {
    "colab": {
     "base_uri": "https://localhost:8080/",
     "height": 318
    },
    "id": "_-fFHxQEWeqT",
    "outputId": "71bbc444-0ee3-4fa3-d575-2cd6765b8737"
   },
   "outputs": [
    {
     "data": {
      "text/plain": [
       "Text(0.5, 1.0, 'Баланс на момент выхода')"
      ]
     },
     "execution_count": 24,
     "metadata": {},
     "output_type": "execute_result"
    },
    {
     "data": {
      "image/png": "[encoded data removed]",
      "text/plain": [
       "<Figure size 432x288 with 1 Axes>"
      ]
     },
     "metadata": {},
     "output_type": "display_data"
    }
   ],
   "source": [
    "sns.histplot(data=df[df['Exited'] == 1], x='Balance', kde=True, hue='Geography')\n",
    "\n",
    "plt.title('Баланс на момент выхода')"
   ]
  },
  {
   "cell_type": "code",
   "execution_count": 25,
   "metadata": {
    "colab": {
     "base_uri": "https://localhost:8080/",
     "height": 318
    },
    "id": "Ni1oXpDIcIqE",
    "outputId": "e689981c-1b59-41bd-fac8-a9b393c401f1"
   },
   "outputs": [
    {
     "data": {
      "text/plain": [
       "Text(0.5, 1.0, 'Возраст клиентов на момент выхода')"
      ]
     },
     "execution_count": 25,
     "metadata": {},
     "output_type": "execute_result"
    },
    {
     "data": {
      "image/png": "[encoded data removed]",
      "text/plain": [
       "<Figure size 432x288 with 1 Axes>"
      ]
     },
     "metadata": {},
     "output_type": "display_data"
    }
   ],
   "source": [
    "sns.histplot(data=df[df['Exited'] == 1], x='Age', kde=True, hue='Geography')\n",
    "\n",
    "plt.title('Возраст клиентов на момент выхода')"
   ]
  },
  {
   "cell_type": "code",
   "execution_count": 26,
   "metadata": {
    "colab": {
     "base_uri": "https://localhost:8080/",
     "height": 318
    },
    "id": "zv76HI1qcnu_",
    "outputId": "4abc79de-8c5d-49f4-958f-6e22eedd5243"
   },
   "outputs": [
    {
     "data": {
      "text/plain": [
       "Text(0.5, 1.0, 'Количество продуктов на момент выхода')"
      ]
     },
     "execution_count": 26,
     "metadata": {},
     "output_type": "execute_result"
    },
    {
     "data": {
      "image/png": "[encoded data removed]",
      "text/plain": [
       "<Figure size 432x288 with 1 Axes>"
      ]
     },
     "metadata": {},
     "output_type": "display_data"
    }
   ],
   "source": [
    "sns.histplot(data=df[df['Exited'] == 1], x='NumOfProducts', kde=True, hue='Geography')\n",
    "\n",
    "plt.title('Количество продуктов на момент выхода')"
   ]
  },
  {
   "cell_type": "code",
   "execution_count": 27,
   "metadata": {
    "colab": {
     "base_uri": "https://localhost:8080/",
     "height": 318
    },
    "id": "-0a2qdc9c-N2",
    "outputId": "9bd16970-108b-4019-f064-606cdd460506"
   },
   "outputs": [
    {
     "data": {
      "text/plain": [
       "Text(0.5, 1.0, 'Сколько лет был клиентом банка')"
      ]
     },
     "execution_count": 27,
     "metadata": {},
     "output_type": "execute_result"
    },
    {
     "data": {
      "image/png": "[encoded data removed]",
      "text/plain": [
       "<Figure size 432x288 with 1 Axes>"
      ]
     },
     "metadata": {},
     "output_type": "display_data"
    }
   ],
   "source": [
    "sns.histplot(data=df[df['Exited'] == 1], x='Tenure', kde=True, hue='Geography', bins=11)\n",
    "\n",
    "plt.title('Сколько лет был клиентом банка')"
   ]
  },
  {
   "cell_type": "markdown",
   "metadata": {
    "id": "vgHwaiQVBaKQ"
   },
   "source": [
    "### Выводы"
   ]
  },
  {
   "cell_type": "markdown",
   "metadata": {
    "id": "Dia1zaOpL8Hs"
   },
   "source": [
    "В данных присустсвуют пропуски, которые было решено заполнить самым популярным значением по группе. Не сбалансирован целевой признак (20/80), а также не сбалансированы предикторные переменные.\n",
    "\n",
    "Интересно, что:\n",
    "* В данных больше всего клиентов из Франции 50%, а из Германии и Испании - поровну (25% и 25%); \n",
    "* При этом покинуло больше всего банк клиентов из Германии и Франции, а из Испании в 2 раза меньше;"
   ]
  },
  {
   "cell_type": "markdown",
   "metadata": {
    "id": "chi1YYmMb5qp"
   },
   "source": [
    "## Исследование задачи"
   ]
  },
  {
   "cell_type": "markdown",
   "metadata": {
    "id": "aHUTXvP0ReFB"
   },
   "source": [
    "### Подготовка"
   ]
  },
  {
   "cell_type": "markdown",
   "metadata": {
    "id": "t0jPb38shVU7"
   },
   "source": [
    "Разделим данные на обучающую выборку и тестовую."
   ]
  },
  {
   "cell_type": "code",
   "execution_count": 28,
   "metadata": {
    "id": "mT-m3DBbt6j4"
   },
   "outputs": [],
   "source": [
    "X, y = df.drop('Exited', axis=1).copy(), df['Exited'].copy()"
   ]
  },
  {
   "cell_type": "code",
   "execution_count": 29,
   "metadata": {
    "id": "7IvEgrKRwrgp"
   },
   "outputs": [],
   "source": [
    "X_train, X_test, y_train, y_test = \\\n",
    "train_test_split(X, y, test_size=0.25, stratify=y,\n",
    "                 random_state=420, shuffle=True)"
   ]
  },
  {
   "cell_type": "code",
   "execution_count": 30,
   "metadata": {
    "colab": {
     "base_uri": "https://localhost:8080/"
    },
    "id": "wWgGCiVtoU4-",
    "outputId": "021a1116-5c10-4175-cf16-6c8fc90d0853"
   },
   "outputs": [
    {
     "name": "stdout",
     "output_type": "stream",
     "text": [
      "0.20373333333333332\n",
      "0.2036\n"
     ]
    }
   ],
   "source": [
    "print(y_train.mean())\n",
    "print(y_test.mean())"
   ]
  },
  {
   "cell_type": "markdown",
   "metadata": {
    "id": "71rUiHr-pU-p"
   },
   "source": [
    "Баланс классов целевой переменной для тренировочной, валидационной и тестовой выборок такой же, как и у исходной выборки.\n",
    "Произведем обучение, в качестве метрики зададим F1, дополнительно будем отслеживать ROC-AUC.\n",
    "\n",
    "В начале произведем обработку всех переменных, используя пайплайн. Для категориальных признаков будем использовать One Hot Encoding (далее OHE), а для численных - масштабирование (Standerd Scaler). При этом для избежания дамми-ловушки будем удалять первый столбец для бинарных переменных."
   ]
  },
  {
   "cell_type": "code",
   "execution_count": 38,
   "metadata": {
    "id": "qxjdqB9_FRSO"
   },
   "outputs": [],
   "source": [
    "cat_pipe = Pipeline([('ohe', OneHotEncoder(sparse=False, \n",
    "                        drop='if_binary', handle_unknown='ignore'))])\n",
    "\n",
    "num_pipe = Pipeline([('scaler', StandardScaler())])"
   ]
  },
  {
   "cell_type": "markdown",
   "metadata": {
    "id": "_LnIYnLBHbIT"
   },
   "source": [
    "Соединяем пайплайны вместе"
   ]
  },
  {
   "cell_type": "code",
   "execution_count": 39,
   "metadata": {
    "id": "jSEUG0miHfEK"
   },
   "outputs": [],
   "source": [
    "transformer = ColumnTransformer(\n",
    "                           transformers=[('cat', cat_pipe, cat_columns),\n",
    "                                         ('num', num_pipe, num_columns)], \n",
    "                                         remainder='passthrough')"
   ]
  },
  {
   "cell_type": "markdown",
   "metadata": {},
   "source": [
    "Также можно задавать собственные трансформеры. Здесь задан `remainder='passthrough'`, в этом случае переменные, которые не попали ни в один трансформер, не будут обработаны, но при этом останутся в обучающем наборе данных. В случае, если бы мы указали `remainder='drop'`, то такие переменные были бы отброшены."
   ]
  },
  {
   "cell_type": "markdown",
   "metadata": {
    "id": "a-3Fa9PhHxr6"
   },
   "source": [
    "Зададим функцию, которую будем оптимизировать по примеру из этого <a href=\"https://habr.com/ru/post/542624/\">ресурса</a>. Она принимает на вход гиперпараметры, модель и данные, после чего возвращает точность на кросс-валидации:"
   ]
  },
  {
   "cell_type": "code",
   "execution_count": 40,
   "metadata": {
    "id": "qNf1VaKKHxxs"
   },
   "outputs": [],
   "source": [
    "def objective(params, pipeline,  X_train, y_train):\n",
    "    \"\"\"\n",
    "    Кросс-валидация с текущими гиперпараметрами\n",
    "\n",
    "    :params: гиперпараметры\n",
    "    :pipeline: модель\n",
    "    :X_train: матрица признаков\n",
    "    :y_train: вектор меток объектов\n",
    "    :return: средняя точность на кросс-валидации\n",
    "    \"\"\" \n",
    "\n",
    "    # задаём модели требуемые параметры    \n",
    "    pipeline.set_params(**params)\n",
    "\n",
    "    # задаём параметры кросс-валидации (стратифицированная 4-фолдовая с перемешиванием)\n",
    "    skf = StratifiedKFold(n_splits=skf_n_splits, shuffle=True, random_state=420)\n",
    "\n",
    "    # проводим кросс-валидацию  \n",
    "    score = cross_val_score(estimator=pipeline, X=X_train, y=y_train, \n",
    "                            scoring='f1', cv=skf, n_jobs=-1)\n",
    "\n",
    "    # возвращаем результаты, которые записываются в Trials()\n",
    "    return   {'loss': (1-score.mean()), 'params': params, 'status': STATUS_OK}"
   ]
  },
  {
   "cell_type": "markdown",
   "metadata": {
    "id": "Na0WkYX3vKgH"
   },
   "source": [
    "Так как `fmin` ищет наименьшее значение, то в `loss` будем записывать `(1-score.mean())`, тогда F1-score будет `(1-(1-score.mean()))`."
   ]
  },
  {
   "cell_type": "markdown",
   "metadata": {
    "id": "ih_ss4eKf7ib"
   },
   "source": [
    "### Логистическая регрессия"
   ]
  },
  {
   "cell_type": "markdown",
   "metadata": {
    "id": "mYNdXNBJfkL1"
   },
   "source": [
    "# Создаем модель"
   ]
  },
  {
   "cell_type": "code",
   "execution_count": 41,
   "metadata": {
    "id": "rpHmu3N7fiy8"
   },
   "outputs": [],
   "source": [
    "model_lr = Pipeline([('transformer', transformer),\n",
    "                  ('lr', LogisticRegression(random_state=420, n_jobs=-1, \n",
    "                            solver='liblinear'))])"
   ]
  },
  {
   "cell_type": "markdown",
   "metadata": {
    "id": "zNv-dhfWFRYI"
   },
   "source": [
    "Сформируем пространство поиска параметров для hyperopt:"
   ]
  },
  {
   "cell_type": "code",
   "execution_count": 42,
   "metadata": {
    "id": "N1BtnbMZt-_5"
   },
   "outputs": [],
   "source": [
    "skf_n_splits = 5\n",
    "search_space_lr = {\n",
    "                'lr__penalty' : hp.choice(label='penalty', \n",
    "                          options=['l1', 'l2']),\n",
    "                'lr__C' : hp.loguniform(label='C', \n",
    "                        low=-4*np.log(10), \n",
    "                        high=2*np.log(10))\n",
    "                }"
   ]
  },
  {
   "cell_type": "markdown",
   "metadata": {
    "id": "xDYpTPLuuG38"
   },
   "source": [
    "Параметр регуляризации **C** выбирается из лог-равномерного распределения $[- 4ln10, 2ln10]$, и может принимать значения $[10^{-4}, 10^2]$, а тип регуляризации равновероятно выбирается из **[l1, l2]**"
   ]
  },
  {
   "cell_type": "markdown",
   "metadata": {
    "id": "bmhdcL3ZJXtl"
   },
   "source": [
    "Укажем объект для сохранения истории поиска (Trials). Это очень удобно, т.к. можно сохранять, а также прерывать и затем продолжать процесс поиска гиперпараметров. Запускаем сам процесс подбора с помощью функции fmin. Укажем в качестве алгоритма поиска tpe.suggest – байесовскую оптимизацию. Количество итераций зададим 40."
   ]
  },
  {
   "cell_type": "code",
   "execution_count": 43,
   "metadata": {
    "colab": {
     "base_uri": "https://localhost:8080/"
    },
    "id": "WaXYBRK8KvjX",
    "outputId": "6f97066b-e013-4894-bf11-e20d563affae"
   },
   "outputs": [
    {
     "name": "stdout",
     "output_type": "stream",
     "text": [
      "100%|████████████████████████████████████████████████| 40/40 [00:09<00:00,  4.04trial/s, best loss: 0.5173246152855265]\n"
     ]
    }
   ],
   "source": [
    "trials = Trials()\n",
    "best = fmin( \n",
    "          # функция для оптимизации  \n",
    "            fn=partial(objective,\n",
    "                       pipeline=model_lr,\n",
    "                       X_train=X_train,\n",
    "                       y_train=y_train),\n",
    "          # пространство поиска гиперпараметров  \n",
    "            space=search_space_lr,\n",
    "          # алгоритм поиска\n",
    "            algo=tpe.suggest,\n",
    "          # число итераций \n",
    "            max_evals=40,\n",
    "          # куда сохранять историю поиска\n",
    "            trials=trials,\n",
    "          # random state\n",
    "            rstate=np.random.RandomState(420),\n",
    "          # progressbar\n",
    "           show_progressbar=True\n",
    "        )"
   ]
  },
  {
   "cell_type": "code",
   "execution_count": 44,
   "metadata": {
    "id": "wwBNY0vPS3fG"
   },
   "outputs": [],
   "source": [
    "def df_results(hp_results):\n",
    "    \"\"\"\n",
    "    Отображаем результаты hyperopt в формате DataFrame \n",
    "\n",
    "    :hp_results: результаты hyperopt\n",
    "    :return: pandas DataFrame\n",
    "    \"\"\" \n",
    "\n",
    "    results = pd.DataFrame([{**x, **x['params']} for x in  hp_results])\n",
    "    results.drop(labels=['status', 'params'], axis=1, inplace=True)\n",
    "    results['score'] = 1 - results['loss']\n",
    "    results.sort_values(by=['score'], ascending=False, inplace=True)\n",
    "\n",
    "    return results"
   ]
  },
  {
   "cell_type": "code",
   "execution_count": 45,
   "metadata": {
    "colab": {
     "base_uri": "https://localhost:8080/",
     "height": 526
    },
    "id": "wOQzZCY-0Alc",
    "outputId": "84e44598-bf92-4028-ced7-cc43bab6002e"
   },
   "outputs": [
    {
     "data": {
      "text/plain": [
       "(0.0001, 200.0)"
      ]
     },
     "execution_count": 45,
     "metadata": {},
     "output_type": "execute_result"
    },
    {
     "data": {
      "image/png": "[encoded data removed]",
      "text/plain": [
       "<Figure size 576x576 with 1 Axes>"
      ]
     },
     "metadata": {},
     "output_type": "display_data"
    }
   ],
   "source": [
    "results = df_results(trials.results)\n",
    "plt.figure(figsize=(8, 8))\n",
    "ax = sns.scatterplot(x='lr__C', y='score', hue='lr__penalty', \n",
    "                                                   data=results);\n",
    "ax.set_xscale('log')\n",
    "ax.set_xlim(1e-4, 2e2)"
   ]
  },
  {
   "cell_type": "markdown",
   "metadata": {
    "id": "ETJNZR9UkgDV"
   },
   "source": [
    "На графике видно, что Hyperopt почти не исследовал районы, где получались низкие значения F1, а сосредоточился на районе с наибольшими значениями этой метрики."
   ]
  },
  {
   "cell_type": "code",
   "execution_count": 46,
   "metadata": {},
   "outputs": [
    {
     "name": "stdout",
     "output_type": "stream",
     "text": [
      "{'C': 1.4307555241597316, 'penalty': 'l2'}\n"
     ]
    }
   ],
   "source": [
    "best_params_lr = space_eval(search_space_lr, best)\n",
    "best_params_lr['C'] = best_params_lr.pop('lr__C')\n",
    "best_params_lr['penalty'] = best_params_lr.pop('lr__penalty')\n",
    "print(best_params_lr)"
   ]
  },
  {
   "cell_type": "markdown",
   "metadata": {
    "id": "jGNE_RvelJoI"
   },
   "source": [
    "Теперь обучим модель, используя наилучшие гиперпараметры, на тренировочных данных целиком, а затем выведем показатели метрик F1 и ROC-AUC для тестового набора."
   ]
  },
  {
   "cell_type": "code",
   "execution_count": 47,
   "metadata": {
    "id": "AeascLBO4PXc"
   },
   "outputs": [
    {
     "name": "stderr",
     "output_type": "stream",
     "text": [
      "C:\\Users\\atrus\\anaconda3\\lib\\site-packages\\sklearn\\linear_model\\_logistic.py:1523: UserWarning: 'n_jobs' > 1 does not have any effect when 'solver' is set to 'liblinear'. Got 'n_jobs' = 4.\n",
      "  warnings.warn(\n"
     ]
    }
   ],
   "source": [
    "best_model_lr = Pipeline([('transformer', transformer),\n",
    "                  ('lr', LogisticRegression(random_state=420,\n",
    "                                            n_jobs=-1, \n",
    "                                            solver='liblinear',\n",
    "                                            **best_params_lr\n",
    "                                           ))]).fit(X_train, y_train)"
   ]
  },
  {
   "cell_type": "markdown",
   "metadata": {
    "id": "6pc7GCjO8oWo"
   },
   "source": [
    "Для отслеживания наилучшей метрики создадим табличку, которую будем заполнять по ходу исследования.\n",
    "Расшифровка столбцов:\n",
    "\n",
    "* 'model_name' - имя модели\n",
    "* 'f1_train'- F1 на обучащей выборке\n",
    "* 'f1_test' - F1 на тестовой выборке\n",
    "* 'roc_auc_train' - ROC-AUC на обучащей выборке\n",
    "* 'roc_auc_test'- ROC-AUC на тестовой выборке\n",
    "* 'balanced' - использовалась ли балансировка классов"
   ]
  },
  {
   "cell_type": "code",
   "execution_count": 48,
   "metadata": {
    "id": "nZbj1Z4x8AcG"
   },
   "outputs": [],
   "source": [
    "table_comp = pd.DataFrame(columns=[\n",
    "                                  'model_name',\n",
    "                                  'f1_train',\n",
    "                                  'f1_test',\n",
    "                                  'roc_auc_train',\n",
    "                                  'roc_auc_test',\n",
    "                                  'balanced'])"
   ]
  },
  {
   "cell_type": "markdown",
   "metadata": {
    "id": "tTlUSp9h8uOG"
   },
   "source": [
    "Для добавления в таблицу данных создадим функцию, которая будет возвращать массив для добавления в таблицу"
   ]
  },
  {
   "cell_type": "code",
   "execution_count": 49,
   "metadata": {
    "id": "W6ymCxg55TlL"
   },
   "outputs": [],
   "source": [
    "def add_scores_to_table(model, model_name, if_balanced=False):\n",
    "    f1_train = f1_score(y_train, model.predict(X_train))\n",
    "    f1_test = f1_score(y_test, model.predict(X_test))\n",
    "    roc_train = roc_auc_score(y_train, model.predict_proba(X_train)[:,1])\n",
    "    roc_test = roc_auc_score(y_test, model.predict_proba(X_test)[:,1])\n",
    "    return {'model_name':model_name,\n",
    "          'f1_train':f1_train,\n",
    "          'f1_test':f1_test,\n",
    "          'roc_auc_train':roc_train,\n",
    "          'roc_auc_test':roc_test,\n",
    "          'balanced':if_balanced}"
   ]
  },
  {
   "cell_type": "code",
   "execution_count": 50,
   "metadata": {
    "colab": {
     "base_uri": "https://localhost:8080/",
     "height": 78
    },
    "id": "j_SaelOGEGzG",
    "outputId": "e75747c2-4d13-4f2f-9754-aea597cfa30c"
   },
   "outputs": [
    {
     "data": {
      "text/html": [
       "<div>\n",
       "<style scoped>\n",
       "    .dataframe tbody tr th:only-of-type {\n",
       "        vertical-align: middle;\n",
       "    }\n",
       "\n",
       "    .dataframe tbody tr th {\n",
       "        vertical-align: top;\n",
       "    }\n",
       "\n",
       "    .dataframe thead th {\n",
       "        text-align: right;\n",
       "    }\n",
       "</style>\n",
       "<table border=\"1\" class=\"dataframe\">\n",
       "  <thead>\n",
       "    <tr style=\"text-align: right;\">\n",
       "      <th></th>\n",
       "      <th>model_name</th>\n",
       "      <th>f1_train</th>\n",
       "      <th>f1_test</th>\n",
       "      <th>roc_auc_train</th>\n",
       "      <th>roc_auc_test</th>\n",
       "      <th>balanced</th>\n",
       "    </tr>\n",
       "  </thead>\n",
       "  <tbody>\n",
       "    <tr>\n",
       "      <th>0</th>\n",
       "      <td>Логистическая регрессия</td>\n",
       "      <td>0.488</td>\n",
       "      <td>0.517</td>\n",
       "      <td>0.834</td>\n",
       "      <td>0.833</td>\n",
       "      <td>False</td>\n",
       "    </tr>\n",
       "  </tbody>\n",
       "</table>\n",
       "</div>"
      ],
      "text/plain": [
       "                model_name  f1_train  f1_test  roc_auc_train  roc_auc_test  \\\n",
       "0  Логистическая регрессия     0.488    0.517          0.834         0.833   \n",
       "\n",
       "  balanced  \n",
       "0    False  "
      ]
     },
     "metadata": {},
     "output_type": "display_data"
    }
   ],
   "source": [
    "table_comp = table_comp.append(add_scores_to_table(best_model_lr,\n",
    "                                                   'Логистическая регрессия'\n",
    "                                                  ), ignore_index=True)\n",
    "\n",
    "display(table_comp)"
   ]
  },
  {
   "cell_type": "markdown",
   "metadata": {
    "id": "jraZRTTWJyp2"
   },
   "source": [
    "### Дерево решений"
   ]
  },
  {
   "cell_type": "markdown",
   "metadata": {
    "id": "2rtlFjkXAVLI"
   },
   "source": [
    "Будем использовать ту же предобработку и пайплайны, что и в предыдущей модели, только в этом случае зададим другие параметры для поиска."
   ]
  },
  {
   "cell_type": "markdown",
   "metadata": {
    "id": "6dGEKOw4ONuo"
   },
   "source": [
    "Создаем модель"
   ]
  },
  {
   "cell_type": "code",
   "execution_count": 51,
   "metadata": {
    "id": "hMH8znuPONvA"
   },
   "outputs": [],
   "source": [
    "model_dtree = Pipeline([('transformer', transformer),\n",
    "                  ('dtree', DecisionTreeClassifier(random_state=420))])"
   ]
  },
  {
   "cell_type": "markdown",
   "metadata": {
    "id": "EZ-yNw4cONvA"
   },
   "source": [
    "Сформируем пространство поиска параметров для hyperopt:"
   ]
  },
  {
   "cell_type": "code",
   "execution_count": 52,
   "metadata": {
    "id": "ge5VJEGoONvB"
   },
   "outputs": [],
   "source": [
    "skf_n_splits = 10\n",
    "search_space_dtree = {\n",
    "                      'dtree__criterion' : hp.choice(\n",
    "                          label='criterion',\n",
    "                          options=['gini', 'entropy']\n",
    "                      ),\n",
    "                      'dtree__max_depth' : scope.int(hp.quniform(\n",
    "                          'max_depth', 1, 15, 1)),\n",
    "                      'dtree__min_samples_split' :  scope.int(hp.quniform(\n",
    "                          'min_samples_split', 2, 40, 1)),\n",
    "                      'dtree__min_samples_leaf' :  scope.int(hp.quniform(\n",
    "                          'min_samples_leaf', 1, 20, 1))\n",
    "                                                             }\n"
   ]
  },
  {
   "cell_type": "code",
   "execution_count": 53,
   "metadata": {
    "colab": {
     "base_uri": "https://localhost:8080/",
     "height": 387
    },
    "id": "Wgi_NiNoONvC",
    "outputId": "9475ed0c-aa4c-4df7-a83b-141b9e6c90b9"
   },
   "outputs": [
    {
     "name": "stdout",
     "output_type": "stream",
     "text": [
      "100%|██████████████████████████████████████████████| 100/100 [00:27<00:00,  3.63trial/s, best loss: 0.4264332120498727]\n"
     ]
    }
   ],
   "source": [
    "trials = Trials()\n",
    "best = fmin( \n",
    "          # функция для оптимизации  \n",
    "            fn=partial(objective,\n",
    "                       pipeline=model_dtree,\n",
    "                       X_train=X_train,\n",
    "                       y_train=y_train),\n",
    "          # пространство поиска гиперпараметров  \n",
    "            space=search_space_dtree,\n",
    "          # алгоритм поиска\n",
    "            algo=tpe.suggest,\n",
    "          # число итераций \n",
    "            max_evals=100,\n",
    "          # куда сохранять историю поиска\n",
    "            trials=trials,\n",
    "          # random state\n",
    "            rstate=np.random.RandomState(420),\n",
    "          # progressbar\n",
    "           show_progressbar=True\n",
    "        )"
   ]
  },
  {
   "cell_type": "code",
   "execution_count": 54,
   "metadata": {
    "colab": {
     "base_uri": "https://localhost:8080/",
     "height": 355
    },
    "id": "SUnROfrLH9kt",
    "outputId": "e94ef0dd-c0aa-4b89-d555-42d044cdfc34"
   },
   "outputs": [
    {
     "data": {
      "text/html": [
       "<div>\n",
       "<style scoped>\n",
       "    .dataframe tbody tr th:only-of-type {\n",
       "        vertical-align: middle;\n",
       "    }\n",
       "\n",
       "    .dataframe tbody tr th {\n",
       "        vertical-align: top;\n",
       "    }\n",
       "\n",
       "    .dataframe thead th {\n",
       "        text-align: right;\n",
       "    }\n",
       "</style>\n",
       "<table border=\"1\" class=\"dataframe\">\n",
       "  <thead>\n",
       "    <tr style=\"text-align: right;\">\n",
       "      <th></th>\n",
       "      <th>loss</th>\n",
       "      <th>dtree__criterion</th>\n",
       "      <th>dtree__max_depth</th>\n",
       "      <th>dtree__min_samples_leaf</th>\n",
       "      <th>dtree__min_samples_split</th>\n",
       "      <th>score</th>\n",
       "    </tr>\n",
       "  </thead>\n",
       "  <tbody>\n",
       "    <tr>\n",
       "      <th>86</th>\n",
       "      <td>0.426</td>\n",
       "      <td>entropy</td>\n",
       "      <td>7</td>\n",
       "      <td>4</td>\n",
       "      <td>33</td>\n",
       "      <td>0.574</td>\n",
       "    </tr>\n",
       "    <tr>\n",
       "      <th>25</th>\n",
       "      <td>0.427</td>\n",
       "      <td>entropy</td>\n",
       "      <td>13</td>\n",
       "      <td>17</td>\n",
       "      <td>35</td>\n",
       "      <td>0.573</td>\n",
       "    </tr>\n",
       "    <tr>\n",
       "      <th>67</th>\n",
       "      <td>0.428</td>\n",
       "      <td>entropy</td>\n",
       "      <td>8</td>\n",
       "      <td>17</td>\n",
       "      <td>26</td>\n",
       "      <td>0.572</td>\n",
       "    </tr>\n",
       "    <tr>\n",
       "      <th>83</th>\n",
       "      <td>0.428</td>\n",
       "      <td>entropy</td>\n",
       "      <td>9</td>\n",
       "      <td>7</td>\n",
       "      <td>37</td>\n",
       "      <td>0.572</td>\n",
       "    </tr>\n",
       "    <tr>\n",
       "      <th>91</th>\n",
       "      <td>0.429</td>\n",
       "      <td>entropy</td>\n",
       "      <td>8</td>\n",
       "      <td>2</td>\n",
       "      <td>32</td>\n",
       "      <td>0.571</td>\n",
       "    </tr>\n",
       "    <tr>\n",
       "      <th>85</th>\n",
       "      <td>0.429</td>\n",
       "      <td>entropy</td>\n",
       "      <td>8</td>\n",
       "      <td>5</td>\n",
       "      <td>34</td>\n",
       "      <td>0.571</td>\n",
       "    </tr>\n",
       "    <tr>\n",
       "      <th>28</th>\n",
       "      <td>0.429</td>\n",
       "      <td>entropy</td>\n",
       "      <td>13</td>\n",
       "      <td>11</td>\n",
       "      <td>36</td>\n",
       "      <td>0.571</td>\n",
       "    </tr>\n",
       "    <tr>\n",
       "      <th>51</th>\n",
       "      <td>0.430</td>\n",
       "      <td>entropy</td>\n",
       "      <td>8</td>\n",
       "      <td>14</td>\n",
       "      <td>31</td>\n",
       "      <td>0.570</td>\n",
       "    </tr>\n",
       "    <tr>\n",
       "      <th>65</th>\n",
       "      <td>0.430</td>\n",
       "      <td>entropy</td>\n",
       "      <td>8</td>\n",
       "      <td>14</td>\n",
       "      <td>31</td>\n",
       "      <td>0.570</td>\n",
       "    </tr>\n",
       "    <tr>\n",
       "      <th>45</th>\n",
       "      <td>0.430</td>\n",
       "      <td>entropy</td>\n",
       "      <td>7</td>\n",
       "      <td>17</td>\n",
       "      <td>2</td>\n",
       "      <td>0.570</td>\n",
       "    </tr>\n",
       "  </tbody>\n",
       "</table>\n",
       "</div>"
      ],
      "text/plain": [
       "    loss dtree__criterion  dtree__max_depth  dtree__min_samples_leaf  \\\n",
       "86 0.426          entropy                 7                        4   \n",
       "25 0.427          entropy                13                       17   \n",
       "67 0.428          entropy                 8                       17   \n",
       "83 0.428          entropy                 9                        7   \n",
       "91 0.429          entropy                 8                        2   \n",
       "85 0.429          entropy                 8                        5   \n",
       "28 0.429          entropy                13                       11   \n",
       "51 0.430          entropy                 8                       14   \n",
       "65 0.430          entropy                 8                       14   \n",
       "45 0.430          entropy                 7                       17   \n",
       "\n",
       "    dtree__min_samples_split  score  \n",
       "86                        33  0.574  \n",
       "25                        35  0.573  \n",
       "67                        26  0.572  \n",
       "83                        37  0.572  \n",
       "91                        32  0.571  \n",
       "85                        34  0.571  \n",
       "28                        36  0.571  \n",
       "51                        31  0.570  \n",
       "65                        31  0.570  \n",
       "45                         2  0.570  "
      ]
     },
     "metadata": {},
     "output_type": "display_data"
    }
   ],
   "source": [
    "results = df_results(trials.results)\n",
    "display(results.head(10))"
   ]
  },
  {
   "cell_type": "markdown",
   "metadata": {
    "id": "0EdyjckvLUzV"
   },
   "source": [
    "Построим график"
   ]
  },
  {
   "cell_type": "code",
   "execution_count": 55,
   "metadata": {
    "colab": {
     "base_uri": "https://localhost:8080/",
     "height": 565
    },
    "id": "0LsdeQhWMfNu",
    "outputId": "d696babc-801a-48a9-b244-a83b8195bd8b"
   },
   "outputs": [
    {
     "data": {
      "text/plain": [
       "<seaborn.axisgrid.PairGrid at 0x225e599b730>"
      ]
     },
     "execution_count": 55,
     "metadata": {},
     "output_type": "execute_result"
    },
    {
     "data": {
      "image/png": "[encoded data removed]",
      "text/plain": [
       "<Figure size 812.175x720 with 14 Axes>"
      ]
     },
     "metadata": {},
     "output_type": "display_data"
    }
   ],
   "source": [
    "sns.pairplot(results[['dtree__criterion',\n",
    "                      'dtree__max_depth',\n",
    "                      'dtree__min_samples_leaf',\n",
    "                      'dtree__min_samples_split',\n",
    "                      'score']],\n",
    "             kind='hist',\n",
    "             corner=True,\n",
    "             hue='dtree__criterion'\n",
    "            ).map_lower(sns.kdeplot, levels=4, color=\".2\")"
   ]
  },
  {
   "cell_type": "markdown",
   "metadata": {
    "id": "PD1Q0xaQO73B"
   },
   "source": [
    "Видим, что модель выбирала значения в районе, где была достигнуто наилучшее значение метрики.\n",
    "\n",
    "Обучим модель с наилучшими параметрами, а затем данные добавим в таблицу\n"
   ]
  },
  {
   "cell_type": "code",
   "execution_count": 56,
   "metadata": {},
   "outputs": [
    {
     "data": {
      "text/plain": [
       "{'dtree__criterion': 'entropy',\n",
       " 'dtree__max_depth': 7,\n",
       " 'dtree__min_samples_leaf': 4,\n",
       " 'dtree__min_samples_split': 33}"
      ]
     },
     "execution_count": 56,
     "metadata": {},
     "output_type": "execute_result"
    }
   ],
   "source": [
    "space_eval(search_space_dtree, best)"
   ]
  },
  {
   "cell_type": "code",
   "execution_count": 57,
   "metadata": {},
   "outputs": [
    {
     "name": "stdout",
     "output_type": "stream",
     "text": [
      "{'criterion': 'entropy', 'max_depth': 7, 'min_samples_leaf': 4, 'min_samples_split': 33}\n"
     ]
    }
   ],
   "source": [
    "best_params_dtree = space_eval(search_space_dtree, best)\n",
    "best_params_dtree['criterion'] = best_params_dtree.pop('dtree__criterion')\n",
    "best_params_dtree['max_depth'] = best_params_dtree.pop('dtree__max_depth')\n",
    "best_params_dtree['min_samples_leaf'] = best_params_dtree.pop('dtree__min_samples_leaf')\n",
    "best_params_dtree['min_samples_split'] = best_params_dtree.pop('dtree__min_samples_split')\n",
    "print(best_params_dtree)"
   ]
  },
  {
   "cell_type": "code",
   "execution_count": 58,
   "metadata": {
    "colab": {
     "base_uri": "https://localhost:8080/",
     "height": 132
    },
    "id": "7ElFbRnpPp1C",
    "outputId": "b13d0638-f7d3-48a5-d6ad-cc96bb844495"
   },
   "outputs": [],
   "source": [
    "best_model_dtree = Pipeline([('transformer', transformer),\n",
    "                  ('dtree', DecisionTreeClassifier(random_state=420,\n",
    "                                                   **best_params_dtree))]).fit(X_train, y_train)"
   ]
  },
  {
   "cell_type": "code",
   "execution_count": 59,
   "metadata": {},
   "outputs": [
    {
     "data": {
      "text/html": [
       "<div>\n",
       "<style scoped>\n",
       "    .dataframe tbody tr th:only-of-type {\n",
       "        vertical-align: middle;\n",
       "    }\n",
       "\n",
       "    .dataframe tbody tr th {\n",
       "        vertical-align: top;\n",
       "    }\n",
       "\n",
       "    .dataframe thead th {\n",
       "        text-align: right;\n",
       "    }\n",
       "</style>\n",
       "<table border=\"1\" class=\"dataframe\">\n",
       "  <thead>\n",
       "    <tr style=\"text-align: right;\">\n",
       "      <th></th>\n",
       "      <th>model_name</th>\n",
       "      <th>f1_train</th>\n",
       "      <th>f1_test</th>\n",
       "      <th>roc_auc_train</th>\n",
       "      <th>roc_auc_test</th>\n",
       "      <th>balanced</th>\n",
       "    </tr>\n",
       "  </thead>\n",
       "  <tbody>\n",
       "    <tr>\n",
       "      <th>0</th>\n",
       "      <td>Логистическая регрессия</td>\n",
       "      <td>0.488</td>\n",
       "      <td>0.517</td>\n",
       "      <td>0.834</td>\n",
       "      <td>0.833</td>\n",
       "      <td>False</td>\n",
       "    </tr>\n",
       "    <tr>\n",
       "      <th>1</th>\n",
       "      <td>Дерево решений</td>\n",
       "      <td>0.611</td>\n",
       "      <td>0.577</td>\n",
       "      <td>0.887</td>\n",
       "      <td>0.837</td>\n",
       "      <td>False</td>\n",
       "    </tr>\n",
       "  </tbody>\n",
       "</table>\n",
       "</div>"
      ],
      "text/plain": [
       "                model_name  f1_train  f1_test  roc_auc_train  roc_auc_test  \\\n",
       "0  Логистическая регрессия     0.488    0.517          0.834         0.833   \n",
       "1           Дерево решений     0.611    0.577          0.887         0.837   \n",
       "\n",
       "  balanced  \n",
       "0    False  \n",
       "1    False  "
      ]
     },
     "metadata": {},
     "output_type": "display_data"
    }
   ],
   "source": [
    "table_comp = table_comp.append(add_scores_to_table(best_model_dtree, 'Дерево решений'), ignore_index=True)\n",
    "display(table_comp)"
   ]
  },
  {
   "cell_type": "markdown",
   "metadata": {},
   "source": [
    "Можно заметить, что на тестовой выборке обе метрики для дерева решений хуже, чем на тренировочной. Значит, модель немного переобучена. \"Методом перебора\" был выявлен оптимальный диапазон глубины `max_depth`, который используется в текущем варианте. То, что модель немного переобучена - нормально. "
   ]
  },
  {
   "cell_type": "markdown",
   "metadata": {},
   "source": [
    "### Случайный лес"
   ]
  },
  {
   "cell_type": "markdown",
   "metadata": {},
   "source": [
    "Действуем по тому же принципу"
   ]
  },
  {
   "cell_type": "code",
   "execution_count": 60,
   "metadata": {},
   "outputs": [],
   "source": [
    "model_rf = Pipeline([('transformer', transformer),\n",
    "                  ('rf', RandomForestClassifier(n_jobs=-1, random_state=420))])"
   ]
  },
  {
   "cell_type": "markdown",
   "metadata": {},
   "source": [
    "Сформируем пространство поиска параметров для hyperopt:"
   ]
  },
  {
   "cell_type": "code",
   "execution_count": 61,
   "metadata": {},
   "outputs": [],
   "source": [
    "skf_n_splits = 10\n",
    "search_space_rf = {\n",
    "                      'rf__criterion' : hp.choice(\n",
    "                          label='criterion',\n",
    "                          options=['gini', 'entropy']),\n",
    "                      'rf__n_estimators' : scope.int(hp.quniform(\n",
    "                          'n_estimators', 100, 500, 1)),\n",
    "                      'rf__max_depth' : scope.int(hp.quniform(\n",
    "                          'max_depth', 1, 10, 1)),\n",
    "                      'rf__min_samples_split' :  scope.int(hp.quniform(\n",
    "                          'min_samples_split', 2, 40, 1)),\n",
    "                      'rf__min_samples_leaf' :  scope.int(hp.quniform(\n",
    "                          'min_samples_leaf', 1, 20, 1))\n",
    "}"
   ]
  },
  {
   "cell_type": "code",
   "execution_count": 62,
   "metadata": {},
   "outputs": [
    {
     "name": "stdout",
     "output_type": "stream",
     "text": [
      "100%|███████████████████████████████████████████████| 50/50 [04:39<00:00,  5.60s/trial, best loss: 0.44160101461816426]\n"
     ]
    }
   ],
   "source": [
    "trials = Trials()\n",
    "best = fmin( \n",
    "          # функция для оптимизации  \n",
    "            fn=partial(objective,\n",
    "                       pipeline=model_rf,\n",
    "                       X_train=X_train,\n",
    "                       y_train=y_train),\n",
    "          # пространство поиска гиперпараметров  \n",
    "            space=search_space_rf,\n",
    "          # алгоритм поиска\n",
    "            algo=tpe.suggest,\n",
    "          # число итераций \n",
    "            max_evals=50,\n",
    "          # куда сохранять историю поиска\n",
    "            trials=trials,\n",
    "          # random state\n",
    "            rstate=np.random.RandomState(420),\n",
    "          # progressbar\n",
    "           show_progressbar=True\n",
    "        )"
   ]
  },
  {
   "cell_type": "code",
   "execution_count": 63,
   "metadata": {},
   "outputs": [
    {
     "data": {
      "text/html": [
       "<div>\n",
       "<style scoped>\n",
       "    .dataframe tbody tr th:only-of-type {\n",
       "        vertical-align: middle;\n",
       "    }\n",
       "\n",
       "    .dataframe tbody tr th {\n",
       "        vertical-align: top;\n",
       "    }\n",
       "\n",
       "    .dataframe thead th {\n",
       "        text-align: right;\n",
       "    }\n",
       "</style>\n",
       "<table border=\"1\" class=\"dataframe\">\n",
       "  <thead>\n",
       "    <tr style=\"text-align: right;\">\n",
       "      <th></th>\n",
       "      <th>loss</th>\n",
       "      <th>rf__criterion</th>\n",
       "      <th>rf__max_depth</th>\n",
       "      <th>rf__min_samples_leaf</th>\n",
       "      <th>rf__min_samples_split</th>\n",
       "      <th>rf__n_estimators</th>\n",
       "      <th>score</th>\n",
       "    </tr>\n",
       "  </thead>\n",
       "  <tbody>\n",
       "    <tr>\n",
       "      <th>32</th>\n",
       "      <td>0.442</td>\n",
       "      <td>gini</td>\n",
       "      <td>10</td>\n",
       "      <td>4</td>\n",
       "      <td>12</td>\n",
       "      <td>217</td>\n",
       "      <td>0.558</td>\n",
       "    </tr>\n",
       "    <tr>\n",
       "      <th>21</th>\n",
       "      <td>0.443</td>\n",
       "      <td>gini</td>\n",
       "      <td>10</td>\n",
       "      <td>3</td>\n",
       "      <td>2</td>\n",
       "      <td>494</td>\n",
       "      <td>0.557</td>\n",
       "    </tr>\n",
       "    <tr>\n",
       "      <th>49</th>\n",
       "      <td>0.444</td>\n",
       "      <td>entropy</td>\n",
       "      <td>10</td>\n",
       "      <td>2</td>\n",
       "      <td>8</td>\n",
       "      <td>356</td>\n",
       "      <td>0.556</td>\n",
       "    </tr>\n",
       "    <tr>\n",
       "      <th>35</th>\n",
       "      <td>0.444</td>\n",
       "      <td>gini</td>\n",
       "      <td>10</td>\n",
       "      <td>3</td>\n",
       "      <td>10</td>\n",
       "      <td>187</td>\n",
       "      <td>0.556</td>\n",
       "    </tr>\n",
       "    <tr>\n",
       "      <th>27</th>\n",
       "      <td>0.445</td>\n",
       "      <td>gini</td>\n",
       "      <td>10</td>\n",
       "      <td>1</td>\n",
       "      <td>17</td>\n",
       "      <td>295</td>\n",
       "      <td>0.555</td>\n",
       "    </tr>\n",
       "    <tr>\n",
       "      <th>22</th>\n",
       "      <td>0.448</td>\n",
       "      <td>gini</td>\n",
       "      <td>10</td>\n",
       "      <td>6</td>\n",
       "      <td>3</td>\n",
       "      <td>468</td>\n",
       "      <td>0.552</td>\n",
       "    </tr>\n",
       "    <tr>\n",
       "      <th>24</th>\n",
       "      <td>0.449</td>\n",
       "      <td>gini</td>\n",
       "      <td>9</td>\n",
       "      <td>3</td>\n",
       "      <td>5</td>\n",
       "      <td>462</td>\n",
       "      <td>0.551</td>\n",
       "    </tr>\n",
       "    <tr>\n",
       "      <th>23</th>\n",
       "      <td>0.449</td>\n",
       "      <td>gini</td>\n",
       "      <td>10</td>\n",
       "      <td>7</td>\n",
       "      <td>2</td>\n",
       "      <td>448</td>\n",
       "      <td>0.551</td>\n",
       "    </tr>\n",
       "    <tr>\n",
       "      <th>31</th>\n",
       "      <td>0.449</td>\n",
       "      <td>gini</td>\n",
       "      <td>9</td>\n",
       "      <td>1</td>\n",
       "      <td>25</td>\n",
       "      <td>333</td>\n",
       "      <td>0.551</td>\n",
       "    </tr>\n",
       "    <tr>\n",
       "      <th>17</th>\n",
       "      <td>0.450</td>\n",
       "      <td>gini</td>\n",
       "      <td>10</td>\n",
       "      <td>5</td>\n",
       "      <td>13</td>\n",
       "      <td>488</td>\n",
       "      <td>0.550</td>\n",
       "    </tr>\n",
       "  </tbody>\n",
       "</table>\n",
       "</div>"
      ],
      "text/plain": [
       "    loss rf__criterion  rf__max_depth  rf__min_samples_leaf  \\\n",
       "32 0.442          gini             10                     4   \n",
       "21 0.443          gini             10                     3   \n",
       "49 0.444       entropy             10                     2   \n",
       "35 0.444          gini             10                     3   \n",
       "27 0.445          gini             10                     1   \n",
       "22 0.448          gini             10                     6   \n",
       "24 0.449          gini              9                     3   \n",
       "23 0.449          gini             10                     7   \n",
       "31 0.449          gini              9                     1   \n",
       "17 0.450          gini             10                     5   \n",
       "\n",
       "    rf__min_samples_split  rf__n_estimators  score  \n",
       "32                     12               217  0.558  \n",
       "21                      2               494  0.557  \n",
       "49                      8               356  0.556  \n",
       "35                     10               187  0.556  \n",
       "27                     17               295  0.555  \n",
       "22                      3               468  0.552  \n",
       "24                      5               462  0.551  \n",
       "23                      2               448  0.551  \n",
       "31                     25               333  0.551  \n",
       "17                     13               488  0.550  "
      ]
     },
     "metadata": {},
     "output_type": "display_data"
    }
   ],
   "source": [
    "results = df_results(trials.results)\n",
    "display(results.head(10))"
   ]
  },
  {
   "cell_type": "markdown",
   "metadata": {},
   "source": [
    "Построим график"
   ]
  },
  {
   "cell_type": "code",
   "execution_count": 64,
   "metadata": {},
   "outputs": [
    {
     "data": {
      "text/plain": [
       "<seaborn.axisgrid.PairGrid at 0x225e3f618b0>"
      ]
     },
     "execution_count": 64,
     "metadata": {},
     "output_type": "execute_result"
    },
    {
     "data": {
      "image/png": "[encoded data removed]",
      "text/plain": [
       "<Figure size 976.475x900 with 20 Axes>"
      ]
     },
     "metadata": {},
     "output_type": "display_data"
    }
   ],
   "source": [
    "sns.pairplot(results[['rf__n_estimators',\n",
    "                      'rf__min_samples_split',\n",
    "                      'rf__min_samples_leaf',\n",
    "                      'rf__max_depth',\n",
    "                      'score',\n",
    "                      'rf__criterion']],\n",
    "             kind='hist', corner=True, hue='rf__criterion').map_lower(sns.kdeplot, levels=4, color=\".2\")"
   ]
  },
  {
   "cell_type": "markdown",
   "metadata": {},
   "source": [
    "Видим, что модель выбирала значения в районе, где была достигнуто наилучшее значение метрики.\n",
    "\n",
    "Обучим модель с наилучшими параметрами, а затем данные добавим в таблицу"
   ]
  },
  {
   "cell_type": "code",
   "execution_count": 65,
   "metadata": {},
   "outputs": [
    {
     "name": "stdout",
     "output_type": "stream",
     "text": [
      "{'criterion': 'gini', 'max_depth': 10, 'min_samples_leaf': 4, 'min_samples_split': 12, 'n_estimators': 217}\n"
     ]
    }
   ],
   "source": [
    "best_params_rf = space_eval(search_space_rf, best)\n",
    "best_params_rf['criterion'] = best_params_rf.pop('rf__criterion')\n",
    "best_params_rf['max_depth'] = best_params_rf.pop('rf__max_depth')\n",
    "best_params_rf['min_samples_leaf'] = best_params_rf.pop('rf__min_samples_leaf')\n",
    "best_params_rf['min_samples_split'] = best_params_rf.pop('rf__min_samples_split')\n",
    "best_params_rf['n_estimators'] = best_params_rf.pop('rf__n_estimators')\n",
    "print(best_params_rf)"
   ]
  },
  {
   "cell_type": "code",
   "execution_count": 66,
   "metadata": {},
   "outputs": [],
   "source": [
    "best_model_rf = Pipeline([('transformer', transformer),\n",
    "                  ('rf', RandomForestClassifier(n_jobs=-1, random_state=420,\n",
    "                                                   **best_params_rf))]).fit(X_train, y_train)\n"
   ]
  },
  {
   "cell_type": "code",
   "execution_count": 67,
   "metadata": {
    "scrolled": false
   },
   "outputs": [
    {
     "data": {
      "text/html": [
       "<div>\n",
       "<style scoped>\n",
       "    .dataframe tbody tr th:only-of-type {\n",
       "        vertical-align: middle;\n",
       "    }\n",
       "\n",
       "    .dataframe tbody tr th {\n",
       "        vertical-align: top;\n",
       "    }\n",
       "\n",
       "    .dataframe thead th {\n",
       "        text-align: right;\n",
       "    }\n",
       "</style>\n",
       "<table border=\"1\" class=\"dataframe\">\n",
       "  <thead>\n",
       "    <tr style=\"text-align: right;\">\n",
       "      <th></th>\n",
       "      <th>model_name</th>\n",
       "      <th>f1_train</th>\n",
       "      <th>f1_test</th>\n",
       "      <th>roc_auc_train</th>\n",
       "      <th>roc_auc_test</th>\n",
       "      <th>balanced</th>\n",
       "    </tr>\n",
       "  </thead>\n",
       "  <tbody>\n",
       "    <tr>\n",
       "      <th>0</th>\n",
       "      <td>Логистическая регрессия</td>\n",
       "      <td>0.488</td>\n",
       "      <td>0.517</td>\n",
       "      <td>0.834</td>\n",
       "      <td>0.833</td>\n",
       "      <td>False</td>\n",
       "    </tr>\n",
       "    <tr>\n",
       "      <th>1</th>\n",
       "      <td>Дерево решений</td>\n",
       "      <td>0.611</td>\n",
       "      <td>0.577</td>\n",
       "      <td>0.887</td>\n",
       "      <td>0.837</td>\n",
       "      <td>False</td>\n",
       "    </tr>\n",
       "    <tr>\n",
       "      <th>2</th>\n",
       "      <td>Случайный лес</td>\n",
       "      <td>0.623</td>\n",
       "      <td>0.578</td>\n",
       "      <td>0.926</td>\n",
       "      <td>0.866</td>\n",
       "      <td>False</td>\n",
       "    </tr>\n",
       "  </tbody>\n",
       "</table>\n",
       "</div>"
      ],
      "text/plain": [
       "                model_name  f1_train  f1_test  roc_auc_train  roc_auc_test  \\\n",
       "0  Логистическая регрессия     0.488    0.517          0.834         0.833   \n",
       "1           Дерево решений     0.611    0.577          0.887         0.837   \n",
       "2            Случайный лес     0.623    0.578          0.926         0.866   \n",
       "\n",
       "  balanced  \n",
       "0    False  \n",
       "1    False  \n",
       "2    False  "
      ]
     },
     "metadata": {},
     "output_type": "display_data"
    }
   ],
   "source": [
    "table_comp = table_comp.append(add_scores_to_table(best_model_rf, 'Случайный лес'), ignore_index=True)\n",
    "display(table_comp)"
   ]
  },
  {
   "cell_type": "markdown",
   "metadata": {},
   "source": [
    "### Выводы"
   ]
  },
  {
   "cell_type": "code",
   "execution_count": 69,
   "metadata": {},
   "outputs": [
    {
     "data": {
      "text/html": [
       "<div>\n",
       "<style scoped>\n",
       "    .dataframe tbody tr th:only-of-type {\n",
       "        vertical-align: middle;\n",
       "    }\n",
       "\n",
       "    .dataframe tbody tr th {\n",
       "        vertical-align: top;\n",
       "    }\n",
       "\n",
       "    .dataframe thead th {\n",
       "        text-align: right;\n",
       "    }\n",
       "</style>\n",
       "<table border=\"1\" class=\"dataframe\">\n",
       "  <thead>\n",
       "    <tr style=\"text-align: right;\">\n",
       "      <th></th>\n",
       "      <th>model_name</th>\n",
       "      <th>f1_train</th>\n",
       "      <th>f1_test</th>\n",
       "      <th>roc_auc_train</th>\n",
       "      <th>roc_auc_test</th>\n",
       "      <th>balanced</th>\n",
       "    </tr>\n",
       "  </thead>\n",
       "  <tbody>\n",
       "    <tr>\n",
       "      <th>2</th>\n",
       "      <td>Случайный лес</td>\n",
       "      <td>0.623</td>\n",
       "      <td>0.578</td>\n",
       "      <td>0.926</td>\n",
       "      <td>0.866</td>\n",
       "      <td>False</td>\n",
       "    </tr>\n",
       "    <tr>\n",
       "      <th>1</th>\n",
       "      <td>Дерево решений</td>\n",
       "      <td>0.611</td>\n",
       "      <td>0.577</td>\n",
       "      <td>0.887</td>\n",
       "      <td>0.837</td>\n",
       "      <td>False</td>\n",
       "    </tr>\n",
       "    <tr>\n",
       "      <th>0</th>\n",
       "      <td>Логистическая регрессия</td>\n",
       "      <td>0.488</td>\n",
       "      <td>0.517</td>\n",
       "      <td>0.834</td>\n",
       "      <td>0.833</td>\n",
       "      <td>False</td>\n",
       "    </tr>\n",
       "  </tbody>\n",
       "</table>\n",
       "</div>"
      ],
      "text/plain": [
       "                model_name  f1_train  f1_test  roc_auc_train  roc_auc_test  \\\n",
       "2            Случайный лес     0.623    0.578          0.926         0.866   \n",
       "1           Дерево решений     0.611    0.577          0.887         0.837   \n",
       "0  Логистическая регрессия     0.488    0.517          0.834         0.833   \n",
       "\n",
       "  balanced  \n",
       "2    False  \n",
       "1    False  \n",
       "0    False  "
      ]
     },
     "execution_count": 69,
     "metadata": {},
     "output_type": "execute_result"
    }
   ],
   "source": [
    "table_comp.sort_values('f1_test', ascending=False)"
   ]
  },
  {
   "cell_type": "markdown",
   "metadata": {},
   "source": [
    "В данном разделе провели анализ среди моделей машинного обучения без балансировки классов. Наилучшие показатели метрики F1 и ROC-AUC удалось достичь модели случайного леса Выберем эту модель для дальнейшего исследования"
   ]
  },
  {
   "cell_type": "markdown",
   "metadata": {},
   "source": [
    "## Борьба с дисбалансом"
   ]
  },
  {
   "cell_type": "markdown",
   "metadata": {},
   "source": [
    "### Подготовка"
   ]
  },
  {
   "cell_type": "markdown",
   "metadata": {},
   "source": [
    "В данном разделе будем рассматривать три подхода балансировки классов:\n",
    "1. Downsampling (Undersampling). Понижение размерности выборки. В данном случае будем случайным образом уменьшать majority класс;\n",
    "2. Upsampling (Over-sampling). Увеличение размерности выборки. В этом - увеличивать случайным образом minority класс;\n",
    "3. Class weight. Взвешивание классов. Рассмотренные выше модели поддерживают автоматическую балансировку классов за счет взвешивания."
   ]
  },
  {
   "cell_type": "markdown",
   "metadata": {},
   "source": [
    "### Взвешивание классов"
   ]
  },
  {
   "cell_type": "markdown",
   "metadata": {},
   "source": [
    "Самый простой способ - применить автоматическое взвешивание классов в параметрах самой модели."
   ]
  },
  {
   "cell_type": "code",
   "execution_count": 70,
   "metadata": {},
   "outputs": [],
   "source": [
    "model_rf_balanced = Pipeline([('transformer', transformer),\n",
    "                  ('rf', RandomForestClassifier(n_jobs=-1,\n",
    "                                                random_state=420,\n",
    "                                                class_weight='balanced'))])"
   ]
  },
  {
   "cell_type": "code",
   "execution_count": 71,
   "metadata": {},
   "outputs": [],
   "source": [
    "skf_n_splits = 10\n",
    "search_space_rf_balanced = {\n",
    "                      'rf__criterion' : hp.choice(\n",
    "                          label='criterion',\n",
    "                          options=['gini', 'entropy']),\n",
    "                      'rf__n_estimators' : scope.int(hp.quniform(\n",
    "                          'n_estimators', 100, 500, 1)),\n",
    "                      'rf__max_depth' : scope.int(hp.quniform(\n",
    "                          'max_depth', 1, 8, 1)),\n",
    "                      'rf__min_samples_split' :  scope.int(hp.quniform(\n",
    "                          'min_samples_split', 2, 40, 1)),\n",
    "                      'rf__min_samples_leaf' :  scope.int(hp.quniform(\n",
    "                          'min_samples_leaf', 1, 20, 1))\n",
    "}"
   ]
  },
  {
   "cell_type": "code",
   "execution_count": 72,
   "metadata": {},
   "outputs": [
    {
     "name": "stdout",
     "output_type": "stream",
     "text": [
      "100%|████████████████████████████████████████████████| 50/50 [04:20<00:00,  5.20s/trial, best loss: 0.3990968309787587]\n"
     ]
    }
   ],
   "source": [
    "trials = Trials()\n",
    "best = fmin( \n",
    "          # функция для оптимизации  \n",
    "            fn=partial(objective,\n",
    "                       pipeline=model_rf_balanced,\n",
    "                       X_train=X_train,\n",
    "                       y_train=y_train),\n",
    "          # пространство поиска гиперпараметров  \n",
    "            space=search_space_rf_balanced,\n",
    "          # алгоритм поиска\n",
    "            algo=tpe.suggest,\n",
    "          # число итераций \n",
    "            max_evals=50,\n",
    "          # куда сохранять историю поиска\n",
    "            trials=trials,\n",
    "          # random state\n",
    "            rstate=np.random.RandomState(420),\n",
    "          # progressbar\n",
    "           show_progressbar=True\n",
    "        )"
   ]
  },
  {
   "cell_type": "code",
   "execution_count": 73,
   "metadata": {},
   "outputs": [
    {
     "name": "stdout",
     "output_type": "stream",
     "text": [
      "{'criterion': 'entropy', 'max_depth': 8, 'min_samples_leaf': 15, 'min_samples_split': 8, 'n_estimators': 161}\n"
     ]
    }
   ],
   "source": [
    "best_params_rf_balanced = space_eval(search_space_rf_balanced, best)\n",
    "best_params_rf_balanced['criterion'] = best_params_rf_balanced.pop('rf__criterion')\n",
    "best_params_rf_balanced['max_depth'] = best_params_rf_balanced.pop('rf__max_depth')\n",
    "best_params_rf_balanced['min_samples_leaf'] = best_params_rf_balanced.pop('rf__min_samples_leaf')\n",
    "best_params_rf_balanced['min_samples_split'] = best_params_rf_balanced.pop('rf__min_samples_split')\n",
    "best_params_rf_balanced['n_estimators'] = best_params_rf_balanced.pop('rf__n_estimators')\n",
    "print(best_params_rf_balanced)"
   ]
  },
  {
   "cell_type": "code",
   "execution_count": 74,
   "metadata": {},
   "outputs": [],
   "source": [
    "best_model_rf_balanced = Pipeline([\n",
    "    ('transformer', transformer),\n",
    "    ('rf', RandomForestClassifier(n_jobs=-1,\n",
    "                                  random_state=420,\n",
    "                                  class_weight='balanced',\n",
    "                                  **best_params_rf_balanced\n",
    "                                 ))]).fit(X_train, y_train)"
   ]
  },
  {
   "cell_type": "code",
   "execution_count": 75,
   "metadata": {},
   "outputs": [
    {
     "data": {
      "text/html": [
       "<div>\n",
       "<style scoped>\n",
       "    .dataframe tbody tr th:only-of-type {\n",
       "        vertical-align: middle;\n",
       "    }\n",
       "\n",
       "    .dataframe tbody tr th {\n",
       "        vertical-align: top;\n",
       "    }\n",
       "\n",
       "    .dataframe thead th {\n",
       "        text-align: right;\n",
       "    }\n",
       "</style>\n",
       "<table border=\"1\" class=\"dataframe\">\n",
       "  <thead>\n",
       "    <tr style=\"text-align: right;\">\n",
       "      <th></th>\n",
       "      <th>model_name</th>\n",
       "      <th>f1_train</th>\n",
       "      <th>f1_test</th>\n",
       "      <th>roc_auc_train</th>\n",
       "      <th>roc_auc_test</th>\n",
       "      <th>balanced</th>\n",
       "    </tr>\n",
       "  </thead>\n",
       "  <tbody>\n",
       "    <tr>\n",
       "      <th>0</th>\n",
       "      <td>Логистическая регрессия</td>\n",
       "      <td>0.488</td>\n",
       "      <td>0.517</td>\n",
       "      <td>0.834</td>\n",
       "      <td>0.833</td>\n",
       "      <td>False</td>\n",
       "    </tr>\n",
       "    <tr>\n",
       "      <th>1</th>\n",
       "      <td>Дерево решений</td>\n",
       "      <td>0.611</td>\n",
       "      <td>0.577</td>\n",
       "      <td>0.887</td>\n",
       "      <td>0.837</td>\n",
       "      <td>False</td>\n",
       "    </tr>\n",
       "    <tr>\n",
       "      <th>2</th>\n",
       "      <td>Случайный лес</td>\n",
       "      <td>0.623</td>\n",
       "      <td>0.578</td>\n",
       "      <td>0.926</td>\n",
       "      <td>0.866</td>\n",
       "      <td>False</td>\n",
       "    </tr>\n",
       "    <tr>\n",
       "      <th>3</th>\n",
       "      <td>Случайный лес \"balanced\"</td>\n",
       "      <td>0.630</td>\n",
       "      <td>0.598</td>\n",
       "      <td>0.892</td>\n",
       "      <td>0.863</td>\n",
       "      <td>True</td>\n",
       "    </tr>\n",
       "  </tbody>\n",
       "</table>\n",
       "</div>"
      ],
      "text/plain": [
       "                 model_name  f1_train  f1_test  roc_auc_train  roc_auc_test  \\\n",
       "0   Логистическая регрессия     0.488    0.517          0.834         0.833   \n",
       "1            Дерево решений     0.611    0.577          0.887         0.837   \n",
       "2             Случайный лес     0.623    0.578          0.926         0.866   \n",
       "3  Случайный лес \"balanced\"     0.630    0.598          0.892         0.863   \n",
       "\n",
       "  balanced  \n",
       "0    False  \n",
       "1    False  \n",
       "2    False  \n",
       "3     True  "
      ]
     },
     "metadata": {},
     "output_type": "display_data"
    }
   ],
   "source": [
    "table_comp = table_comp.append(\n",
    "    add_scores_to_table(\n",
    "        best_model_rf_balanced,\n",
    "        'Случайный лес \"balanced\"',\n",
    "        True\n",
    "    ), ignore_index=True\n",
    ")\n",
    "display(table_comp)"
   ]
  },
  {
   "cell_type": "markdown",
   "metadata": {},
   "source": [
    "Как видим, показатель метрики F1 увеличился как на обучающей выборке, так и на тестовой, а ROC-AUC почти не изменился"
   ]
  },
  {
   "cell_type": "markdown",
   "metadata": {},
   "source": [
    "### Upsampling"
   ]
  },
  {
   "cell_type": "markdown",
   "metadata": {},
   "source": [
    "Данный метод предполагает увеличение меньшего класса для достижения баланса. Все манипуляции будем проводить с обучающей выборкой, а тестовую оставим, как есть.\n",
    "\n",
    "Во сколько раз необходимо увеличить наименьший класс?"
   ]
  },
  {
   "cell_type": "code",
   "execution_count": 76,
   "metadata": {},
   "outputs": [
    {
     "name": "stdout",
     "output_type": "stream",
     "text": [
      "4\n"
     ]
    }
   ],
   "source": [
    "repeat = round(len(y_train[y_train == 0]) / len(y_train[y_train == 1]))\n",
    "print(repeat)"
   ]
  },
  {
   "cell_type": "markdown",
   "metadata": {},
   "source": [
    "Напишем функцию, которая будет принимать датафрейм с признаками, датафрейм с метками, значение, во сколько раз необходимо увеличить данные. Также добавим перемешивание"
   ]
  },
  {
   "cell_type": "code",
   "execution_count": 77,
   "metadata": {},
   "outputs": [],
   "source": [
    "def upsample_ones(features, target, repeat):\n",
    "    features_zeros = features[target == 0]\n",
    "    features_ones = features[target == 1]\n",
    "    target_zeros = target[target == 0]\n",
    "    target_ones = target[target == 1]\n",
    "    features_upsampled = pd.concat(\n",
    "    [features_zeros] + [features_ones] * repeat)\n",
    "    target_upsampled = pd.concat(\n",
    "    [target_zeros] + [target_ones] * repeat)\n",
    "    features_upsampled, target_upsampled = shuffle(\n",
    "    features_upsampled, target_upsampled, random_state=42)\n",
    "    return features_upsampled, target_upsampled"
   ]
  },
  {
   "cell_type": "code",
   "execution_count": 78,
   "metadata": {},
   "outputs": [
    {
     "name": "stdout",
     "output_type": "stream",
     "text": [
      "Размер до 7500\n",
      "Размер после 12084\n",
      "Баланс классов 0.5057927838464085\n"
     ]
    }
   ],
   "source": [
    "print(f'Размер до {len(X_train)}')\n",
    "X_train_up, y_train_up = upsample_ones(X_train, y_train, repeat)\n",
    "print(f'Размер после {len(X_train_up)}')\n",
    "print(f'Баланс классов {y_train_up.mean()}')"
   ]
  },
  {
   "cell_type": "code",
   "execution_count": 79,
   "metadata": {},
   "outputs": [],
   "source": [
    "model_rf_up = Pipeline([('transformer', transformer),\n",
    "                  ('rf', RandomForestClassifier(n_jobs=-1,\n",
    "                                                random_state=420))])"
   ]
  },
  {
   "cell_type": "code",
   "execution_count": 80,
   "metadata": {},
   "outputs": [],
   "source": [
    "skf_n_splits = 10\n",
    "search_space_rf_up = {\n",
    "                      'rf__criterion' : hp.choice(\n",
    "                          label='criterion',\n",
    "                          options=['gini', 'entropy']),\n",
    "                      'rf__n_estimators' : scope.int(hp.quniform(\n",
    "                          'n_estimators', 100, 500, 1)),\n",
    "                      'rf__max_depth' : scope.int(hp.quniform(\n",
    "                          'max_depth', 1, 8, 1)),\n",
    "                      'rf__min_samples_split' :  scope.int(hp.quniform(\n",
    "                          'min_samples_split', 2, 40, 1)),\n",
    "                      'rf__min_samples_leaf' :  scope.int(hp.quniform(\n",
    "                          'min_samples_leaf', 1, 20, 1))\n",
    "}"
   ]
  },
  {
   "cell_type": "code",
   "execution_count": 81,
   "metadata": {},
   "outputs": [
    {
     "name": "stdout",
     "output_type": "stream",
     "text": [
      "100%|████████████████████████████████████████████████| 50/50 [07:08<00:00,  8.57s/trial, best loss: 0.1944208621746475]\n"
     ]
    }
   ],
   "source": [
    "trials = Trials()\n",
    "best = fmin( \n",
    "          # функция для оптимизации  \n",
    "            fn=partial(objective,\n",
    "                       pipeline=model_rf_up,\n",
    "                       X_train=X_train_up,\n",
    "                       y_train=y_train_up),\n",
    "          # пространство поиска гиперпараметров  \n",
    "            space=search_space_rf_balanced,\n",
    "          # алгоритм поиска\n",
    "            algo=tpe.suggest,\n",
    "          # число итераций \n",
    "            max_evals=50,\n",
    "          # куда сохранять историю поиска\n",
    "            trials=trials,\n",
    "          # random state\n",
    "            rstate=np.random.RandomState(420),\n",
    "          # progressbar\n",
    "           show_progressbar=True\n",
    "        )"
   ]
  },
  {
   "cell_type": "code",
   "execution_count": 82,
   "metadata": {},
   "outputs": [
    {
     "data": {
      "text/html": [
       "<div>\n",
       "<style scoped>\n",
       "    .dataframe tbody tr th:only-of-type {\n",
       "        vertical-align: middle;\n",
       "    }\n",
       "\n",
       "    .dataframe tbody tr th {\n",
       "        vertical-align: top;\n",
       "    }\n",
       "\n",
       "    .dataframe thead th {\n",
       "        text-align: right;\n",
       "    }\n",
       "</style>\n",
       "<table border=\"1\" class=\"dataframe\">\n",
       "  <thead>\n",
       "    <tr style=\"text-align: right;\">\n",
       "      <th></th>\n",
       "      <th>loss</th>\n",
       "      <th>rf__criterion</th>\n",
       "      <th>rf__max_depth</th>\n",
       "      <th>rf__min_samples_leaf</th>\n",
       "      <th>rf__min_samples_split</th>\n",
       "      <th>rf__n_estimators</th>\n",
       "      <th>score</th>\n",
       "    </tr>\n",
       "  </thead>\n",
       "  <tbody>\n",
       "    <tr>\n",
       "      <th>48</th>\n",
       "      <td>0.194</td>\n",
       "      <td>gini</td>\n",
       "      <td>8</td>\n",
       "      <td>2</td>\n",
       "      <td>7</td>\n",
       "      <td>443</td>\n",
       "      <td>0.806</td>\n",
       "    </tr>\n",
       "    <tr>\n",
       "      <th>30</th>\n",
       "      <td>0.195</td>\n",
       "      <td>gini</td>\n",
       "      <td>8</td>\n",
       "      <td>3</td>\n",
       "      <td>8</td>\n",
       "      <td>410</td>\n",
       "      <td>0.805</td>\n",
       "    </tr>\n",
       "    <tr>\n",
       "      <th>27</th>\n",
       "      <td>0.197</td>\n",
       "      <td>gini</td>\n",
       "      <td>8</td>\n",
       "      <td>3</td>\n",
       "      <td>15</td>\n",
       "      <td>407</td>\n",
       "      <td>0.803</td>\n",
       "    </tr>\n",
       "    <tr>\n",
       "      <th>22</th>\n",
       "      <td>0.198</td>\n",
       "      <td>gini</td>\n",
       "      <td>8</td>\n",
       "      <td>1</td>\n",
       "      <td>21</td>\n",
       "      <td>487</td>\n",
       "      <td>0.802</td>\n",
       "    </tr>\n",
       "    <tr>\n",
       "      <th>20</th>\n",
       "      <td>0.198</td>\n",
       "      <td>gini</td>\n",
       "      <td>8</td>\n",
       "      <td>1</td>\n",
       "      <td>23</td>\n",
       "      <td>378</td>\n",
       "      <td>0.802</td>\n",
       "    </tr>\n",
       "    <tr>\n",
       "      <th>21</th>\n",
       "      <td>0.199</td>\n",
       "      <td>gini</td>\n",
       "      <td>8</td>\n",
       "      <td>2</td>\n",
       "      <td>21</td>\n",
       "      <td>500</td>\n",
       "      <td>0.801</td>\n",
       "    </tr>\n",
       "    <tr>\n",
       "      <th>25</th>\n",
       "      <td>0.200</td>\n",
       "      <td>gini</td>\n",
       "      <td>8</td>\n",
       "      <td>1</td>\n",
       "      <td>24</td>\n",
       "      <td>429</td>\n",
       "      <td>0.800</td>\n",
       "    </tr>\n",
       "    <tr>\n",
       "      <th>38</th>\n",
       "      <td>0.201</td>\n",
       "      <td>gini</td>\n",
       "      <td>8</td>\n",
       "      <td>9</td>\n",
       "      <td>18</td>\n",
       "      <td>325</td>\n",
       "      <td>0.799</td>\n",
       "    </tr>\n",
       "    <tr>\n",
       "      <th>10</th>\n",
       "      <td>0.201</td>\n",
       "      <td>entropy</td>\n",
       "      <td>8</td>\n",
       "      <td>2</td>\n",
       "      <td>26</td>\n",
       "      <td>264</td>\n",
       "      <td>0.799</td>\n",
       "    </tr>\n",
       "    <tr>\n",
       "      <th>42</th>\n",
       "      <td>0.204</td>\n",
       "      <td>gini</td>\n",
       "      <td>8</td>\n",
       "      <td>15</td>\n",
       "      <td>14</td>\n",
       "      <td>375</td>\n",
       "      <td>0.796</td>\n",
       "    </tr>\n",
       "  </tbody>\n",
       "</table>\n",
       "</div>"
      ],
      "text/plain": [
       "    loss rf__criterion  rf__max_depth  rf__min_samples_leaf  \\\n",
       "48 0.194          gini              8                     2   \n",
       "30 0.195          gini              8                     3   \n",
       "27 0.197          gini              8                     3   \n",
       "22 0.198          gini              8                     1   \n",
       "20 0.198          gini              8                     1   \n",
       "21 0.199          gini              8                     2   \n",
       "25 0.200          gini              8                     1   \n",
       "38 0.201          gini              8                     9   \n",
       "10 0.201       entropy              8                     2   \n",
       "42 0.204          gini              8                    15   \n",
       "\n",
       "    rf__min_samples_split  rf__n_estimators  score  \n",
       "48                      7               443  0.806  \n",
       "30                      8               410  0.805  \n",
       "27                     15               407  0.803  \n",
       "22                     21               487  0.802  \n",
       "20                     23               378  0.802  \n",
       "21                     21               500  0.801  \n",
       "25                     24               429  0.800  \n",
       "38                     18               325  0.799  \n",
       "10                     26               264  0.799  \n",
       "42                     14               375  0.796  "
      ]
     },
     "metadata": {},
     "output_type": "display_data"
    }
   ],
   "source": [
    "results = df_results(trials.results)\n",
    "display(results.head(10))"
   ]
  },
  {
   "cell_type": "markdown",
   "metadata": {},
   "source": [
    "Можно заметить, что на кросс-валидации при обучении был достигнут показатель метрики F1 со значением 0.80. Это очень неплохой результат!\n",
    "\n",
    "Но будет ли такой же показатель на тестовой выборке?"
   ]
  },
  {
   "cell_type": "code",
   "execution_count": 83,
   "metadata": {},
   "outputs": [
    {
     "name": "stdout",
     "output_type": "stream",
     "text": [
      "{'criterion': 'gini', 'max_depth': 8, 'min_samples_leaf': 2, 'min_samples_split': 7, 'n_estimators': 443}\n"
     ]
    }
   ],
   "source": [
    "best_params_rf_up = space_eval(search_space_rf_up, best)\n",
    "best_params_rf_up['criterion'] = best_params_rf_up.pop('rf__criterion')\n",
    "best_params_rf_up['max_depth'] = best_params_rf_up.pop('rf__max_depth')\n",
    "best_params_rf_up['min_samples_leaf'] = best_params_rf_up.pop('rf__min_samples_leaf')\n",
    "best_params_rf_up['min_samples_split'] = best_params_rf_up.pop('rf__min_samples_split')\n",
    "best_params_rf_up['n_estimators'] = best_params_rf_up.pop('rf__n_estimators')\n",
    "print(best_params_rf_up)"
   ]
  },
  {
   "cell_type": "code",
   "execution_count": 84,
   "metadata": {},
   "outputs": [],
   "source": [
    "best_model_rf_up = Pipeline([\n",
    "    ('transformer', transformer),\n",
    "    ('rf', RandomForestClassifier(n_jobs=-1,\n",
    "                                  random_state=420,\n",
    "                                  **best_params_rf_up\n",
    "                                 ))]).fit(X_train_up, y_train_up)"
   ]
  },
  {
   "cell_type": "code",
   "execution_count": 85,
   "metadata": {
    "scrolled": true
   },
   "outputs": [
    {
     "data": {
      "text/html": [
       "<div>\n",
       "<style scoped>\n",
       "    .dataframe tbody tr th:only-of-type {\n",
       "        vertical-align: middle;\n",
       "    }\n",
       "\n",
       "    .dataframe tbody tr th {\n",
       "        vertical-align: top;\n",
       "    }\n",
       "\n",
       "    .dataframe thead th {\n",
       "        text-align: right;\n",
       "    }\n",
       "</style>\n",
       "<table border=\"1\" class=\"dataframe\">\n",
       "  <thead>\n",
       "    <tr style=\"text-align: right;\">\n",
       "      <th></th>\n",
       "      <th>model_name</th>\n",
       "      <th>f1_train</th>\n",
       "      <th>f1_test</th>\n",
       "      <th>roc_auc_train</th>\n",
       "      <th>roc_auc_test</th>\n",
       "      <th>balanced</th>\n",
       "    </tr>\n",
       "  </thead>\n",
       "  <tbody>\n",
       "    <tr>\n",
       "      <th>0</th>\n",
       "      <td>Логистическая регрессия</td>\n",
       "      <td>0.488</td>\n",
       "      <td>0.517</td>\n",
       "      <td>0.834</td>\n",
       "      <td>0.833</td>\n",
       "      <td>False</td>\n",
       "    </tr>\n",
       "    <tr>\n",
       "      <th>1</th>\n",
       "      <td>Дерево решений</td>\n",
       "      <td>0.611</td>\n",
       "      <td>0.577</td>\n",
       "      <td>0.887</td>\n",
       "      <td>0.837</td>\n",
       "      <td>False</td>\n",
       "    </tr>\n",
       "    <tr>\n",
       "      <th>2</th>\n",
       "      <td>Случайный лес</td>\n",
       "      <td>0.623</td>\n",
       "      <td>0.578</td>\n",
       "      <td>0.926</td>\n",
       "      <td>0.866</td>\n",
       "      <td>False</td>\n",
       "    </tr>\n",
       "    <tr>\n",
       "      <th>3</th>\n",
       "      <td>Случайный лес \"balanced\"</td>\n",
       "      <td>0.630</td>\n",
       "      <td>0.598</td>\n",
       "      <td>0.892</td>\n",
       "      <td>0.863</td>\n",
       "      <td>True</td>\n",
       "    </tr>\n",
       "    <tr>\n",
       "      <th>4</th>\n",
       "      <td>Случайный лес \"upsampling\"</td>\n",
       "      <td>0.654</td>\n",
       "      <td>0.600</td>\n",
       "      <td>0.911</td>\n",
       "      <td>0.863</td>\n",
       "      <td>True</td>\n",
       "    </tr>\n",
       "  </tbody>\n",
       "</table>\n",
       "</div>"
      ],
      "text/plain": [
       "                   model_name  f1_train  f1_test  roc_auc_train  roc_auc_test  \\\n",
       "0     Логистическая регрессия     0.488    0.517          0.834         0.833   \n",
       "1              Дерево решений     0.611    0.577          0.887         0.837   \n",
       "2               Случайный лес     0.623    0.578          0.926         0.866   \n",
       "3    Случайный лес \"balanced\"     0.630    0.598          0.892         0.863   \n",
       "4  Случайный лес \"upsampling\"     0.654    0.600          0.911         0.863   \n",
       "\n",
       "  balanced  \n",
       "0    False  \n",
       "1    False  \n",
       "2    False  \n",
       "3     True  \n",
       "4     True  "
      ]
     },
     "metadata": {},
     "output_type": "display_data"
    }
   ],
   "source": [
    "table_comp = table_comp.append(\n",
    "    add_scores_to_table(\n",
    "        best_model_rf_up,\n",
    "        'Случайный лес \"upsampling\"',\n",
    "        True\n",
    "    ), ignore_index=True\n",
    ")\n",
    "display(table_comp)"
   ]
  },
  {
   "cell_type": "markdown",
   "metadata": {},
   "source": [
    "Получается, что несмотря на то, что при обучении на кросс-валидации был достигнут высокий показатель метрики F1, обученная модель на тестовой выборке показала почти такие же результаты, как и в случае с автоматическим взвешиванием.\n",
    "\n",
    "Интересно, улучшилась бы ситуация, если бы мы еще дополнительно балансировали классы признаков?"
   ]
  },
  {
   "cell_type": "markdown",
   "metadata": {},
   "source": [
    "### Downsampling"
   ]
  },
  {
   "cell_type": "markdown",
   "metadata": {},
   "source": [
    "В этом разделе будем производить понижение размерности выборки. Предположительно это плохо скажется на обучении модели, так как изначально выборка небольшого размера. Наверное, придется снизить количество фолдов на кросс-валидации\n",
    "\n",
    "Во сколько необходимо уменьшить наибольший класс, чтобы добиться баланса?"
   ]
  },
  {
   "cell_type": "code",
   "execution_count": 86,
   "metadata": {},
   "outputs": [
    {
     "data": {
      "text/plain": [
       "3.9083769633507854"
      ]
     },
     "execution_count": 86,
     "metadata": {},
     "output_type": "execute_result"
    }
   ],
   "source": [
    "len(y_train[y_train == 0]) / len(y_train[y_train == 1])"
   ]
  },
  {
   "cell_type": "markdown",
   "metadata": {},
   "source": [
    "Во столько же, во сколько необходимо было увеличить меньший класс!\n",
    "\n",
    "Какова доля меньшего класса в большем по размерности?"
   ]
  },
  {
   "cell_type": "code",
   "execution_count": 87,
   "metadata": {},
   "outputs": [
    {
     "name": "stdout",
     "output_type": "stream",
     "text": [
      "0.25586068318821165\n"
     ]
    }
   ],
   "source": [
    "fraction = len(y_train[y_train == 1]) / len(y_train[y_train == 0])\n",
    "print(fraction)"
   ]
  },
  {
   "cell_type": "code",
   "execution_count": 88,
   "metadata": {},
   "outputs": [],
   "source": [
    "def downsample_zeros(features, target, fraction):\n",
    "    features_zeros = features[target == 0]\n",
    "    features_ones = features[target == 1]\n",
    "    target_zeros = target[target == 0]\n",
    "    target_ones = target[target == 1]\n",
    "    features_downsampled = pd.concat(\n",
    "    [features_zeros.sample(frac=fraction, random_state=42)]\n",
    "    + [features_ones])\n",
    "    target_downsampled = pd.concat(\n",
    "    [target_zeros.sample(frac=fraction, random_state=42)]\n",
    "    + [target_ones])\n",
    "    return features_downsampled, target_downsampled"
   ]
  },
  {
   "cell_type": "code",
   "execution_count": 89,
   "metadata": {},
   "outputs": [
    {
     "name": "stdout",
     "output_type": "stream",
     "text": [
      "Размер до 7500\n",
      "Размер после 3056\n",
      "Баланс классов 0.5\n"
     ]
    }
   ],
   "source": [
    "print(f'Размер до {len(X_train)}')\n",
    "X_train_down, y_train_down = downsample_zeros(X_train, y_train, fraction)\n",
    "print(f'Размер после {len(X_train_down)}')\n",
    "print(f'Баланс классов {y_train_down.mean()}')"
   ]
  },
  {
   "cell_type": "markdown",
   "metadata": {},
   "source": [
    "Получилась выборка с тремя тысячами значений. Если проводить кросс-валидацию на 10 фолдах, то на целевой признак при перекрестной проверке придется всего около 300 значений. Будем пробовать!"
   ]
  },
  {
   "cell_type": "code",
   "execution_count": 90,
   "metadata": {},
   "outputs": [],
   "source": [
    "model_rf_down = Pipeline([('transformer', transformer),\n",
    "                  ('rf', RandomForestClassifier(n_jobs=-1,\n",
    "                                                random_state=420))])"
   ]
  },
  {
   "cell_type": "code",
   "execution_count": 91,
   "metadata": {},
   "outputs": [],
   "source": [
    "skf_n_splits = 10\n",
    "search_space_rf_down = {\n",
    "                      'rf__criterion' : hp.choice(\n",
    "                          label='criterion',\n",
    "                          options=['gini', 'entropy']),\n",
    "                      'rf__n_estimators' : scope.int(hp.quniform(\n",
    "                          'n_estimators', 100, 500, 1)),\n",
    "                      'rf__max_depth' : scope.int(hp.quniform(\n",
    "                          'max_depth', 1, 8, 1)),\n",
    "                      'rf__min_samples_split' :  scope.int(hp.quniform(\n",
    "                          'min_samples_split', 2, 40, 1)),\n",
    "                      'rf__min_samples_leaf' :  scope.int(hp.quniform(\n",
    "                          'min_samples_leaf', 1, 20, 1))\n",
    "}"
   ]
  },
  {
   "cell_type": "code",
   "execution_count": 92,
   "metadata": {},
   "outputs": [
    {
     "name": "stdout",
     "output_type": "stream",
     "text": [
      "100%|████████████████████████████████████████████████| 50/50 [02:55<00:00,  3.50s/trial, best loss: 0.2305281017391113]\n"
     ]
    }
   ],
   "source": [
    "trials = Trials()\n",
    "best = fmin( \n",
    "          # функция для оптимизации  \n",
    "            fn=partial(objective,\n",
    "                       pipeline=model_rf_down,\n",
    "                       X_train=X_train_down,\n",
    "                       y_train=y_train_down),\n",
    "          # пространство поиска гиперпараметров  \n",
    "            space=search_space_rf_down,\n",
    "          # алгоритм поиска\n",
    "            algo=tpe.suggest,\n",
    "          # число итераций \n",
    "            max_evals=50,\n",
    "          # куда сохранять историю поиска\n",
    "            trials=trials,\n",
    "          # random state\n",
    "            rstate=np.random.RandomState(420),\n",
    "          # progressbar\n",
    "           show_progressbar=True\n",
    "        )"
   ]
  },
  {
   "cell_type": "code",
   "execution_count": 93,
   "metadata": {},
   "outputs": [
    {
     "data": {
      "text/html": [
       "<div>\n",
       "<style scoped>\n",
       "    .dataframe tbody tr th:only-of-type {\n",
       "        vertical-align: middle;\n",
       "    }\n",
       "\n",
       "    .dataframe tbody tr th {\n",
       "        vertical-align: top;\n",
       "    }\n",
       "\n",
       "    .dataframe thead th {\n",
       "        text-align: right;\n",
       "    }\n",
       "</style>\n",
       "<table border=\"1\" class=\"dataframe\">\n",
       "  <thead>\n",
       "    <tr style=\"text-align: right;\">\n",
       "      <th></th>\n",
       "      <th>loss</th>\n",
       "      <th>rf__criterion</th>\n",
       "      <th>rf__max_depth</th>\n",
       "      <th>rf__min_samples_leaf</th>\n",
       "      <th>rf__min_samples_split</th>\n",
       "      <th>rf__n_estimators</th>\n",
       "      <th>score</th>\n",
       "    </tr>\n",
       "  </thead>\n",
       "  <tbody>\n",
       "    <tr>\n",
       "      <th>41</th>\n",
       "      <td>0.231</td>\n",
       "      <td>gini</td>\n",
       "      <td>8</td>\n",
       "      <td>4</td>\n",
       "      <td>29</td>\n",
       "      <td>376</td>\n",
       "      <td>0.769</td>\n",
       "    </tr>\n",
       "    <tr>\n",
       "      <th>38</th>\n",
       "      <td>0.231</td>\n",
       "      <td>gini</td>\n",
       "      <td>8</td>\n",
       "      <td>5</td>\n",
       "      <td>13</td>\n",
       "      <td>443</td>\n",
       "      <td>0.769</td>\n",
       "    </tr>\n",
       "    <tr>\n",
       "      <th>25</th>\n",
       "      <td>0.231</td>\n",
       "      <td>gini</td>\n",
       "      <td>7</td>\n",
       "      <td>6</td>\n",
       "      <td>15</td>\n",
       "      <td>371</td>\n",
       "      <td>0.769</td>\n",
       "    </tr>\n",
       "    <tr>\n",
       "      <th>20</th>\n",
       "      <td>0.232</td>\n",
       "      <td>gini</td>\n",
       "      <td>8</td>\n",
       "      <td>14</td>\n",
       "      <td>14</td>\n",
       "      <td>499</td>\n",
       "      <td>0.768</td>\n",
       "    </tr>\n",
       "    <tr>\n",
       "      <th>47</th>\n",
       "      <td>0.232</td>\n",
       "      <td>gini</td>\n",
       "      <td>8</td>\n",
       "      <td>3</td>\n",
       "      <td>31</td>\n",
       "      <td>444</td>\n",
       "      <td>0.768</td>\n",
       "    </tr>\n",
       "    <tr>\n",
       "      <th>8</th>\n",
       "      <td>0.232</td>\n",
       "      <td>gini</td>\n",
       "      <td>8</td>\n",
       "      <td>3</td>\n",
       "      <td>22</td>\n",
       "      <td>414</td>\n",
       "      <td>0.768</td>\n",
       "    </tr>\n",
       "    <tr>\n",
       "      <th>24</th>\n",
       "      <td>0.232</td>\n",
       "      <td>gini</td>\n",
       "      <td>8</td>\n",
       "      <td>12</td>\n",
       "      <td>19</td>\n",
       "      <td>233</td>\n",
       "      <td>0.768</td>\n",
       "    </tr>\n",
       "    <tr>\n",
       "      <th>22</th>\n",
       "      <td>0.232</td>\n",
       "      <td>gini</td>\n",
       "      <td>8</td>\n",
       "      <td>14</td>\n",
       "      <td>11</td>\n",
       "      <td>485</td>\n",
       "      <td>0.768</td>\n",
       "    </tr>\n",
       "    <tr>\n",
       "      <th>29</th>\n",
       "      <td>0.233</td>\n",
       "      <td>gini</td>\n",
       "      <td>8</td>\n",
       "      <td>11</td>\n",
       "      <td>20</td>\n",
       "      <td>325</td>\n",
       "      <td>0.767</td>\n",
       "    </tr>\n",
       "    <tr>\n",
       "      <th>26</th>\n",
       "      <td>0.233</td>\n",
       "      <td>gini</td>\n",
       "      <td>7</td>\n",
       "      <td>6</td>\n",
       "      <td>8</td>\n",
       "      <td>358</td>\n",
       "      <td>0.767</td>\n",
       "    </tr>\n",
       "  </tbody>\n",
       "</table>\n",
       "</div>"
      ],
      "text/plain": [
       "    loss rf__criterion  rf__max_depth  rf__min_samples_leaf  \\\n",
       "41 0.231          gini              8                     4   \n",
       "38 0.231          gini              8                     5   \n",
       "25 0.231          gini              7                     6   \n",
       "20 0.232          gini              8                    14   \n",
       "47 0.232          gini              8                     3   \n",
       "8  0.232          gini              8                     3   \n",
       "24 0.232          gini              8                    12   \n",
       "22 0.232          gini              8                    14   \n",
       "29 0.233          gini              8                    11   \n",
       "26 0.233          gini              7                     6   \n",
       "\n",
       "    rf__min_samples_split  rf__n_estimators  score  \n",
       "41                     29               376  0.769  \n",
       "38                     13               443  0.769  \n",
       "25                     15               371  0.769  \n",
       "20                     14               499  0.768  \n",
       "47                     31               444  0.768  \n",
       "8                      22               414  0.768  \n",
       "24                     19               233  0.768  \n",
       "22                     11               485  0.768  \n",
       "29                     20               325  0.767  \n",
       "26                      8               358  0.767  "
      ]
     },
     "metadata": {},
     "output_type": "display_data"
    }
   ],
   "source": [
    "results = df_results(trials.results)\n",
    "display(results.head(10))"
   ]
  },
  {
   "cell_type": "markdown",
   "metadata": {},
   "source": [
    "Можно заметить, что на кросс-валидации при обучении был достигнут показатель метрики F1 со значением 0.80. Это очень неплохой результат!\n",
    "\n",
    "Но будет ли такой же показатель на тестовой выборке?"
   ]
  },
  {
   "cell_type": "code",
   "execution_count": 94,
   "metadata": {},
   "outputs": [
    {
     "name": "stdout",
     "output_type": "stream",
     "text": [
      "{'criterion': 'gini', 'max_depth': 8, 'min_samples_leaf': 4, 'min_samples_split': 29, 'n_estimators': 376}\n"
     ]
    }
   ],
   "source": [
    "best_params_rf_down = space_eval(search_space_rf_down, best)\n",
    "best_params_rf_down['criterion'] = best_params_rf_down.pop('rf__criterion')\n",
    "best_params_rf_down['max_depth'] = best_params_rf_down.pop('rf__max_depth')\n",
    "best_params_rf_down['min_samples_leaf'] = best_params_rf_down.pop('rf__min_samples_leaf')\n",
    "best_params_rf_down['min_samples_split'] = best_params_rf_down.pop('rf__min_samples_split')\n",
    "best_params_rf_down['n_estimators'] = best_params_rf_down.pop('rf__n_estimators')\n",
    "print(best_params_rf_down)"
   ]
  },
  {
   "cell_type": "code",
   "execution_count": 95,
   "metadata": {},
   "outputs": [],
   "source": [
    "best_model_rf_down = Pipeline([\n",
    "    ('transformer', transformer),\n",
    "    ('rf', RandomForestClassifier(n_jobs=-1,\n",
    "                                  random_state=420,\n",
    "                                  **best_params_rf_down\n",
    "                                 ))]).fit(X_train_down, y_train_down)"
   ]
  },
  {
   "cell_type": "code",
   "execution_count": 96,
   "metadata": {
    "scrolled": true
   },
   "outputs": [
    {
     "data": {
      "text/html": [
       "<div>\n",
       "<style scoped>\n",
       "    .dataframe tbody tr th:only-of-type {\n",
       "        vertical-align: middle;\n",
       "    }\n",
       "\n",
       "    .dataframe tbody tr th {\n",
       "        vertical-align: top;\n",
       "    }\n",
       "\n",
       "    .dataframe thead th {\n",
       "        text-align: right;\n",
       "    }\n",
       "</style>\n",
       "<table border=\"1\" class=\"dataframe\">\n",
       "  <thead>\n",
       "    <tr style=\"text-align: right;\">\n",
       "      <th></th>\n",
       "      <th>model_name</th>\n",
       "      <th>f1_train</th>\n",
       "      <th>f1_test</th>\n",
       "      <th>roc_auc_train</th>\n",
       "      <th>roc_auc_test</th>\n",
       "      <th>balanced</th>\n",
       "    </tr>\n",
       "  </thead>\n",
       "  <tbody>\n",
       "    <tr>\n",
       "      <th>0</th>\n",
       "      <td>Логистическая регрессия</td>\n",
       "      <td>0.488</td>\n",
       "      <td>0.517</td>\n",
       "      <td>0.834</td>\n",
       "      <td>0.833</td>\n",
       "      <td>False</td>\n",
       "    </tr>\n",
       "    <tr>\n",
       "      <th>1</th>\n",
       "      <td>Дерево решений</td>\n",
       "      <td>0.611</td>\n",
       "      <td>0.577</td>\n",
       "      <td>0.887</td>\n",
       "      <td>0.837</td>\n",
       "      <td>False</td>\n",
       "    </tr>\n",
       "    <tr>\n",
       "      <th>2</th>\n",
       "      <td>Случайный лес</td>\n",
       "      <td>0.623</td>\n",
       "      <td>0.578</td>\n",
       "      <td>0.926</td>\n",
       "      <td>0.866</td>\n",
       "      <td>False</td>\n",
       "    </tr>\n",
       "    <tr>\n",
       "      <th>3</th>\n",
       "      <td>Случайный лес \"balanced\"</td>\n",
       "      <td>0.630</td>\n",
       "      <td>0.598</td>\n",
       "      <td>0.892</td>\n",
       "      <td>0.863</td>\n",
       "      <td>True</td>\n",
       "    </tr>\n",
       "    <tr>\n",
       "      <th>4</th>\n",
       "      <td>Случайный лес \"upsampling\"</td>\n",
       "      <td>0.654</td>\n",
       "      <td>0.600</td>\n",
       "      <td>0.911</td>\n",
       "      <td>0.863</td>\n",
       "      <td>True</td>\n",
       "    </tr>\n",
       "    <tr>\n",
       "      <th>5</th>\n",
       "      <td>Случайный лес \"downsampling\"</td>\n",
       "      <td>0.624</td>\n",
       "      <td>0.596</td>\n",
       "      <td>0.887</td>\n",
       "      <td>0.864</td>\n",
       "      <td>True</td>\n",
       "    </tr>\n",
       "  </tbody>\n",
       "</table>\n",
       "</div>"
      ],
      "text/plain": [
       "                     model_name  f1_train  f1_test  roc_auc_train  \\\n",
       "0       Логистическая регрессия     0.488    0.517          0.834   \n",
       "1                Дерево решений     0.611    0.577          0.887   \n",
       "2                 Случайный лес     0.623    0.578          0.926   \n",
       "3      Случайный лес \"balanced\"     0.630    0.598          0.892   \n",
       "4    Случайный лес \"upsampling\"     0.654    0.600          0.911   \n",
       "5  Случайный лес \"downsampling\"     0.624    0.596          0.887   \n",
       "\n",
       "   roc_auc_test balanced  \n",
       "0         0.833    False  \n",
       "1         0.837    False  \n",
       "2         0.866    False  \n",
       "3         0.863     True  \n",
       "4         0.863     True  \n",
       "5         0.864     True  "
      ]
     },
     "metadata": {},
     "output_type": "display_data"
    }
   ],
   "source": [
    "table_comp = table_comp.append(\n",
    "    add_scores_to_table(\n",
    "        best_model_rf_down,\n",
    "        'Случайный лес \"downsampling\"',\n",
    "        True\n",
    "    ), ignore_index=True\n",
    ")\n",
    "display(table_comp)"
   ]
  },
  {
   "cell_type": "markdown",
   "metadata": {},
   "source": [
    "### Выводы"
   ]
  },
  {
   "cell_type": "markdown",
   "metadata": {},
   "source": [
    "В данном разделе провели исследование балансировки целевого признака следующими методами:\n",
    "* Взвешивание классов в параметрах самой модели;\n",
    "* Увеличение выборки;\n",
    "* Уменьшение выборки.\n",
    "\n",
    "В таблице ниже видно, что наилучший показатель метрики F1 на тестовой выборке был достигнут с помощью взвешивания в параметрах самой модели, хотя остальные методы не сильно отстают.\n",
    "\n",
    "Также можно заметить, что показатель метрики ROC-AUC на тестовой выборке в этих случаях одинаковый при всех подходах."
   ]
  },
  {
   "cell_type": "code",
   "execution_count": 97,
   "metadata": {},
   "outputs": [
    {
     "data": {
      "text/html": [
       "<div>\n",
       "<style scoped>\n",
       "    .dataframe tbody tr th:only-of-type {\n",
       "        vertical-align: middle;\n",
       "    }\n",
       "\n",
       "    .dataframe tbody tr th {\n",
       "        vertical-align: top;\n",
       "    }\n",
       "\n",
       "    .dataframe thead th {\n",
       "        text-align: right;\n",
       "    }\n",
       "</style>\n",
       "<table border=\"1\" class=\"dataframe\">\n",
       "  <thead>\n",
       "    <tr style=\"text-align: right;\">\n",
       "      <th></th>\n",
       "      <th>model_name</th>\n",
       "      <th>f1_train</th>\n",
       "      <th>f1_test</th>\n",
       "      <th>roc_auc_train</th>\n",
       "      <th>roc_auc_test</th>\n",
       "      <th>balanced</th>\n",
       "    </tr>\n",
       "  </thead>\n",
       "  <tbody>\n",
       "    <tr>\n",
       "      <th>4</th>\n",
       "      <td>Случайный лес \"upsampling\"</td>\n",
       "      <td>0.654</td>\n",
       "      <td>0.600</td>\n",
       "      <td>0.911</td>\n",
       "      <td>0.863</td>\n",
       "      <td>True</td>\n",
       "    </tr>\n",
       "    <tr>\n",
       "      <th>3</th>\n",
       "      <td>Случайный лес \"balanced\"</td>\n",
       "      <td>0.630</td>\n",
       "      <td>0.598</td>\n",
       "      <td>0.892</td>\n",
       "      <td>0.863</td>\n",
       "      <td>True</td>\n",
       "    </tr>\n",
       "    <tr>\n",
       "      <th>5</th>\n",
       "      <td>Случайный лес \"downsampling\"</td>\n",
       "      <td>0.624</td>\n",
       "      <td>0.596</td>\n",
       "      <td>0.887</td>\n",
       "      <td>0.864</td>\n",
       "      <td>True</td>\n",
       "    </tr>\n",
       "  </tbody>\n",
       "</table>\n",
       "</div>"
      ],
      "text/plain": [
       "                     model_name  f1_train  f1_test  roc_auc_train  \\\n",
       "4    Случайный лес \"upsampling\"     0.654    0.600          0.911   \n",
       "3      Случайный лес \"balanced\"     0.630    0.598          0.892   \n",
       "5  Случайный лес \"downsampling\"     0.624    0.596          0.887   \n",
       "\n",
       "   roc_auc_test balanced  \n",
       "4         0.863     True  \n",
       "3         0.863     True  \n",
       "5         0.864     True  "
      ]
     },
     "execution_count": 97,
     "metadata": {},
     "output_type": "execute_result"
    }
   ],
   "source": [
    "table_comp[table_comp['balanced'] == True\n",
    "          ].sort_values('f1_test', ascending=False)"
   ]
  },
  {
   "cell_type": "markdown",
   "metadata": {},
   "source": [
    "## Общие выводы"
   ]
  },
  {
   "cell_type": "markdown",
   "metadata": {},
   "source": [
    "На основании проделанной работы можно сделать вывод о том, что разные подходы балансировки классов целевого признака дают схожие результаты.\n",
    "\n",
    "При этом наименее трудозатратным является метод взвешивания классов, так как в этом случае нет необходимости проводить дополнительные манипуляции с данными.\n",
    "\n",
    "В таблице ниже видно, что для метрики ROC-AUC баланс классов не критичен в отличие от F-меры"
   ]
  },
  {
   "cell_type": "code",
   "execution_count": 98,
   "metadata": {
    "scrolled": true
   },
   "outputs": [
    {
     "data": {
      "text/html": [
       "<div>\n",
       "<style scoped>\n",
       "    .dataframe tbody tr th:only-of-type {\n",
       "        vertical-align: middle;\n",
       "    }\n",
       "\n",
       "    .dataframe tbody tr th {\n",
       "        vertical-align: top;\n",
       "    }\n",
       "\n",
       "    .dataframe thead th {\n",
       "        text-align: right;\n",
       "    }\n",
       "</style>\n",
       "<table border=\"1\" class=\"dataframe\">\n",
       "  <thead>\n",
       "    <tr style=\"text-align: right;\">\n",
       "      <th></th>\n",
       "      <th>model_name</th>\n",
       "      <th>f1_train</th>\n",
       "      <th>f1_test</th>\n",
       "      <th>roc_auc_train</th>\n",
       "      <th>roc_auc_test</th>\n",
       "      <th>balanced</th>\n",
       "    </tr>\n",
       "  </thead>\n",
       "  <tbody>\n",
       "    <tr>\n",
       "      <th>0</th>\n",
       "      <td>Логистическая регрессия</td>\n",
       "      <td>0.488</td>\n",
       "      <td>0.517</td>\n",
       "      <td>0.834</td>\n",
       "      <td>0.833</td>\n",
       "      <td>False</td>\n",
       "    </tr>\n",
       "    <tr>\n",
       "      <th>1</th>\n",
       "      <td>Дерево решений</td>\n",
       "      <td>0.611</td>\n",
       "      <td>0.577</td>\n",
       "      <td>0.887</td>\n",
       "      <td>0.837</td>\n",
       "      <td>False</td>\n",
       "    </tr>\n",
       "    <tr>\n",
       "      <th>2</th>\n",
       "      <td>Случайный лес</td>\n",
       "      <td>0.623</td>\n",
       "      <td>0.578</td>\n",
       "      <td>0.926</td>\n",
       "      <td>0.866</td>\n",
       "      <td>False</td>\n",
       "    </tr>\n",
       "    <tr>\n",
       "      <th>3</th>\n",
       "      <td>Случайный лес \"balanced\"</td>\n",
       "      <td>0.630</td>\n",
       "      <td>0.598</td>\n",
       "      <td>0.892</td>\n",
       "      <td>0.863</td>\n",
       "      <td>True</td>\n",
       "    </tr>\n",
       "    <tr>\n",
       "      <th>4</th>\n",
       "      <td>Случайный лес \"upsampling\"</td>\n",
       "      <td>0.654</td>\n",
       "      <td>0.600</td>\n",
       "      <td>0.911</td>\n",
       "      <td>0.863</td>\n",
       "      <td>True</td>\n",
       "    </tr>\n",
       "    <tr>\n",
       "      <th>5</th>\n",
       "      <td>Случайный лес \"downsampling\"</td>\n",
       "      <td>0.624</td>\n",
       "      <td>0.596</td>\n",
       "      <td>0.887</td>\n",
       "      <td>0.864</td>\n",
       "      <td>True</td>\n",
       "    </tr>\n",
       "  </tbody>\n",
       "</table>\n",
       "</div>"
      ],
      "text/plain": [
       "                     model_name  f1_train  f1_test  roc_auc_train  \\\n",
       "0       Логистическая регрессия     0.488    0.517          0.834   \n",
       "1                Дерево решений     0.611    0.577          0.887   \n",
       "2                 Случайный лес     0.623    0.578          0.926   \n",
       "3      Случайный лес \"balanced\"     0.630    0.598          0.892   \n",
       "4    Случайный лес \"upsampling\"     0.654    0.600          0.911   \n",
       "5  Случайный лес \"downsampling\"     0.624    0.596          0.887   \n",
       "\n",
       "   roc_auc_test balanced  \n",
       "0         0.833    False  \n",
       "1         0.837    False  \n",
       "2         0.866    False  \n",
       "3         0.863     True  \n",
       "4         0.863     True  \n",
       "5         0.864     True  "
      ]
     },
     "execution_count": 98,
     "metadata": {},
     "output_type": "execute_result"
    }
   ],
   "source": [
    "table_comp"
   ]
  },
  {
   "cell_type": "markdown",
   "metadata": {},
   "source": [
    "Первоначальное сравнение проводили среди следующих алгоритмов машинного обучения:\n",
    "* Логистическая регрессия;\n",
    "* Дерево решений;\n",
    "* Случайный лес.\n",
    "\n",
    "Наилучший показатель метрики F-меры на тестовой выборке без учета балансировки классов был получен с помощью модели случайного леса. Далее этот алгоритм был выбран для проверки разных подходов балансировки классов целевого признака. Были выбраны следующие методы:\n",
    "* Взвешивание классов в параметрах самой модели;\n",
    "* Увеличение выборки;\n",
    "* Уменьшение выборки.\n",
    "\n",
    "С помощью этих подходов были получены схожие результаты. Если учитывать показатели метрики F-меры, то модель с учетом балансировки (не важно каким методом) делает прогнозы лучше, чем без учета балансировки. На метрику ROC-AUC балансировка не повлияла.\n",
    "\n",
    "С учетом проведенного исследования можно сделать заключительный вывод о том, что любой метод балансировки классов целевого признака эффективен. Наиболее оптимально использовать взвешивание классов, так как данный метод нетрудозатратен, и в данной работе дал наилучший прирост метрики F1"
   ]
  }
 ],
 "metadata": {
  "ExecuteTimeLog": [
   {
    "duration": 4585,
    "start_time": "2021-11-13T17:03:16.116Z"
   },
   {
    "duration": 1657,
    "start_time": "2021-11-13T17:03:20.704Z"
   },
   {
    "duration": 151,
    "start_time": "2021-11-13T17:03:22.363Z"
   },
   {
    "duration": 11,
    "start_time": "2021-11-13T17:03:22.515Z"
   },
   {
    "duration": 13,
    "start_time": "2021-11-13T17:03:22.527Z"
   },
   {
    "duration": 14,
    "start_time": "2021-11-13T17:03:22.542Z"
   },
   {
    "duration": 38,
    "start_time": "2021-11-13T17:03:22.558Z"
   },
   {
    "duration": 5,
    "start_time": "2021-11-13T17:03:22.599Z"
   },
   {
    "duration": 16,
    "start_time": "2021-11-13T17:03:22.607Z"
   },
   {
    "duration": 24,
    "start_time": "2021-11-13T17:03:22.625Z"
   },
   {
    "duration": 5,
    "start_time": "2021-11-13T17:03:22.651Z"
   },
   {
    "duration": 15,
    "start_time": "2021-11-13T17:03:22.657Z"
   },
   {
    "duration": 3,
    "start_time": "2021-11-13T17:03:22.691Z"
   },
   {
    "duration": 48,
    "start_time": "2021-11-13T17:03:22.696Z"
   },
   {
    "duration": 18,
    "start_time": "2021-11-13T17:03:22.746Z"
   },
   {
    "duration": 36,
    "start_time": "2021-11-13T17:03:22.765Z"
   },
   {
    "duration": 32,
    "start_time": "2021-11-13T17:03:22.803Z"
   },
   {
    "duration": 4,
    "start_time": "2021-11-13T17:03:22.837Z"
   },
   {
    "duration": 7,
    "start_time": "2021-11-13T17:03:22.842Z"
   },
   {
    "duration": 11,
    "start_time": "2021-11-13T17:03:22.851Z"
   },
   {
    "duration": 188,
    "start_time": "2021-11-13T17:03:22.864Z"
   },
   {
    "duration": 946,
    "start_time": "2021-11-13T17:03:23.053Z"
   },
   {
    "duration": 473,
    "start_time": "2021-11-13T17:03:23.529Z"
   },
   {
    "duration": 467,
    "start_time": "2021-11-13T17:03:23.536Z"
   },
   {
    "duration": 464,
    "start_time": "2021-11-13T17:03:23.540Z"
   },
   {
    "duration": 459,
    "start_time": "2021-11-13T17:03:23.545Z"
   },
   {
    "duration": 458,
    "start_time": "2021-11-13T17:03:23.547Z"
   },
   {
    "duration": 455,
    "start_time": "2021-11-13T17:03:23.551Z"
   },
   {
    "duration": 453,
    "start_time": "2021-11-13T17:03:23.554Z"
   },
   {
    "duration": 452,
    "start_time": "2021-11-13T17:03:23.556Z"
   },
   {
    "duration": 450,
    "start_time": "2021-11-13T17:03:23.559Z"
   },
   {
    "duration": 448,
    "start_time": "2021-11-13T17:03:23.562Z"
   },
   {
    "duration": 446,
    "start_time": "2021-11-13T17:03:23.565Z"
   },
   {
    "duration": 441,
    "start_time": "2021-11-13T17:03:23.571Z"
   },
   {
    "duration": 439,
    "start_time": "2021-11-13T17:03:23.574Z"
   },
   {
    "duration": 437,
    "start_time": "2021-11-13T17:03:23.577Z"
   },
   {
    "duration": 433,
    "start_time": "2021-11-13T17:03:23.581Z"
   },
   {
    "duration": 431,
    "start_time": "2021-11-13T17:03:23.584Z"
   },
   {
    "duration": 430,
    "start_time": "2021-11-13T17:03:23.586Z"
   },
   {
    "duration": 428,
    "start_time": "2021-11-13T17:03:23.589Z"
   },
   {
    "duration": 427,
    "start_time": "2021-11-13T17:03:23.591Z"
   },
   {
    "duration": 426,
    "start_time": "2021-11-13T17:03:23.593Z"
   },
   {
    "duration": 425,
    "start_time": "2021-11-13T17:03:23.595Z"
   },
   {
    "duration": 422,
    "start_time": "2021-11-13T17:03:23.598Z"
   },
   {
    "duration": 421,
    "start_time": "2021-11-13T17:03:23.600Z"
   },
   {
    "duration": 419,
    "start_time": "2021-11-13T17:03:23.603Z"
   },
   {
    "duration": 418,
    "start_time": "2021-11-13T17:03:23.605Z"
   },
   {
    "duration": 417,
    "start_time": "2021-11-13T17:03:23.607Z"
   },
   {
    "duration": 416,
    "start_time": "2021-11-13T17:03:23.609Z"
   },
   {
    "duration": 415,
    "start_time": "2021-11-13T17:03:23.611Z"
   },
   {
    "duration": 405,
    "start_time": "2021-11-13T17:03:23.622Z"
   },
   {
    "duration": 402,
    "start_time": "2021-11-13T17:03:23.625Z"
   },
   {
    "duration": 400,
    "start_time": "2021-11-13T17:03:23.628Z"
   },
   {
    "duration": 397,
    "start_time": "2021-11-13T17:03:23.632Z"
   },
   {
    "duration": 395,
    "start_time": "2021-11-13T17:03:23.636Z"
   },
   {
    "duration": 4,
    "start_time": "2021-11-13T17:04:56.962Z"
   },
   {
    "duration": 4763,
    "start_time": "2021-11-13T17:05:46.252Z"
   },
   {
    "duration": 2160,
    "start_time": "2021-11-13T17:06:00.557Z"
   },
   {
    "duration": 1856,
    "start_time": "2021-11-13T17:06:02.719Z"
   },
   {
    "duration": 1680,
    "start_time": "2021-11-13T17:06:04.579Z"
   },
   {
    "duration": 92,
    "start_time": "2021-11-13T17:06:06.261Z"
   },
   {
    "duration": 7,
    "start_time": "2021-11-13T17:06:06.355Z"
   },
   {
    "duration": 20,
    "start_time": "2021-11-13T17:06:06.364Z"
   },
   {
    "duration": 18,
    "start_time": "2021-11-13T17:06:06.387Z"
   },
   {
    "duration": 31,
    "start_time": "2021-11-13T17:06:06.408Z"
   },
   {
    "duration": 4,
    "start_time": "2021-11-13T17:06:06.440Z"
   },
   {
    "duration": 30,
    "start_time": "2021-11-13T17:06:06.445Z"
   },
   {
    "duration": 36,
    "start_time": "2021-11-13T17:06:06.476Z"
   },
   {
    "duration": 5,
    "start_time": "2021-11-13T17:06:06.514Z"
   },
   {
    "duration": 13,
    "start_time": "2021-11-13T17:06:06.521Z"
   },
   {
    "duration": 15,
    "start_time": "2021-11-13T17:06:06.536Z"
   },
   {
    "duration": 41,
    "start_time": "2021-11-13T17:06:06.553Z"
   },
   {
    "duration": 11,
    "start_time": "2021-11-13T17:06:06.596Z"
   },
   {
    "duration": 31,
    "start_time": "2021-11-13T17:06:06.609Z"
   },
   {
    "duration": 39,
    "start_time": "2021-11-13T17:06:06.642Z"
   },
   {
    "duration": 9,
    "start_time": "2021-11-13T17:06:06.682Z"
   },
   {
    "duration": 12,
    "start_time": "2021-11-13T17:06:06.693Z"
   },
   {
    "duration": 20,
    "start_time": "2021-11-13T17:06:06.706Z"
   },
   {
    "duration": 31,
    "start_time": "2021-11-13T17:06:06.731Z"
   },
   {
    "duration": 176,
    "start_time": "2021-11-13T17:06:06.764Z"
   },
   {
    "duration": 451,
    "start_time": "2021-11-13T17:06:06.942Z"
   },
   {
    "duration": 567,
    "start_time": "2021-11-13T17:06:07.395Z"
   },
   {
    "duration": 479,
    "start_time": "2021-11-13T17:06:07.963Z"
   },
   {
    "duration": 429,
    "start_time": "2021-11-13T17:06:08.443Z"
   },
   {
    "duration": 5,
    "start_time": "2021-11-13T17:06:08.873Z"
   },
   {
    "duration": 10,
    "start_time": "2021-11-13T17:06:08.890Z"
   },
   {
    "duration": 3,
    "start_time": "2021-11-13T17:06:08.901Z"
   },
   {
    "duration": 9,
    "start_time": "2021-11-13T17:06:08.905Z"
   },
   {
    "duration": 15,
    "start_time": "2021-11-13T17:06:08.915Z"
   },
   {
    "duration": 19,
    "start_time": "2021-11-13T17:06:08.931Z"
   },
   {
    "duration": 7,
    "start_time": "2021-11-13T17:06:08.951Z"
   },
   {
    "duration": 8,
    "start_time": "2021-11-13T17:06:08.960Z"
   },
   {
    "duration": 32420,
    "start_time": "2021-11-13T17:06:08.970Z"
   },
   {
    "duration": 6,
    "start_time": "2021-11-13T17:06:41.393Z"
   },
   {
    "duration": 1291,
    "start_time": "2021-11-13T17:06:41.402Z"
   },
   {
    "duration": 4,
    "start_time": "2021-11-13T17:06:42.695Z"
   },
   {
    "duration": 8,
    "start_time": "2021-11-13T17:06:42.701Z"
   },
   {
    "duration": 3,
    "start_time": "2021-11-13T17:06:42.711Z"
   },
   {
    "duration": 8,
    "start_time": "2021-11-13T17:06:42.716Z"
   },
   {
    "duration": 76,
    "start_time": "2021-11-13T17:06:42.726Z"
   },
   {
    "duration": 6,
    "start_time": "2021-11-13T17:06:42.803Z"
   },
   {
    "duration": 6,
    "start_time": "2021-11-13T17:06:42.810Z"
   },
   {
    "duration": 381,
    "start_time": "2021-11-13T17:06:42.818Z"
   },
   {
    "duration": 93,
    "start_time": "2021-11-13T17:06:43.201Z"
   },
   {
    "duration": 11,
    "start_time": "2021-11-13T17:06:43.296Z"
   },
   {
    "duration": 6,
    "start_time": "2021-11-13T17:06:43.308Z"
   },
   {
    "duration": 4587,
    "start_time": "2021-11-13T17:06:43.315Z"
   },
   {
    "duration": 465,
    "start_time": "2021-11-13T17:06:47.439Z"
   },
   {
    "duration": 463,
    "start_time": "2021-11-13T17:06:47.442Z"
   },
   {
    "duration": 461,
    "start_time": "2021-11-13T17:06:47.445Z"
   },
   {
    "duration": 459,
    "start_time": "2021-11-13T17:06:47.448Z"
   },
   {
    "duration": 458,
    "start_time": "2021-11-13T17:06:47.450Z"
   },
   {
    "duration": 456,
    "start_time": "2021-11-13T17:06:47.453Z"
   },
   {
    "duration": 455,
    "start_time": "2021-11-13T17:06:47.455Z"
   },
   {
    "duration": 4,
    "start_time": "2021-11-13T17:08:00.524Z"
   },
   {
    "duration": 6302,
    "start_time": "2021-11-13T17:08:03.645Z"
   },
   {
    "duration": 11,
    "start_time": "2021-11-13T17:08:28.987Z"
   },
   {
    "duration": 196,
    "start_time": "2021-11-13T17:08:47.179Z"
   },
   {
    "duration": 2023,
    "start_time": "2021-11-13T17:09:08.995Z"
   },
   {
    "duration": 3,
    "start_time": "2021-11-13T17:12:54.173Z"
   },
   {
    "duration": 418,
    "start_time": "2021-11-13T17:12:57.772Z"
   },
   {
    "duration": 183,
    "start_time": "2021-11-13T17:18:32.428Z"
   },
   {
    "duration": 185,
    "start_time": "2021-11-13T17:18:42.365Z"
   },
   {
    "duration": 3,
    "start_time": "2021-11-13T17:19:02.301Z"
   },
   {
    "duration": 442,
    "start_time": "2021-11-13T17:19:07.758Z"
   },
   {
    "duration": 3,
    "start_time": "2021-11-13T17:24:39.982Z"
   },
   {
    "duration": 417,
    "start_time": "2021-11-13T17:24:42.158Z"
   },
   {
    "duration": 4,
    "start_time": "2021-11-13T17:24:56.943Z"
   },
   {
    "duration": 405,
    "start_time": "2021-11-13T17:24:59.406Z"
   },
   {
    "duration": 6,
    "start_time": "2021-11-13T17:27:13.214Z"
   },
   {
    "duration": 4,
    "start_time": "2021-11-13T17:30:34.270Z"
   },
   {
    "duration": 6210,
    "start_time": "2021-11-13T17:30:36.927Z"
   },
   {
    "duration": 3,
    "start_time": "2021-11-13T17:31:06.302Z"
   },
   {
    "duration": 5955,
    "start_time": "2021-11-13T17:31:09.758Z"
   },
   {
    "duration": 12,
    "start_time": "2021-11-13T18:15:10.074Z"
   },
   {
    "duration": 16225,
    "start_time": "2021-11-13T18:15:32.787Z"
   },
   {
    "duration": 13,
    "start_time": "2021-11-13T18:15:57.906Z"
   },
   {
    "duration": 19,
    "start_time": "2021-11-13T18:17:18.978Z"
   },
   {
    "duration": 4,
    "start_time": "2021-11-13T18:17:39.316Z"
   },
   {
    "duration": 4669,
    "start_time": "2021-11-13T18:17:43.779Z"
   },
   {
    "duration": 5,
    "start_time": "2021-11-13T18:18:07.427Z"
   },
   {
    "duration": 15747,
    "start_time": "2021-11-13T18:18:10.212Z"
   },
   {
    "duration": 12,
    "start_time": "2021-11-13T18:18:42.906Z"
   },
   {
    "duration": 6148,
    "start_time": "2021-11-13T18:19:31.972Z"
   },
   {
    "duration": 13,
    "start_time": "2021-11-13T18:19:46.035Z"
   },
   {
    "duration": 16573,
    "start_time": "2021-11-13T18:19:59.508Z"
   },
   {
    "duration": 13,
    "start_time": "2021-11-13T18:20:26.292Z"
   },
   {
    "duration": 7101,
    "start_time": "2021-11-13T18:20:56.307Z"
   },
   {
    "duration": 4983,
    "start_time": "2021-11-13T18:23:41.860Z"
   },
   {
    "duration": 4,
    "start_time": "2021-11-13T18:24:40.392Z"
   },
   {
    "duration": 2,
    "start_time": "2021-11-13T18:27:19.780Z"
   },
   {
    "duration": 180,
    "start_time": "2021-11-13T18:28:24.277Z"
   },
   {
    "duration": 42,
    "start_time": "2021-11-13T18:28:32.773Z"
   },
   {
    "duration": 18,
    "start_time": "2021-11-13T18:28:49.029Z"
   },
   {
    "duration": 4,
    "start_time": "2021-11-13T18:31:10.726Z"
   },
   {
    "duration": 17281,
    "start_time": "2021-11-13T18:31:16.660Z"
   },
   {
    "duration": 17,
    "start_time": "2021-11-13T18:31:38.877Z"
   },
   {
    "duration": 4,
    "start_time": "2021-11-13T18:35:53.701Z"
   },
   {
    "duration": 4882,
    "start_time": "2021-11-13T18:36:08.677Z"
   },
   {
    "duration": 4,
    "start_time": "2021-11-13T18:36:27.125Z"
   },
   {
    "duration": 2,
    "start_time": "2021-11-13T18:36:29.141Z"
   },
   {
    "duration": 3,
    "start_time": "2021-11-13T18:42:26.454Z"
   },
   {
    "duration": 46,
    "start_time": "2021-11-13T18:44:21.431Z"
   },
   {
    "duration": 70,
    "start_time": "2021-11-13T18:46:23.048Z"
   },
   {
    "duration": 7,
    "start_time": "2021-11-13T18:46:33.781Z"
   },
   {
    "duration": 75,
    "start_time": "2021-11-13T18:46:38.423Z"
   },
   {
    "duration": 56,
    "start_time": "2021-11-13T18:46:54.711Z"
   },
   {
    "duration": 8,
    "start_time": "2021-11-13T18:47:24.136Z"
   },
   {
    "duration": 2210,
    "start_time": "2021-11-13T18:47:58.388Z"
   },
   {
    "duration": 1938,
    "start_time": "2021-11-13T18:48:00.601Z"
   },
   {
    "duration": 1568,
    "start_time": "2021-11-13T18:48:02.541Z"
   },
   {
    "duration": 219,
    "start_time": "2021-11-13T18:48:04.111Z"
   },
   {
    "duration": 9,
    "start_time": "2021-11-13T18:48:04.332Z"
   },
   {
    "duration": 7,
    "start_time": "2021-11-13T18:48:04.343Z"
   },
   {
    "duration": 10,
    "start_time": "2021-11-13T18:48:04.352Z"
   },
   {
    "duration": 44,
    "start_time": "2021-11-13T18:48:04.365Z"
   },
   {
    "duration": 4,
    "start_time": "2021-11-13T18:48:04.411Z"
   },
   {
    "duration": 11,
    "start_time": "2021-11-13T18:48:04.416Z"
   },
   {
    "duration": 23,
    "start_time": "2021-11-13T18:48:04.428Z"
   },
   {
    "duration": 5,
    "start_time": "2021-11-13T18:48:04.452Z"
   },
   {
    "duration": 36,
    "start_time": "2021-11-13T18:48:04.459Z"
   },
   {
    "duration": 3,
    "start_time": "2021-11-13T18:48:04.497Z"
   },
   {
    "duration": 35,
    "start_time": "2021-11-13T18:48:04.502Z"
   },
   {
    "duration": 13,
    "start_time": "2021-11-13T18:48:04.538Z"
   },
   {
    "duration": 59,
    "start_time": "2021-11-13T18:48:04.553Z"
   },
   {
    "duration": 36,
    "start_time": "2021-11-13T18:48:04.614Z"
   },
   {
    "duration": 4,
    "start_time": "2021-11-13T18:48:04.652Z"
   },
   {
    "duration": 11,
    "start_time": "2021-11-13T18:48:04.657Z"
   },
   {
    "duration": 22,
    "start_time": "2021-11-13T18:48:04.670Z"
   },
   {
    "duration": 4,
    "start_time": "2021-11-13T18:48:04.694Z"
   },
   {
    "duration": 192,
    "start_time": "2021-11-13T18:48:04.702Z"
   },
   {
    "duration": 520,
    "start_time": "2021-11-13T18:48:04.896Z"
   },
   {
    "duration": 599,
    "start_time": "2021-11-13T18:48:05.418Z"
   },
   {
    "duration": 511,
    "start_time": "2021-11-13T18:48:06.019Z"
   },
   {
    "duration": 466,
    "start_time": "2021-11-13T18:48:06.532Z"
   },
   {
    "duration": 6,
    "start_time": "2021-11-13T18:48:07.000Z"
   },
   {
    "duration": 12,
    "start_time": "2021-11-13T18:48:07.008Z"
   },
   {
    "duration": 4,
    "start_time": "2021-11-13T18:48:07.022Z"
   },
   {
    "duration": 9,
    "start_time": "2021-11-13T18:48:07.028Z"
   },
   {
    "duration": 7,
    "start_time": "2021-11-13T18:48:07.038Z"
   },
   {
    "duration": 7,
    "start_time": "2021-11-13T18:48:07.047Z"
   },
   {
    "duration": 7,
    "start_time": "2021-11-13T18:48:07.056Z"
   },
   {
    "duration": 30,
    "start_time": "2021-11-13T18:48:07.066Z"
   },
   {
    "duration": 31807,
    "start_time": "2021-11-13T18:48:07.098Z"
   },
   {
    "duration": 85,
    "start_time": "2021-11-13T18:48:38.908Z"
   },
   {
    "duration": 1393,
    "start_time": "2021-11-13T18:48:39.000Z"
   },
   {
    "duration": 3,
    "start_time": "2021-11-13T18:48:40.395Z"
   },
   {
    "duration": 9,
    "start_time": "2021-11-13T18:48:40.400Z"
   },
   {
    "duration": 8,
    "start_time": "2021-11-13T18:48:40.411Z"
   },
   {
    "duration": 5,
    "start_time": "2021-11-13T18:48:40.421Z"
   },
   {
    "duration": 73,
    "start_time": "2021-11-13T18:48:40.428Z"
   },
   {
    "duration": 8,
    "start_time": "2021-11-13T18:48:40.502Z"
   },
   {
    "duration": 6,
    "start_time": "2021-11-13T18:48:40.511Z"
   },
   {
    "duration": 475,
    "start_time": "2021-11-13T18:48:40.518Z"
   },
   {
    "duration": 97,
    "start_time": "2021-11-13T18:48:40.996Z"
   },
   {
    "duration": 3,
    "start_time": "2021-11-13T18:48:41.095Z"
   },
   {
    "duration": 16,
    "start_time": "2021-11-13T18:48:41.099Z"
   },
   {
    "duration": 18196,
    "start_time": "2021-11-13T18:48:41.116Z"
   },
   {
    "duration": 13,
    "start_time": "2021-11-13T18:48:59.314Z"
   },
   {
    "duration": 5240,
    "start_time": "2021-11-13T18:48:59.329Z"
   },
   {
    "duration": 4,
    "start_time": "2021-11-13T18:49:04.571Z"
   },
   {
    "duration": 14,
    "start_time": "2021-11-13T18:49:04.577Z"
   },
   {
    "duration": 52,
    "start_time": "2021-11-13T18:49:04.593Z"
   },
   {
    "duration": 75,
    "start_time": "2021-11-13T18:49:04.646Z"
   },
   {
    "duration": 7,
    "start_time": "2021-11-13T18:49:04.722Z"
   },
   {
    "duration": 3,
    "start_time": "2021-11-13T19:15:52.479Z"
   },
   {
    "duration": 16093,
    "start_time": "2021-11-13T19:15:55.206Z"
   },
   {
    "duration": 4,
    "start_time": "2021-11-13T19:16:20.223Z"
   },
   {
    "duration": 3,
    "start_time": "2021-11-13T19:16:38.579Z"
   },
   {
    "duration": 40,
    "start_time": "2021-11-13T19:16:46.159Z"
   },
   {
    "duration": 57,
    "start_time": "2021-11-13T19:16:54.111Z"
   },
   {
    "duration": 65,
    "start_time": "2021-11-13T19:16:59.988Z"
   },
   {
    "duration": 4,
    "start_time": "2021-11-13T19:24:40.671Z"
   },
   {
    "duration": 18528,
    "start_time": "2021-11-13T19:24:43.199Z"
   },
   {
    "duration": 12,
    "start_time": "2021-11-13T19:25:07.036Z"
   },
   {
    "duration": 5132,
    "start_time": "2021-11-13T19:25:10.978Z"
   },
   {
    "duration": 4,
    "start_time": "2021-11-13T19:25:19.012Z"
   },
   {
    "duration": 4,
    "start_time": "2021-11-13T19:25:19.898Z"
   },
   {
    "duration": 3,
    "start_time": "2021-11-13T19:25:47.856Z"
   },
   {
    "duration": 49,
    "start_time": "2021-11-13T19:27:28.736Z"
   },
   {
    "duration": 57,
    "start_time": "2021-11-13T19:27:32.801Z"
   },
   {
    "duration": 3,
    "start_time": "2021-11-13T20:38:24.264Z"
   },
   {
    "duration": 6,
    "start_time": "2021-11-13T20:38:26.791Z"
   },
   {
    "duration": 26189,
    "start_time": "2021-11-13T20:39:44.133Z"
   },
   {
    "duration": 4,
    "start_time": "2021-11-13T20:41:34.168Z"
   },
   {
    "duration": 32778,
    "start_time": "2021-11-13T20:41:35.673Z"
   },
   {
    "duration": 13,
    "start_time": "2021-11-13T20:42:36.153Z"
   },
   {
    "duration": 8761,
    "start_time": "2021-11-13T20:45:40.783Z"
   },
   {
    "duration": 4,
    "start_time": "2021-11-13T20:46:45.689Z"
   },
   {
    "duration": 3,
    "start_time": "2021-11-13T20:47:59.388Z"
   },
   {
    "duration": 2,
    "start_time": "2021-11-13T20:49:13.513Z"
   },
   {
    "duration": 132,
    "start_time": "2021-11-13T20:49:25.192Z"
   },
   {
    "duration": 4,
    "start_time": "2021-11-13T20:50:17.562Z"
   },
   {
    "duration": 43769,
    "start_time": "2021-11-13T20:50:22.265Z"
   },
   {
    "duration": 4,
    "start_time": "2021-11-13T20:51:25.628Z"
   },
   {
    "duration": 397916,
    "start_time": "2021-11-13T20:51:30.234Z"
   },
   {
    "duration": 14,
    "start_time": "2021-11-13T20:58:16.193Z"
   },
   {
    "duration": 13477,
    "start_time": "2021-11-13T20:58:54.042Z"
   },
   {
    "duration": 4,
    "start_time": "2021-11-13T20:59:10.507Z"
   },
   {
    "duration": 1022194,
    "start_time": "2021-11-13T20:59:27.758Z"
   },
   {
    "duration": 13,
    "start_time": "2021-11-13T21:17:07.186Z"
   },
   {
    "duration": 4,
    "start_time": "2021-11-13T21:18:24.619Z"
   },
   {
    "duration": 17797,
    "start_time": "2021-11-13T21:18:38.139Z"
   },
   {
    "duration": 4,
    "start_time": "2021-11-13T21:19:02.588Z"
   },
   {
    "duration": 416435,
    "start_time": "2021-11-13T21:19:07.468Z"
   },
   {
    "duration": 14,
    "start_time": "2021-11-13T21:27:44.373Z"
   },
   {
    "duration": 8092,
    "start_time": "2021-11-13T21:28:08.061Z"
   },
   {
    "duration": 4,
    "start_time": "2021-11-13T21:28:48.780Z"
   },
   {
    "duration": 4,
    "start_time": "2021-11-13T21:29:18.285Z"
   },
   {
    "duration": 2784,
    "start_time": "2021-11-13T21:29:22.525Z"
   },
   {
    "duration": 52,
    "start_time": "2021-11-13T21:29:43.933Z"
   },
   {
    "duration": 52,
    "start_time": "2021-11-13T21:29:48.141Z"
   },
   {
    "duration": 1405,
    "start_time": "2021-11-13T21:30:38.380Z"
   },
   {
    "duration": 1406,
    "start_time": "2021-11-13T21:31:13.582Z"
   },
   {
    "duration": 2209,
    "start_time": "2021-11-14T15:44:21.023Z"
   },
   {
    "duration": 1939,
    "start_time": "2021-11-14T15:44:23.235Z"
   },
   {
    "duration": 7,
    "start_time": "2021-11-14T15:44:25.177Z"
   },
   {
    "duration": 172,
    "start_time": "2021-11-14T15:44:25.186Z"
   },
   {
    "duration": 8,
    "start_time": "2021-11-14T15:44:25.360Z"
   },
   {
    "duration": 6,
    "start_time": "2021-11-14T15:44:25.370Z"
   },
   {
    "duration": 11,
    "start_time": "2021-11-14T15:44:25.378Z"
   },
   {
    "duration": 20,
    "start_time": "2021-11-14T15:44:25.391Z"
   },
   {
    "duration": 4,
    "start_time": "2021-11-14T15:44:25.413Z"
   },
   {
    "duration": 9,
    "start_time": "2021-11-14T15:44:25.418Z"
   },
   {
    "duration": 19,
    "start_time": "2021-11-14T15:44:25.429Z"
   },
   {
    "duration": 5,
    "start_time": "2021-11-14T15:44:25.450Z"
   },
   {
    "duration": 36,
    "start_time": "2021-11-14T15:44:25.457Z"
   },
   {
    "duration": 2,
    "start_time": "2021-11-14T15:44:25.495Z"
   },
   {
    "duration": 33,
    "start_time": "2021-11-14T15:44:25.499Z"
   },
   {
    "duration": 13,
    "start_time": "2021-11-14T15:44:25.534Z"
   },
   {
    "duration": 43,
    "start_time": "2021-11-14T15:44:25.548Z"
   },
   {
    "duration": 30,
    "start_time": "2021-11-14T15:44:25.593Z"
   },
   {
    "duration": 3,
    "start_time": "2021-11-14T15:44:25.624Z"
   },
   {
    "duration": 7,
    "start_time": "2021-11-14T15:44:25.629Z"
   },
   {
    "duration": 9,
    "start_time": "2021-11-14T15:44:25.637Z"
   },
   {
    "duration": 3,
    "start_time": "2021-11-14T15:44:25.647Z"
   },
   {
    "duration": 193,
    "start_time": "2021-11-14T15:44:25.653Z"
   },
   {
    "duration": 467,
    "start_time": "2021-11-14T15:44:25.848Z"
   },
   {
    "duration": 579,
    "start_time": "2021-11-14T15:44:26.316Z"
   },
   {
    "duration": 483,
    "start_time": "2021-11-14T15:44:26.896Z"
   },
   {
    "duration": 426,
    "start_time": "2021-11-14T15:44:27.381Z"
   },
   {
    "duration": 6,
    "start_time": "2021-11-14T15:44:27.808Z"
   },
   {
    "duration": 11,
    "start_time": "2021-11-14T15:44:27.815Z"
   },
   {
    "duration": 3,
    "start_time": "2021-11-14T15:44:27.828Z"
   },
   {
    "duration": 6,
    "start_time": "2021-11-14T15:44:27.832Z"
   },
   {
    "duration": 6,
    "start_time": "2021-11-14T15:44:27.839Z"
   },
   {
    "duration": 6,
    "start_time": "2021-11-14T15:44:27.847Z"
   },
   {
    "duration": 18,
    "start_time": "2021-11-14T15:44:27.854Z"
   },
   {
    "duration": 6,
    "start_time": "2021-11-14T15:44:27.873Z"
   },
   {
    "duration": 19778,
    "start_time": "2021-11-14T15:44:27.891Z"
   },
   {
    "duration": 2097,
    "start_time": "2021-11-14T15:45:19.137Z"
   },
   {
    "duration": 1883,
    "start_time": "2021-11-14T15:45:21.236Z"
   },
   {
    "duration": 1538,
    "start_time": "2021-11-14T15:45:23.121Z"
   },
   {
    "duration": 100,
    "start_time": "2021-11-14T15:45:24.661Z"
   },
   {
    "duration": 7,
    "start_time": "2021-11-14T15:45:24.763Z"
   },
   {
    "duration": 12,
    "start_time": "2021-11-14T15:45:24.772Z"
   },
   {
    "duration": 28,
    "start_time": "2021-11-14T15:45:24.785Z"
   },
   {
    "duration": 34,
    "start_time": "2021-11-14T15:45:24.815Z"
   },
   {
    "duration": 7,
    "start_time": "2021-11-14T15:45:24.851Z"
   },
   {
    "duration": 31,
    "start_time": "2021-11-14T15:45:24.859Z"
   },
   {
    "duration": 32,
    "start_time": "2021-11-14T15:45:24.891Z"
   },
   {
    "duration": 8,
    "start_time": "2021-11-14T15:45:24.925Z"
   },
   {
    "duration": 18,
    "start_time": "2021-11-14T15:45:24.935Z"
   },
   {
    "duration": 12,
    "start_time": "2021-11-14T15:45:24.954Z"
   },
   {
    "duration": 52,
    "start_time": "2021-11-14T15:45:24.967Z"
   },
   {
    "duration": 13,
    "start_time": "2021-11-14T15:45:25.021Z"
   },
   {
    "duration": 29,
    "start_time": "2021-11-14T15:45:25.036Z"
   },
   {
    "duration": 46,
    "start_time": "2021-11-14T15:45:25.067Z"
   },
   {
    "duration": 3,
    "start_time": "2021-11-14T15:45:25.115Z"
   },
   {
    "duration": 15,
    "start_time": "2021-11-14T15:45:25.119Z"
   },
   {
    "duration": 26,
    "start_time": "2021-11-14T15:45:25.135Z"
   },
   {
    "duration": 18,
    "start_time": "2021-11-14T15:45:25.163Z"
   },
   {
    "duration": 179,
    "start_time": "2021-11-14T15:45:25.184Z"
   },
   {
    "duration": 472,
    "start_time": "2021-11-14T15:45:25.365Z"
   },
   {
    "duration": 565,
    "start_time": "2021-11-14T15:45:25.839Z"
   },
   {
    "duration": 490,
    "start_time": "2021-11-14T15:45:26.405Z"
   },
   {
    "duration": 434,
    "start_time": "2021-11-14T15:45:26.897Z"
   },
   {
    "duration": 6,
    "start_time": "2021-11-14T15:45:27.333Z"
   },
   {
    "duration": 12,
    "start_time": "2021-11-14T15:45:27.340Z"
   },
   {
    "duration": 4,
    "start_time": "2021-11-14T15:45:27.353Z"
   },
   {
    "duration": 6,
    "start_time": "2021-11-14T15:45:27.358Z"
   },
   {
    "duration": 5,
    "start_time": "2021-11-14T15:45:27.366Z"
   },
   {
    "duration": 19,
    "start_time": "2021-11-14T15:45:27.373Z"
   },
   {
    "duration": 5,
    "start_time": "2021-11-14T15:45:27.394Z"
   },
   {
    "duration": 7,
    "start_time": "2021-11-14T15:45:27.400Z"
   },
   {
    "duration": 63992,
    "start_time": "2021-11-14T15:45:27.408Z"
   },
   {
    "duration": 4,
    "start_time": "2021-11-14T15:55:34.179Z"
   },
   {
    "duration": 1178,
    "start_time": "2021-11-14T15:55:35.994Z"
   },
   {
    "duration": 4,
    "start_time": "2021-11-14T15:55:41.770Z"
   },
   {
    "duration": 7,
    "start_time": "2021-11-14T15:55:48.666Z"
   },
   {
    "duration": 4,
    "start_time": "2021-11-14T15:56:01.130Z"
   },
   {
    "duration": 3,
    "start_time": "2021-11-14T15:56:05.946Z"
   },
   {
    "duration": 50,
    "start_time": "2021-11-14T15:56:06.507Z"
   },
   {
    "duration": 5,
    "start_time": "2021-11-14T15:56:11.995Z"
   },
   {
    "duration": 4,
    "start_time": "2021-11-14T15:56:14.427Z"
   },
   {
    "duration": 286,
    "start_time": "2021-11-14T15:56:15.613Z"
   },
   {
    "duration": 7,
    "start_time": "2021-11-14T15:56:25.035Z"
   },
   {
    "duration": 2,
    "start_time": "2021-11-14T16:17:31.771Z"
   },
   {
    "duration": 4,
    "start_time": "2021-11-14T16:17:34.185Z"
   },
   {
    "duration": 35143,
    "start_time": "2021-11-14T16:17:36.522Z"
   },
   {
    "duration": 13,
    "start_time": "2021-11-14T16:31:16.538Z"
   },
   {
    "duration": 6582,
    "start_time": "2021-11-14T16:31:37.467Z"
   },
   {
    "duration": 6361,
    "start_time": "2021-11-14T16:32:29.731Z"
   },
   {
    "duration": 4,
    "start_time": "2021-11-14T16:33:01.242Z"
   },
   {
    "duration": 3,
    "start_time": "2021-11-14T16:33:23.113Z"
   },
   {
    "duration": 44,
    "start_time": "2021-11-14T16:33:24.793Z"
   },
   {
    "duration": 52,
    "start_time": "2021-11-14T16:33:29.306Z"
   },
   {
    "duration": 3,
    "start_time": "2021-11-14T16:33:45.689Z"
   },
   {
    "duration": 7,
    "start_time": "2021-11-14T16:33:47.678Z"
   },
   {
    "duration": 71219,
    "start_time": "2021-11-14T16:33:52.122Z"
   },
   {
    "duration": 3,
    "start_time": "2021-11-14T16:35:15.424Z"
   },
   {
    "duration": 1142064,
    "start_time": "2021-11-14T16:35:21.195Z"
   },
   {
    "duration": 13,
    "start_time": "2021-11-14T17:21:14.329Z"
   },
   {
    "duration": 8882,
    "start_time": "2021-11-14T17:21:21.578Z"
   },
   {
    "duration": 4,
    "start_time": "2021-11-14T17:21:35.927Z"
   },
   {
    "duration": 2,
    "start_time": "2021-11-14T17:22:23.066Z"
   },
   {
    "duration": 4956,
    "start_time": "2021-11-14T17:22:41.881Z"
   },
   {
    "duration": 2466,
    "start_time": "2021-11-14T17:22:48.478Z"
   },
   {
    "duration": 1882,
    "start_time": "2021-11-14T18:03:12.093Z"
   },
   {
    "duration": 24,
    "start_time": "2021-11-14T18:04:25.032Z"
   },
   {
    "duration": 184,
    "start_time": "2021-11-14T18:06:17.235Z"
   },
   {
    "duration": 3,
    "start_time": "2021-11-14T18:06:32.038Z"
   },
   {
    "duration": 74,
    "start_time": "2021-11-14T18:09:17.480Z"
   },
   {
    "duration": 64,
    "start_time": "2021-11-14T18:09:40.686Z"
   },
   {
    "duration": 66,
    "start_time": "2021-11-14T18:11:26.744Z"
   },
   {
    "duration": 101,
    "start_time": "2021-11-14T18:11:29.720Z"
   },
   {
    "duration": 3,
    "start_time": "2021-11-14T18:12:34.520Z"
   },
   {
    "duration": 180444,
    "start_time": "2021-11-14T18:12:59.521Z"
   },
   {
    "duration": 3,
    "start_time": "2021-11-14T18:16:51.585Z"
   },
   {
    "duration": 163630,
    "start_time": "2021-11-14T18:16:54.248Z"
   },
   {
    "duration": 432172,
    "start_time": "2021-11-14T18:19:52.864Z"
   },
   {
    "duration": 11,
    "start_time": "2021-11-14T18:37:27.375Z"
   },
   {
    "duration": 186,
    "start_time": "2021-11-14T18:40:16.980Z"
   },
   {
    "duration": 192,
    "start_time": "2021-11-14T18:40:32.536Z"
   },
   {
    "duration": 187,
    "start_time": "2021-11-14T18:40:44.744Z"
   },
   {
    "duration": 226,
    "start_time": "2021-11-14T18:41:14.488Z"
   },
   {
    "duration": 4,
    "start_time": "2021-11-14T18:41:37.896Z"
   },
   {
    "duration": 3,
    "start_time": "2021-11-14T18:42:20.503Z"
   },
   {
    "duration": 3,
    "start_time": "2021-11-14T18:42:48.967Z"
   },
   {
    "duration": 10879,
    "start_time": "2021-11-14T18:43:06.502Z"
   },
   {
    "duration": 2537,
    "start_time": "2021-11-14T18:43:22.839Z"
   },
   {
    "duration": 150,
    "start_time": "2021-11-14T18:43:39.674Z"
   },
   {
    "duration": 2502,
    "start_time": "2021-11-14T18:44:01.518Z"
   },
   {
    "duration": 2488,
    "start_time": "2021-11-14T18:44:20.183Z"
   },
   {
    "duration": 144,
    "start_time": "2021-11-14T18:44:38.879Z"
   },
   {
    "duration": 127,
    "start_time": "2021-11-14T18:46:16.311Z"
   },
   {
    "duration": 130,
    "start_time": "2021-11-14T18:46:29.624Z"
   },
   {
    "duration": 9,
    "start_time": "2021-11-14T18:48:12.892Z"
   },
   {
    "duration": 4,
    "start_time": "2021-11-14T18:48:26.521Z"
   },
   {
    "duration": 146,
    "start_time": "2021-11-14T18:48:30.486Z"
   },
   {
    "duration": 9,
    "start_time": "2021-11-14T18:48:57.014Z"
   },
   {
    "duration": 8,
    "start_time": "2021-11-14T18:52:28.888Z"
   },
   {
    "duration": 183,
    "start_time": "2021-11-14T19:09:30.316Z"
   },
   {
    "duration": 8552,
    "start_time": "2021-11-14T19:09:48.160Z"
   },
   {
    "duration": 201,
    "start_time": "2021-11-14T19:11:55.930Z"
   },
   {
    "duration": 191,
    "start_time": "2021-11-14T19:13:21.767Z"
   },
   {
    "duration": 186,
    "start_time": "2021-11-14T19:13:39.658Z"
   },
   {
    "duration": 2560,
    "start_time": "2021-11-14T19:14:18.076Z"
   },
   {
    "duration": 196,
    "start_time": "2021-11-14T19:14:39.687Z"
   },
   {
    "duration": 2300,
    "start_time": "2021-11-14T19:15:19.320Z"
   },
   {
    "duration": 202,
    "start_time": "2021-11-14T19:15:27.358Z"
   },
   {
    "duration": 4475,
    "start_time": "2021-11-14T19:16:07.033Z"
   },
   {
    "duration": 4752,
    "start_time": "2021-11-14T19:16:39.111Z"
   },
   {
    "duration": 228,
    "start_time": "2021-11-14T19:16:49.754Z"
   },
   {
    "duration": 2262,
    "start_time": "2021-11-15T07:30:41.463Z"
   },
   {
    "duration": 11430,
    "start_time": "2021-11-15T08:09:39.754Z"
   },
   {
    "duration": 9969,
    "start_time": "2021-11-15T08:12:04.588Z"
   },
   {
    "duration": 1592,
    "start_time": "2021-11-15T08:12:14.560Z"
   },
   {
    "duration": 196,
    "start_time": "2021-11-15T08:12:16.154Z"
   },
   {
    "duration": 8,
    "start_time": "2021-11-15T08:12:16.353Z"
   },
   {
    "duration": 11,
    "start_time": "2021-11-15T08:12:16.363Z"
   },
   {
    "duration": 19,
    "start_time": "2021-11-15T08:12:16.376Z"
   },
   {
    "duration": 25,
    "start_time": "2021-11-15T08:12:16.397Z"
   },
   {
    "duration": 5,
    "start_time": "2021-11-15T08:12:16.424Z"
   },
   {
    "duration": 9,
    "start_time": "2021-11-15T08:12:16.431Z"
   },
   {
    "duration": 20,
    "start_time": "2021-11-15T08:12:16.442Z"
   },
   {
    "duration": 4,
    "start_time": "2021-11-15T08:12:16.464Z"
   },
   {
    "duration": 26,
    "start_time": "2021-11-15T08:12:16.469Z"
   },
   {
    "duration": 5,
    "start_time": "2021-11-15T08:12:16.497Z"
   },
   {
    "duration": 35,
    "start_time": "2021-11-15T08:12:16.504Z"
   },
   {
    "duration": 12,
    "start_time": "2021-11-15T08:12:16.540Z"
   },
   {
    "duration": 44,
    "start_time": "2021-11-15T08:12:16.553Z"
   },
   {
    "duration": 29,
    "start_time": "2021-11-15T08:12:16.598Z"
   },
   {
    "duration": 3,
    "start_time": "2021-11-15T08:12:16.628Z"
   },
   {
    "duration": 7,
    "start_time": "2021-11-15T08:12:16.633Z"
   },
   {
    "duration": 8,
    "start_time": "2021-11-15T08:12:16.641Z"
   },
   {
    "duration": 7,
    "start_time": "2021-11-15T08:12:16.650Z"
   },
   {
    "duration": 190,
    "start_time": "2021-11-15T08:12:16.658Z"
   },
   {
    "duration": 465,
    "start_time": "2021-11-15T08:12:16.851Z"
   },
   {
    "duration": 558,
    "start_time": "2021-11-15T08:12:17.318Z"
   },
   {
    "duration": 471,
    "start_time": "2021-11-15T08:12:17.877Z"
   },
   {
    "duration": 432,
    "start_time": "2021-11-15T08:12:18.350Z"
   },
   {
    "duration": 11,
    "start_time": "2021-11-15T08:12:18.783Z"
   },
   {
    "duration": 10,
    "start_time": "2021-11-15T08:12:18.796Z"
   },
   {
    "duration": 3,
    "start_time": "2021-11-15T08:12:18.808Z"
   },
   {
    "duration": 6,
    "start_time": "2021-11-15T08:12:18.813Z"
   },
   {
    "duration": 9,
    "start_time": "2021-11-15T08:12:18.820Z"
   },
   {
    "duration": 6,
    "start_time": "2021-11-15T08:12:18.831Z"
   },
   {
    "duration": 5,
    "start_time": "2021-11-15T08:12:18.838Z"
   },
   {
    "duration": 15,
    "start_time": "2021-11-15T08:12:18.845Z"
   },
   {
    "duration": 40034,
    "start_time": "2021-11-15T08:12:18.862Z"
   },
   {
    "duration": 7,
    "start_time": "2021-11-15T08:12:58.900Z"
   },
   {
    "duration": 1232,
    "start_time": "2021-11-15T08:12:58.991Z"
   },
   {
    "duration": 315,
    "start_time": "2021-11-15T08:15:57.287Z"
   },
   {
    "duration": 190,
    "start_time": "2021-11-15T08:16:51.655Z"
   },
   {
    "duration": 4,
    "start_time": "2021-11-15T08:18:18.406Z"
   },
   {
    "duration": 234,
    "start_time": "2021-11-15T08:18:52.750Z"
   },
   {
    "duration": 5,
    "start_time": "2021-11-15T08:19:03.615Z"
   },
   {
    "duration": 4,
    "start_time": "2021-11-15T08:20:40.116Z"
   },
   {
    "duration": 186,
    "start_time": "2021-11-15T08:21:46.564Z"
   },
   {
    "duration": 4,
    "start_time": "2021-11-15T08:24:17.986Z"
   },
   {
    "duration": 4,
    "start_time": "2021-11-15T08:24:21.354Z"
   },
   {
    "duration": 559,
    "start_time": "2021-11-15T08:25:05.594Z"
   },
   {
    "duration": 4,
    "start_time": "2021-11-15T08:26:19.793Z"
   },
   {
    "duration": 67,
    "start_time": "2021-11-15T08:26:24.289Z"
   },
   {
    "duration": 4,
    "start_time": "2021-11-15T08:26:33.001Z"
   },
   {
    "duration": 200,
    "start_time": "2021-11-15T08:28:40.360Z"
   },
   {
    "duration": 189,
    "start_time": "2021-11-15T08:28:47.300Z"
   },
   {
    "duration": 2,
    "start_time": "2021-11-15T08:32:45.454Z"
   },
   {
    "duration": 307,
    "start_time": "2021-11-15T08:34:02.141Z"
   },
   {
    "duration": 330,
    "start_time": "2021-11-15T08:34:22.557Z"
   },
   {
    "duration": 4,
    "start_time": "2021-11-15T08:34:36.797Z"
   },
   {
    "duration": 3,
    "start_time": "2021-11-15T08:41:18.322Z"
   },
   {
    "duration": 4,
    "start_time": "2021-11-15T08:42:13.080Z"
   },
   {
    "duration": 3,
    "start_time": "2021-11-15T08:42:27.297Z"
   },
   {
    "duration": 186,
    "start_time": "2021-11-15T08:42:47.393Z"
   },
   {
    "duration": 4,
    "start_time": "2021-11-15T08:42:53.158Z"
   },
   {
    "duration": 4,
    "start_time": "2021-11-15T08:42:58.287Z"
   },
   {
    "duration": 4,
    "start_time": "2021-11-15T08:43:50.751Z"
   },
   {
    "duration": 52,
    "start_time": "2021-11-15T08:44:04.263Z"
   },
   {
    "duration": 51,
    "start_time": "2021-11-15T08:44:12.376Z"
   },
   {
    "duration": 5,
    "start_time": "2021-11-15T08:44:48.904Z"
   },
   {
    "duration": 4,
    "start_time": "2021-11-15T08:45:32.935Z"
   },
   {
    "duration": 474,
    "start_time": "2021-11-15T08:45:50.631Z"
   },
   {
    "duration": 8,
    "start_time": "2021-11-15T08:45:54.877Z"
   },
   {
    "duration": 3,
    "start_time": "2021-11-15T08:47:41.317Z"
   },
   {
    "duration": 208,
    "start_time": "2021-11-15T08:47:58.781Z"
   },
   {
    "duration": 3,
    "start_time": "2021-11-15T08:48:54.716Z"
   },
   {
    "duration": 4,
    "start_time": "2021-11-15T08:49:27.980Z"
   },
   {
    "duration": 50900,
    "start_time": "2021-11-15T08:49:32.731Z"
   },
   {
    "duration": 13,
    "start_time": "2021-11-15T08:50:26.578Z"
   },
   {
    "duration": 12,
    "start_time": "2021-11-15T08:50:44.437Z"
   },
   {
    "duration": 6139,
    "start_time": "2021-11-15T08:50:47.052Z"
   },
   {
    "duration": 4,
    "start_time": "2021-11-15T08:52:52.507Z"
   },
   {
    "duration": 193,
    "start_time": "2021-11-15T08:54:20.552Z"
   },
   {
    "duration": 5,
    "start_time": "2021-11-15T08:54:32.521Z"
   },
   {
    "duration": 4,
    "start_time": "2021-11-15T08:55:42.192Z"
   },
   {
    "duration": 53,
    "start_time": "2021-11-15T08:56:08.713Z"
   },
   {
    "duration": 64,
    "start_time": "2021-11-15T08:56:11.471Z"
   },
   {
    "duration": 3,
    "start_time": "2021-11-15T08:56:37.672Z"
   },
   {
    "duration": 5,
    "start_time": "2021-11-15T08:56:44.087Z"
   },
   {
    "duration": 768876,
    "start_time": "2021-11-15T08:56:58.936Z"
   },
   {
    "duration": 13,
    "start_time": "2021-11-15T09:11:16.325Z"
   },
   {
    "duration": 8411,
    "start_time": "2021-11-15T09:11:19.382Z"
   },
   {
    "duration": 4,
    "start_time": "2021-11-15T09:18:36.418Z"
   },
   {
    "duration": 4,
    "start_time": "2021-11-15T09:18:45.954Z"
   },
   {
    "duration": 5,
    "start_time": "2021-11-15T09:20:07.209Z"
   },
   {
    "duration": 2643,
    "start_time": "2021-11-15T09:20:31.066Z"
   },
   {
    "duration": 1336,
    "start_time": "2021-11-15T09:20:35.304Z"
   },
   {
    "duration": 4,
    "start_time": "2021-11-15T09:21:36.744Z"
   },
   {
    "duration": 4,
    "start_time": "2021-11-15T09:21:54.537Z"
   },
   {
    "duration": 668741,
    "start_time": "2021-11-15T09:22:01.352Z"
   },
   {
    "duration": 13,
    "start_time": "2021-11-15T09:36:10.328Z"
   },
   {
    "duration": 8515,
    "start_time": "2021-11-15T09:36:20.080Z"
   },
   {
    "duration": 5,
    "start_time": "2021-11-15T09:36:33.311Z"
   },
   {
    "duration": 2188,
    "start_time": "2021-11-15T09:36:50.304Z"
   },
   {
    "duration": 1082,
    "start_time": "2021-11-15T09:37:04.767Z"
   },
   {
    "duration": 17,
    "start_time": "2021-11-15T09:47:05.842Z"
   },
   {
    "duration": 4,
    "start_time": "2021-11-15T09:47:14.769Z"
   },
   {
    "duration": 1094,
    "start_time": "2021-11-15T09:47:17.186Z"
   },
   {
    "duration": 9,
    "start_time": "2021-11-15T09:48:01.888Z"
   },
   {
    "duration": 3,
    "start_time": "2021-11-15T10:11:47.371Z"
   },
   {
    "duration": 5,
    "start_time": "2021-11-15T10:13:49.368Z"
   },
   {
    "duration": 548431,
    "start_time": "2021-11-15T10:14:20.152Z"
   },
   {
    "duration": 5,
    "start_time": "2021-11-15T10:25:07.018Z"
   },
   {
    "duration": 1205,
    "start_time": "2021-11-15T10:27:06.409Z"
   },
   {
    "duration": 632,
    "start_time": "2021-11-15T10:29:25.367Z"
   },
   {
    "duration": 8,
    "start_time": "2021-11-15T11:19:29.490Z"
   },
   {
    "duration": 7,
    "start_time": "2021-11-15T11:19:35.919Z"
   },
   {
    "duration": 7,
    "start_time": "2021-11-15T11:21:51.238Z"
   },
   {
    "duration": 3,
    "start_time": "2021-11-15T11:34:10.528Z"
   },
   {
    "duration": 6,
    "start_time": "2021-11-15T11:34:29.863Z"
   },
   {
    "duration": 7,
    "start_time": "2021-11-15T11:34:48.478Z"
   },
   {
    "duration": 5,
    "start_time": "2021-11-15T11:35:00.879Z"
   },
   {
    "duration": 5,
    "start_time": "2021-11-15T11:35:24.111Z"
   },
   {
    "duration": 6,
    "start_time": "2021-11-15T11:37:00.078Z"
   },
   {
    "duration": 62,
    "start_time": "2021-11-15T11:40:55.114Z"
   },
   {
    "duration": 57,
    "start_time": "2021-11-15T11:41:07.698Z"
   },
   {
    "duration": 84,
    "start_time": "2021-11-15T11:41:16.475Z"
   },
   {
    "duration": 16,
    "start_time": "2021-11-15T11:41:20.696Z"
   },
   {
    "duration": 69,
    "start_time": "2021-11-15T11:42:38.043Z"
   },
   {
    "duration": 22,
    "start_time": "2021-11-15T11:42:51.410Z"
   },
   {
    "duration": 23,
    "start_time": "2021-11-15T11:43:35.466Z"
   },
   {
    "duration": 24,
    "start_time": "2021-11-15T11:44:07.692Z"
   },
   {
    "duration": 3,
    "start_time": "2021-11-15T11:45:39.033Z"
   },
   {
    "duration": 4,
    "start_time": "2021-11-15T11:46:01.193Z"
   },
   {
    "duration": 3,
    "start_time": "2021-11-15T11:46:17.136Z"
   },
   {
    "duration": 4,
    "start_time": "2021-11-15T11:46:38.743Z"
   },
   {
    "duration": 743415,
    "start_time": "2021-11-15T11:47:06.536Z"
   },
   {
    "duration": 5,
    "start_time": "2021-11-15T12:03:35.934Z"
   },
   {
    "duration": 1338,
    "start_time": "2021-11-15T12:04:34.166Z"
   },
   {
    "duration": 621,
    "start_time": "2021-11-15T12:07:53.454Z"
   },
   {
    "duration": 13,
    "start_time": "2021-11-15T12:10:13.346Z"
   },
   {
    "duration": 1954,
    "start_time": "2021-11-15T12:17:01.471Z"
   },
   {
    "duration": 10,
    "start_time": "2021-11-15T12:17:22.245Z"
   },
   {
    "duration": 4,
    "start_time": "2021-11-15T12:17:32.109Z"
   },
   {
    "duration": 637,
    "start_time": "2021-11-15T12:17:50.213Z"
   },
   {
    "duration": 6,
    "start_time": "2021-11-15T12:31:17.133Z"
   },
   {
    "duration": 5,
    "start_time": "2021-11-15T12:31:31.881Z"
   },
   {
    "duration": 6,
    "start_time": "2021-11-15T12:32:06.724Z"
   },
   {
    "duration": 6,
    "start_time": "2021-11-15T12:37:51.849Z"
   },
   {
    "duration": 4,
    "start_time": "2021-11-15T12:46:04.061Z"
   },
   {
    "duration": 633,
    "start_time": "2021-11-15T12:47:06.827Z"
   },
   {
    "duration": 6,
    "start_time": "2021-11-15T12:47:57.067Z"
   },
   {
    "duration": 378,
    "start_time": "2021-11-15T12:47:59.523Z"
   },
   {
    "duration": 4,
    "start_time": "2021-11-15T12:48:21.234Z"
   },
   {
    "duration": 12,
    "start_time": "2021-11-15T12:48:24.091Z"
   },
   {
    "duration": 12,
    "start_time": "2021-11-15T12:48:51.603Z"
   },
   {
    "duration": 3,
    "start_time": "2021-11-15T12:53:48.129Z"
   },
   {
    "duration": 4,
    "start_time": "2021-11-15T12:53:57.536Z"
   },
   {
    "duration": 346741,
    "start_time": "2021-11-15T12:55:00.568Z"
   },
   {
    "duration": 13,
    "start_time": "2021-11-15T13:02:34.004Z"
   },
   {
    "duration": 4,
    "start_time": "2021-11-15T13:02:51.943Z"
   },
   {
    "duration": 847,
    "start_time": "2021-11-15T13:02:56.727Z"
   },
   {
    "duration": 773,
    "start_time": "2021-11-15T13:03:04.639Z"
   },
   {
    "duration": 10,
    "start_time": "2021-11-15T13:06:06.499Z"
   },
   {
    "duration": 10,
    "start_time": "2021-11-15T13:06:24.125Z"
   },
   {
    "duration": 9,
    "start_time": "2021-11-15T13:06:56.099Z"
   },
   {
    "duration": 9,
    "start_time": "2021-11-15T13:17:14.684Z"
   },
   {
    "duration": 430829,
    "start_time": "2021-11-16T03:56:20.033Z"
   },
   {
    "duration": 69385,
    "start_time": "2021-11-16T04:03:30.865Z"
   },
   {
    "duration": 161,
    "start_time": "2021-11-16T04:04:40.253Z"
   },
   {
    "duration": 12,
    "start_time": "2021-11-16T04:04:40.417Z"
   },
   {
    "duration": 9,
    "start_time": "2021-11-16T04:04:40.431Z"
   },
   {
    "duration": 39,
    "start_time": "2021-11-16T04:04:40.442Z"
   },
   {
    "duration": 32,
    "start_time": "2021-11-16T04:04:40.483Z"
   },
   {
    "duration": 5,
    "start_time": "2021-11-16T04:04:40.518Z"
   },
   {
    "duration": 42,
    "start_time": "2021-11-16T04:04:40.527Z"
   },
   {
    "duration": 32,
    "start_time": "2021-11-16T04:04:40.572Z"
   },
   {
    "duration": 6,
    "start_time": "2021-11-16T04:04:40.606Z"
   },
   {
    "duration": 9,
    "start_time": "2021-11-16T04:04:40.614Z"
   },
   {
    "duration": 3,
    "start_time": "2021-11-16T04:04:40.626Z"
   },
   {
    "duration": 49,
    "start_time": "2021-11-16T04:04:40.668Z"
   },
   {
    "duration": 48,
    "start_time": "2021-11-16T04:04:40.719Z"
   },
   {
    "duration": 44,
    "start_time": "2021-11-16T04:04:40.769Z"
   },
   {
    "duration": 71,
    "start_time": "2021-11-16T04:04:40.815Z"
   },
   {
    "duration": 5,
    "start_time": "2021-11-16T04:04:40.888Z"
   },
   {
    "duration": 9,
    "start_time": "2021-11-16T04:04:40.895Z"
   },
   {
    "duration": 11,
    "start_time": "2021-11-16T04:04:40.906Z"
   },
   {
    "duration": 5,
    "start_time": "2021-11-16T04:04:40.919Z"
   },
   {
    "duration": 316,
    "start_time": "2021-11-16T04:04:40.926Z"
   },
   {
    "duration": 752,
    "start_time": "2021-11-16T04:04:41.244Z"
   },
   {
    "duration": 931,
    "start_time": "2021-11-16T04:04:41.999Z"
   },
   {
    "duration": 781,
    "start_time": "2021-11-16T04:04:42.932Z"
   },
   {
    "duration": 736,
    "start_time": "2021-11-16T04:04:43.715Z"
   },
   {
    "duration": 7,
    "start_time": "2021-11-16T04:04:44.466Z"
   },
   {
    "duration": 14,
    "start_time": "2021-11-16T04:04:44.477Z"
   },
   {
    "duration": 6,
    "start_time": "2021-11-16T04:04:44.493Z"
   },
   {
    "duration": 5,
    "start_time": "2021-11-16T04:04:44.501Z"
   },
   {
    "duration": 6,
    "start_time": "2021-11-16T04:04:44.509Z"
   },
   {
    "duration": 7,
    "start_time": "2021-11-16T04:04:44.517Z"
   },
   {
    "duration": 7,
    "start_time": "2021-11-16T04:04:44.568Z"
   },
   {
    "duration": 7,
    "start_time": "2021-11-16T04:04:44.577Z"
   },
   {
    "duration": 597,
    "start_time": "2021-11-16T04:04:44.587Z"
   },
   {
    "duration": 50,
    "start_time": "2021-11-16T04:04:45.138Z"
   },
   {
    "duration": 42,
    "start_time": "2021-11-16T04:04:45.148Z"
   },
   {
    "duration": 36,
    "start_time": "2021-11-16T04:04:45.156Z"
   },
   {
    "duration": 33,
    "start_time": "2021-11-16T04:04:45.160Z"
   },
   {
    "duration": 31,
    "start_time": "2021-11-16T04:04:45.164Z"
   },
   {
    "duration": 28,
    "start_time": "2021-11-16T04:04:45.169Z"
   },
   {
    "duration": 25,
    "start_time": "2021-11-16T04:04:45.173Z"
   },
   {
    "duration": 22,
    "start_time": "2021-11-16T04:04:45.178Z"
   },
   {
    "duration": 18,
    "start_time": "2021-11-16T04:04:45.183Z"
   },
   {
    "duration": 15,
    "start_time": "2021-11-16T04:04:45.187Z"
   },
   {
    "duration": 11,
    "start_time": "2021-11-16T04:04:45.192Z"
   },
   {
    "duration": 9,
    "start_time": "2021-11-16T04:04:45.196Z"
   },
   {
    "duration": 5,
    "start_time": "2021-11-16T04:04:45.201Z"
   },
   {
    "duration": 2,
    "start_time": "2021-11-16T04:04:45.205Z"
   },
   {
    "duration": -2,
    "start_time": "2021-11-16T04:04:45.210Z"
   },
   {
    "duration": -5,
    "start_time": "2021-11-16T04:04:45.214Z"
   },
   {
    "duration": -9,
    "start_time": "2021-11-16T04:04:45.219Z"
   },
   {
    "duration": -11,
    "start_time": "2021-11-16T04:04:45.223Z"
   },
   {
    "duration": -15,
    "start_time": "2021-11-16T04:04:45.228Z"
   },
   {
    "duration": -18,
    "start_time": "2021-11-16T04:04:45.232Z"
   },
   {
    "duration": -21,
    "start_time": "2021-11-16T04:04:45.237Z"
   },
   {
    "duration": -24,
    "start_time": "2021-11-16T04:04:45.241Z"
   },
   {
    "duration": -27,
    "start_time": "2021-11-16T04:04:45.245Z"
   },
   {
    "duration": 17,
    "start_time": "2021-11-16T04:04:45.250Z"
   },
   {
    "duration": 14,
    "start_time": "2021-11-16T04:04:45.254Z"
   },
   {
    "duration": 11,
    "start_time": "2021-11-16T04:04:45.258Z"
   },
   {
    "duration": 7,
    "start_time": "2021-11-16T04:04:45.264Z"
   },
   {
    "duration": 3,
    "start_time": "2021-11-16T04:04:45.269Z"
   },
   {
    "duration": 0,
    "start_time": "2021-11-16T04:04:45.273Z"
   },
   {
    "duration": -2,
    "start_time": "2021-11-16T04:04:45.277Z"
   },
   {
    "duration": -6,
    "start_time": "2021-11-16T04:04:45.282Z"
   },
   {
    "duration": -8,
    "start_time": "2021-11-16T04:04:45.286Z"
   },
   {
    "duration": -11,
    "start_time": "2021-11-16T04:04:45.291Z"
   },
   {
    "duration": -13,
    "start_time": "2021-11-16T04:04:45.295Z"
   },
   {
    "duration": -16,
    "start_time": "2021-11-16T04:04:45.300Z"
   },
   {
    "duration": -18,
    "start_time": "2021-11-16T04:04:45.304Z"
   },
   {
    "duration": -21,
    "start_time": "2021-11-16T04:04:45.309Z"
   },
   {
    "duration": -23,
    "start_time": "2021-11-16T04:04:45.313Z"
   },
   {
    "duration": -26,
    "start_time": "2021-11-16T04:04:45.318Z"
   },
   {
    "duration": -28,
    "start_time": "2021-11-16T04:04:45.322Z"
   },
   {
    "duration": -30,
    "start_time": "2021-11-16T04:04:45.326Z"
   },
   {
    "duration": -32,
    "start_time": "2021-11-16T04:04:45.330Z"
   },
   {
    "duration": -35,
    "start_time": "2021-11-16T04:04:45.335Z"
   },
   {
    "duration": -37,
    "start_time": "2021-11-16T04:04:45.339Z"
   },
   {
    "duration": -40,
    "start_time": "2021-11-16T04:04:45.344Z"
   },
   {
    "duration": -42,
    "start_time": "2021-11-16T04:04:45.348Z"
   },
   {
    "duration": 13,
    "start_time": "2021-11-16T04:04:45.353Z"
   },
   {
    "duration": 11,
    "start_time": "2021-11-16T04:04:45.357Z"
   },
   {
    "duration": 8,
    "start_time": "2021-11-16T04:04:45.362Z"
   },
   {
    "duration": 5,
    "start_time": "2021-11-16T04:04:45.366Z"
   },
   {
    "duration": 2,
    "start_time": "2021-11-16T04:04:45.371Z"
   },
   {
    "duration": -1,
    "start_time": "2021-11-16T04:04:45.375Z"
   },
   {
    "duration": -4,
    "start_time": "2021-11-16T04:04:45.379Z"
   },
   {
    "duration": -8,
    "start_time": "2021-11-16T04:04:45.384Z"
   },
   {
    "duration": -11,
    "start_time": "2021-11-16T04:04:45.389Z"
   },
   {
    "duration": 354,
    "start_time": "2021-11-16T04:11:48.927Z"
   },
   {
    "duration": 365,
    "start_time": "2021-11-16T04:12:48.943Z"
   },
   {
    "duration": 378,
    "start_time": "2021-11-16T04:12:52.617Z"
   },
   {
    "duration": 44560,
    "start_time": "2021-11-16T04:14:09.318Z"
   },
   {
    "duration": 6,
    "start_time": "2021-11-16T04:15:41.972Z"
   },
   {
    "duration": 1963,
    "start_time": "2021-11-16T04:15:43.269Z"
   },
   {
    "duration": 6,
    "start_time": "2021-11-16T04:15:58.050Z"
   },
   {
    "duration": 88,
    "start_time": "2021-11-16T04:16:01.357Z"
   },
   {
    "duration": 8,
    "start_time": "2021-11-16T04:16:06.785Z"
   },
   {
    "duration": 6,
    "start_time": "2021-11-16T04:16:08.707Z"
   },
   {
    "duration": 739,
    "start_time": "2021-11-16T04:16:09.629Z"
   },
   {
    "duration": 4,
    "start_time": "2021-11-16T04:16:34.926Z"
   },
   {
    "duration": 5,
    "start_time": "2021-11-16T04:16:36.032Z"
   },
   {
    "duration": 109657,
    "start_time": "2021-11-16T04:17:02.582Z"
   },
   {
    "duration": 35,
    "start_time": "2021-11-16T04:18:52.243Z"
   },
   {
    "duration": 10403,
    "start_time": "2021-11-16T04:18:52.281Z"
   },
   {
    "duration": 7,
    "start_time": "2021-11-16T04:19:02.687Z"
   },
   {
    "duration": 7,
    "start_time": "2021-11-16T04:19:02.697Z"
   },
   {
    "duration": 110,
    "start_time": "2021-11-16T04:19:02.706Z"
   },
   {
    "duration": 117,
    "start_time": "2021-11-16T04:19:02.819Z"
   },
   {
    "duration": 4,
    "start_time": "2021-11-16T04:19:26.751Z"
   },
   {
    "duration": 6,
    "start_time": "2021-11-16T04:19:27.725Z"
   },
   {
    "duration": 956045,
    "start_time": "2021-11-16T04:19:32.065Z"
   },
   {
    "duration": 79,
    "start_time": "2021-11-16T04:35:28.112Z"
   },
   {
    "duration": 16235,
    "start_time": "2021-11-16T04:35:28.194Z"
   },
   {
    "duration": 9,
    "start_time": "2021-11-16T04:35:44.433Z"
   },
   {
    "duration": 1080,
    "start_time": "2021-11-16T04:35:44.445Z"
   },
   {
    "duration": 530,
    "start_time": "2021-11-16T04:35:45.528Z"
   },
   {
    "duration": 15534,
    "start_time": "2021-11-16T04:35:46.068Z"
   },
   {
    "duration": -70,
    "start_time": "2021-11-16T04:36:01.678Z"
   },
   {
    "duration": -79,
    "start_time": "2021-11-16T04:36:01.689Z"
   },
   {
    "duration": -92,
    "start_time": "2021-11-16T04:36:01.704Z"
   },
   {
    "duration": -97,
    "start_time": "2021-11-16T04:36:01.712Z"
   },
   {
    "duration": -108,
    "start_time": "2021-11-16T04:36:01.724Z"
   },
   {
    "duration": -115,
    "start_time": "2021-11-16T04:36:01.734Z"
   },
   {
    "duration": -124,
    "start_time": "2021-11-16T04:36:01.745Z"
   },
   {
    "duration": -133,
    "start_time": "2021-11-16T04:36:01.755Z"
   },
   {
    "duration": -154,
    "start_time": "2021-11-16T04:36:01.778Z"
   },
   {
    "duration": -163,
    "start_time": "2021-11-16T04:36:01.789Z"
   },
   {
    "duration": -173,
    "start_time": "2021-11-16T04:36:01.801Z"
   },
   {
    "duration": -179,
    "start_time": "2021-11-16T04:36:01.809Z"
   },
   {
    "duration": -188,
    "start_time": "2021-11-16T04:36:01.820Z"
   },
   {
    "duration": -160,
    "start_time": "2021-11-16T04:36:01.830Z"
   },
   {
    "duration": -168,
    "start_time": "2021-11-16T04:36:01.840Z"
   },
   {
    "duration": -176,
    "start_time": "2021-11-16T04:36:01.849Z"
   },
   {
    "duration": -177,
    "start_time": "2021-11-16T04:36:01.857Z"
   },
   {
    "duration": -183,
    "start_time": "2021-11-16T04:36:01.865Z"
   },
   {
    "duration": -191,
    "start_time": "2021-11-16T04:36:01.875Z"
   },
   {
    "duration": -208,
    "start_time": "2021-11-16T04:36:01.894Z"
   },
   {
    "duration": -214,
    "start_time": "2021-11-16T04:36:01.902Z"
   },
   {
    "duration": -221,
    "start_time": "2021-11-16T04:36:01.910Z"
   },
   {
    "duration": -229,
    "start_time": "2021-11-16T04:36:01.920Z"
   },
   {
    "duration": -234,
    "start_time": "2021-11-16T04:36:01.927Z"
   },
   {
    "duration": -241,
    "start_time": "2021-11-16T04:36:01.938Z"
   },
   {
    "duration": -181,
    "start_time": "2021-11-16T04:36:01.947Z"
   },
   {
    "duration": -214,
    "start_time": "2021-11-16T04:36:01.982Z"
   },
   {
    "duration": -250,
    "start_time": "2021-11-16T04:36:02.021Z"
   },
   {
    "duration": -262,
    "start_time": "2021-11-16T04:36:02.035Z"
   },
   {
    "duration": -268,
    "start_time": "2021-11-16T04:36:02.043Z"
   },
   {
    "duration": 2673,
    "start_time": "2021-11-16T04:36:08.513Z"
   },
   {
    "duration": 7,
    "start_time": "2021-11-16T04:36:16.728Z"
   },
   {
    "duration": 14,
    "start_time": "2021-11-16T04:36:18.929Z"
   },
   {
    "duration": 6,
    "start_time": "2021-11-16T04:37:00.972Z"
   },
   {
    "duration": 8,
    "start_time": "2021-11-16T04:37:00.989Z"
   },
   {
    "duration": 1142988,
    "start_time": "2021-11-16T04:37:01.000Z"
   },
   {
    "duration": 7,
    "start_time": "2021-11-16T04:56:03.990Z"
   },
   {
    "duration": 2999,
    "start_time": "2021-11-16T04:56:04.000Z"
   },
   {
    "duration": 1185,
    "start_time": "2021-11-16T04:56:07.001Z"
   },
   {
    "duration": 7,
    "start_time": "2021-11-16T04:56:08.188Z"
   },
   {
    "duration": 13,
    "start_time": "2021-11-16T04:56:08.199Z"
   },
   {
    "duration": 29,
    "start_time": "2021-11-16T04:56:08.215Z"
   },
   {
    "duration": 6,
    "start_time": "2021-11-16T04:56:08.269Z"
   },
   {
    "duration": 16,
    "start_time": "2021-11-16T04:56:08.278Z"
   },
   {
    "duration": 1154733,
    "start_time": "2021-11-16T04:56:08.296Z"
   },
   {
    "duration": 38,
    "start_time": "2021-11-16T05:15:23.031Z"
   },
   {
    "duration": 8,
    "start_time": "2021-11-16T05:15:23.076Z"
   },
   {
    "duration": 1228,
    "start_time": "2021-11-16T05:15:23.087Z"
   },
   {
    "duration": 437,
    "start_time": "2021-11-16T05:15:24.317Z"
   },
   {
    "duration": 28,
    "start_time": "2021-11-16T05:15:24.756Z"
   },
   {
    "duration": 8,
    "start_time": "2021-11-16T05:15:24.787Z"
   },
   {
    "duration": 5,
    "start_time": "2021-11-16T05:15:24.798Z"
   },
   {
    "duration": 24,
    "start_time": "2021-11-16T05:15:24.806Z"
   },
   {
    "duration": 4,
    "start_time": "2021-11-16T05:15:24.832Z"
   },
   {
    "duration": 31,
    "start_time": "2021-11-16T05:15:24.839Z"
   },
   {
    "duration": 552748,
    "start_time": "2021-11-16T05:15:24.875Z"
   },
   {
    "duration": 48,
    "start_time": "2021-11-16T05:24:37.626Z"
   },
   {
    "duration": 8,
    "start_time": "2021-11-16T05:24:37.678Z"
   },
   {
    "duration": 1095,
    "start_time": "2021-11-16T05:24:37.688Z"
   },
   {
    "duration": 908,
    "start_time": "2021-11-16T05:24:38.786Z"
   },
   {
    "duration": 14,
    "start_time": "2021-11-16T05:24:39.696Z"
   },
   {
    "duration": 12,
    "start_time": "2021-11-16T05:26:29.599Z"
   },
   {
    "duration": 8,
    "start_time": "2021-11-16T05:39:13.268Z"
   },
   {
    "duration": -33,
    "start_time": "2021-11-16T05:40:25.947Z"
   },
   {
    "duration": 21153,
    "start_time": "2021-11-16T05:40:40.392Z"
   }
  ],
  "colab": {
   "collapsed_sections": [],
   "name": "churn-supervised-learning-v2-copy.ipynb",
   "provenance": []
  },
  "kernelspec": {
   "display_name": "Python 3",
   "language": "python",
   "name": "python3"
  },
  "language_info": {
   "codemirror_mode": {
    "name": "ipython",
    "version": 3
   },
   "file_extension": ".py",
   "mimetype": "text/x-python",
   "name": "python",
   "nbconvert_exporter": "python",
   "pygments_lexer": "ipython3",
   "version": "3.8.5"
  },
  "toc": {
   "base_numbering": 1,
   "nav_menu": {
    "height": "217px",
    "width": "260px"
   },
   "number_sections": true,
   "sideBar": true,
   "skip_h1_title": true,
   "title_cell": "Table of Contents",
   "title_sidebar": "Contents",
   "toc_cell": false,
   "toc_position": {},
   "toc_section_display": true,
   "toc_window_display": false
  }
 },
 "nbformat": 4,
 "nbformat_minor": 1
}
